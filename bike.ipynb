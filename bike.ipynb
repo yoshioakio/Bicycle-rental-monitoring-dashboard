{
  "cells": [
    {
      "cell_type": "markdown",
      "metadata": {
        "id": "H9wADwK78DCz"
      },
      "source": [
        "# Proyek Analisis Data: Bike Sharing Dataset 🚴🏼‍♂️🚴🏼‍♀️\n",
        "- **Nama:** Muhamad Fajri Permana Haryanto\n",
        "- **Email:** muhamadfajri2804@gmail.com\n",
        "- **ID Dicoding:** mijimo"
      ]
    },
    {
      "cell_type": "markdown",
      "metadata": {
        "id": "wceAlAxq7Vck"
      },
      "source": [
        "## Tujuan Analisis ⛳"
      ]
    },
    {
      "cell_type": "markdown",
      "metadata": {
        "id": "Y76AFHwU73Ca"
      },
      "source": [
        "Dataset Bike Sharing dari Kaggle mencatat data historis penyewaan sepeda berdasarkan berbagai variabel, seperti waktu (jam, hari, bulan, dan musim), kondisi cuaca, serta tipe pengguna (kasual dan terdaftar).\n",
        "\n",
        "\n",
        "Tujuan dari analisis ini adalah untuk mengidentifikasi pola penggunaan sepeda dan memahami faktor-faktor yang memengaruhi tingkat penyewaan. Dengan mengeksplorasi tren harian, musiman, serta perilaku pelanggan, hasil analisis ini dapat memberikan wawasan yang berguna bagi pengelola layanan berbagi sepeda dalam mengoptimalkan operasional dan strategi bisnis."
      ]
    },
    {
      "cell_type": "markdown",
      "metadata": {
        "id": "eE0raob58DC0"
      },
      "source": [
        "## Menentukan Pertanyaan Bisnis 📑"
      ]
    },
    {
      "cell_type": "markdown",
      "metadata": {
        "id": "GmQeQ5YF8DC0"
      },
      "source": [
        "1️⃣ Bagaimana Tren Penyewaan Sepeda Sepanjang Hari? (Line Chart)\n",
        "\n",
        "2️⃣ Bagaimana Pola Penyewaan Sepeda Selama Perminggu dan Perbulannya? (Bar Chart)\n",
        "\n",
        "3️⃣ Bagaimana Distribusi Penyewaan Sepeda Berdasarkan Musim? (Pie Chart)\n",
        "\n",
        "4️⃣ Bagaimana Perbandingan Penyewaan Sepeda Antara Pengguna Kasual dan Terdaftar? (Line Chart)\n",
        "\n",
        "5️⃣ Pada Hari Apa Penyewaan Sepeda Mencapai Jumlah Tertinggi dan Terendah? (Bar Chart)\n",
        "\n",
        "6️⃣ Bagaimana Perilaku Penyewaan Pelanggan Berdasarkan RFM Analysis? (Bar Chart - Histograms)\n",
        "  * Recency: Seberapa baru pelanggan terakhir menyewa sepeda\n",
        "  * Frequency: Seberapa sering pelanggan menyewa sepeda\n",
        "  * Monetary: Total penyewaan yang telah dilakukan pelanggan\n",
        "\n",
        "7️⃣ Bagaimana Pola Penyewaan Sepeda Berdasarkan Kategori Waktu? (Horizontal Bar Chart)"
      ]
    },
    {
      "cell_type": "markdown",
      "metadata": {
        "id": "H-z4QGlO8DC1"
      },
      "source": [
        "## Import Semua Packages/Library yang Digunakan 🗃️"
      ]
    },
    {
      "cell_type": "code",
      "execution_count": 1,
      "metadata": {
        "id": "FVYwaObI8DC1"
      },
      "outputs": [],
      "source": [
        "# import kagglehub\n",
        "import numpy as np\n",
        "import pandas as pd\n",
        "import matplotlib.pyplot as plt\n",
        "import seaborn as sns\n",
        "# import os"
      ]
    },
    {
      "cell_type": "markdown",
      "metadata": {
        "id": "h_Sh51Xy8DC1"
      },
      "source": [
        "## Data Wrangling 🧰"
      ]
    },
    {
      "cell_type": "markdown",
      "metadata": {
        "id": "sXU2GBYu8DC1"
      },
      "source": [
        "### Gathering Data 🎫"
      ]
    },
    {
      "cell_type": "markdown",
      "metadata": {
        "id": "xigLG1O8BdS7"
      },
      "source": [
        "#### Masukan file dataset dari kaggle"
      ]
    },
    {
      "cell_type": "code",
      "execution_count": 2,
      "metadata": {
        "id": "zjCBk1BI8DC1"
      },
      "outputs": [],
      "source": [
        "# path = kagglehub.dataset_download(\"lakshmi25npathi/bike-sharing-dataset\")"
      ]
    },
    {
      "cell_type": "markdown",
      "metadata": {
        "id": "TO3Qjo2RBlic"
      },
      "source": [
        "#### Load data set hari (day_df)"
      ]
    },
    {
      "cell_type": "code",
      "execution_count": 3,
      "metadata": {
        "colab": {
          "base_uri": "https://localhost:8080/",
          "height": 206
        },
        "id": "yTJ2N-owAeW6",
        "outputId": "1a3f609d-519e-4300-f7e9-fbc9bc03c5b2"
      },
      "outputs": [],
      "source": [
        "# file_path = os.path.join(path, 'day.csv')\n",
        "# day_df = pd.read_csv(file_path)\n",
        "# day_df.head()"
      ]
    },
    {
      "cell_type": "markdown",
      "metadata": {
        "id": "WjsNjCd5Bt1S"
      },
      "source": [
        "#### Load data set jam (hour_df)"
      ]
    },
    {
      "cell_type": "code",
      "execution_count": 4,
      "metadata": {
        "colab": {
          "base_uri": "https://localhost:8080/",
          "height": 206
        },
        "id": "gfd6frgfBQdR",
        "outputId": "22c1cc86-f9f2-4c91-b115-09b994643d93"
      },
      "outputs": [],
      "source": [
        "# file_path = os.path.join(path, 'hour.csv')\n",
        "# hour_df = pd.read_csv(file_path)\n",
        "# hour_df.head()"
      ]
    },
    {
      "cell_type": "markdown",
      "metadata": {
        "id": "3ktbmL7yBvod"
      },
      "source": [
        "#### Jika menggunakan Vs Code"
      ]
    },
    {
      "cell_type": "markdown",
      "metadata": {
        "id": "D6WzyuULZ5DW"
      },
      "source": [
        "**Untuk load data day.csv**"
      ]
    },
    {
      "cell_type": "code",
      "execution_count": 5,
      "metadata": {
        "id": "YbXAlyFWB0y5"
      },
      "outputs": [
        {
          "data": {
            "text/html": [
              "<div>\n",
              "<style scoped>\n",
              "    .dataframe tbody tr th:only-of-type {\n",
              "        vertical-align: middle;\n",
              "    }\n",
              "\n",
              "    .dataframe tbody tr th {\n",
              "        vertical-align: top;\n",
              "    }\n",
              "\n",
              "    .dataframe thead th {\n",
              "        text-align: right;\n",
              "    }\n",
              "</style>\n",
              "<table border=\"1\" class=\"dataframe\">\n",
              "  <thead>\n",
              "    <tr style=\"text-align: right;\">\n",
              "      <th></th>\n",
              "      <th>instant</th>\n",
              "      <th>dteday</th>\n",
              "      <th>season</th>\n",
              "      <th>yr</th>\n",
              "      <th>mnth</th>\n",
              "      <th>holiday</th>\n",
              "      <th>weekday</th>\n",
              "      <th>workingday</th>\n",
              "      <th>weathersit</th>\n",
              "      <th>temp</th>\n",
              "      <th>atemp</th>\n",
              "      <th>hum</th>\n",
              "      <th>windspeed</th>\n",
              "      <th>casual</th>\n",
              "      <th>registered</th>\n",
              "      <th>cnt</th>\n",
              "    </tr>\n",
              "  </thead>\n",
              "  <tbody>\n",
              "    <tr>\n",
              "      <th>0</th>\n",
              "      <td>1</td>\n",
              "      <td>2011-01-01</td>\n",
              "      <td>1</td>\n",
              "      <td>0</td>\n",
              "      <td>1</td>\n",
              "      <td>0</td>\n",
              "      <td>6</td>\n",
              "      <td>0</td>\n",
              "      <td>2</td>\n",
              "      <td>0.344167</td>\n",
              "      <td>0.363625</td>\n",
              "      <td>0.805833</td>\n",
              "      <td>0.160446</td>\n",
              "      <td>331</td>\n",
              "      <td>654</td>\n",
              "      <td>985</td>\n",
              "    </tr>\n",
              "    <tr>\n",
              "      <th>1</th>\n",
              "      <td>2</td>\n",
              "      <td>2011-01-02</td>\n",
              "      <td>1</td>\n",
              "      <td>0</td>\n",
              "      <td>1</td>\n",
              "      <td>0</td>\n",
              "      <td>0</td>\n",
              "      <td>0</td>\n",
              "      <td>2</td>\n",
              "      <td>0.363478</td>\n",
              "      <td>0.353739</td>\n",
              "      <td>0.696087</td>\n",
              "      <td>0.248539</td>\n",
              "      <td>131</td>\n",
              "      <td>670</td>\n",
              "      <td>801</td>\n",
              "    </tr>\n",
              "    <tr>\n",
              "      <th>2</th>\n",
              "      <td>3</td>\n",
              "      <td>2011-01-03</td>\n",
              "      <td>1</td>\n",
              "      <td>0</td>\n",
              "      <td>1</td>\n",
              "      <td>0</td>\n",
              "      <td>1</td>\n",
              "      <td>1</td>\n",
              "      <td>1</td>\n",
              "      <td>0.196364</td>\n",
              "      <td>0.189405</td>\n",
              "      <td>0.437273</td>\n",
              "      <td>0.248309</td>\n",
              "      <td>120</td>\n",
              "      <td>1229</td>\n",
              "      <td>1349</td>\n",
              "    </tr>\n",
              "    <tr>\n",
              "      <th>3</th>\n",
              "      <td>4</td>\n",
              "      <td>2011-01-04</td>\n",
              "      <td>1</td>\n",
              "      <td>0</td>\n",
              "      <td>1</td>\n",
              "      <td>0</td>\n",
              "      <td>2</td>\n",
              "      <td>1</td>\n",
              "      <td>1</td>\n",
              "      <td>0.200000</td>\n",
              "      <td>0.212122</td>\n",
              "      <td>0.590435</td>\n",
              "      <td>0.160296</td>\n",
              "      <td>108</td>\n",
              "      <td>1454</td>\n",
              "      <td>1562</td>\n",
              "    </tr>\n",
              "    <tr>\n",
              "      <th>4</th>\n",
              "      <td>5</td>\n",
              "      <td>2011-01-05</td>\n",
              "      <td>1</td>\n",
              "      <td>0</td>\n",
              "      <td>1</td>\n",
              "      <td>0</td>\n",
              "      <td>3</td>\n",
              "      <td>1</td>\n",
              "      <td>1</td>\n",
              "      <td>0.226957</td>\n",
              "      <td>0.229270</td>\n",
              "      <td>0.436957</td>\n",
              "      <td>0.186900</td>\n",
              "      <td>82</td>\n",
              "      <td>1518</td>\n",
              "      <td>1600</td>\n",
              "    </tr>\n",
              "  </tbody>\n",
              "</table>\n",
              "</div>"
            ],
            "text/plain": [
              "   instant      dteday  season  yr  mnth  holiday  weekday  workingday  \\\n",
              "0        1  2011-01-01       1   0     1        0        6           0   \n",
              "1        2  2011-01-02       1   0     1        0        0           0   \n",
              "2        3  2011-01-03       1   0     1        0        1           1   \n",
              "3        4  2011-01-04       1   0     1        0        2           1   \n",
              "4        5  2011-01-05       1   0     1        0        3           1   \n",
              "\n",
              "   weathersit      temp     atemp       hum  windspeed  casual  registered  \\\n",
              "0           2  0.344167  0.363625  0.805833   0.160446     331         654   \n",
              "1           2  0.363478  0.353739  0.696087   0.248539     131         670   \n",
              "2           1  0.196364  0.189405  0.437273   0.248309     120        1229   \n",
              "3           1  0.200000  0.212122  0.590435   0.160296     108        1454   \n",
              "4           1  0.226957  0.229270  0.436957   0.186900      82        1518   \n",
              "\n",
              "    cnt  \n",
              "0   985  \n",
              "1   801  \n",
              "2  1349  \n",
              "3  1562  \n",
              "4  1600  "
            ]
          },
          "execution_count": 5,
          "metadata": {},
          "output_type": "execute_result"
        }
      ],
      "source": [
        "day_df = pd.read_csv(\"data_set/day.csv\")\n",
        "day_df.head()"
      ]
    },
    {
      "cell_type": "markdown",
      "metadata": {
        "id": "2Nxyxka3Z5zv"
      },
      "source": [
        "**Untuk load data hour.csv**"
      ]
    },
    {
      "cell_type": "code",
      "execution_count": 6,
      "metadata": {
        "id": "teoW4KsYZ6Uk"
      },
      "outputs": [
        {
          "data": {
            "text/html": [
              "<div>\n",
              "<style scoped>\n",
              "    .dataframe tbody tr th:only-of-type {\n",
              "        vertical-align: middle;\n",
              "    }\n",
              "\n",
              "    .dataframe tbody tr th {\n",
              "        vertical-align: top;\n",
              "    }\n",
              "\n",
              "    .dataframe thead th {\n",
              "        text-align: right;\n",
              "    }\n",
              "</style>\n",
              "<table border=\"1\" class=\"dataframe\">\n",
              "  <thead>\n",
              "    <tr style=\"text-align: right;\">\n",
              "      <th></th>\n",
              "      <th>instant</th>\n",
              "      <th>dteday</th>\n",
              "      <th>season</th>\n",
              "      <th>yr</th>\n",
              "      <th>mnth</th>\n",
              "      <th>hr</th>\n",
              "      <th>holiday</th>\n",
              "      <th>weekday</th>\n",
              "      <th>workingday</th>\n",
              "      <th>weathersit</th>\n",
              "      <th>temp</th>\n",
              "      <th>atemp</th>\n",
              "      <th>hum</th>\n",
              "      <th>windspeed</th>\n",
              "      <th>casual</th>\n",
              "      <th>registered</th>\n",
              "      <th>cnt</th>\n",
              "    </tr>\n",
              "  </thead>\n",
              "  <tbody>\n",
              "    <tr>\n",
              "      <th>0</th>\n",
              "      <td>1</td>\n",
              "      <td>2011-01-01</td>\n",
              "      <td>1</td>\n",
              "      <td>0</td>\n",
              "      <td>1</td>\n",
              "      <td>0</td>\n",
              "      <td>0</td>\n",
              "      <td>6</td>\n",
              "      <td>0</td>\n",
              "      <td>1</td>\n",
              "      <td>0.24</td>\n",
              "      <td>0.2879</td>\n",
              "      <td>0.81</td>\n",
              "      <td>0.0</td>\n",
              "      <td>3</td>\n",
              "      <td>13</td>\n",
              "      <td>16</td>\n",
              "    </tr>\n",
              "    <tr>\n",
              "      <th>1</th>\n",
              "      <td>2</td>\n",
              "      <td>2011-01-01</td>\n",
              "      <td>1</td>\n",
              "      <td>0</td>\n",
              "      <td>1</td>\n",
              "      <td>1</td>\n",
              "      <td>0</td>\n",
              "      <td>6</td>\n",
              "      <td>0</td>\n",
              "      <td>1</td>\n",
              "      <td>0.22</td>\n",
              "      <td>0.2727</td>\n",
              "      <td>0.80</td>\n",
              "      <td>0.0</td>\n",
              "      <td>8</td>\n",
              "      <td>32</td>\n",
              "      <td>40</td>\n",
              "    </tr>\n",
              "    <tr>\n",
              "      <th>2</th>\n",
              "      <td>3</td>\n",
              "      <td>2011-01-01</td>\n",
              "      <td>1</td>\n",
              "      <td>0</td>\n",
              "      <td>1</td>\n",
              "      <td>2</td>\n",
              "      <td>0</td>\n",
              "      <td>6</td>\n",
              "      <td>0</td>\n",
              "      <td>1</td>\n",
              "      <td>0.22</td>\n",
              "      <td>0.2727</td>\n",
              "      <td>0.80</td>\n",
              "      <td>0.0</td>\n",
              "      <td>5</td>\n",
              "      <td>27</td>\n",
              "      <td>32</td>\n",
              "    </tr>\n",
              "    <tr>\n",
              "      <th>3</th>\n",
              "      <td>4</td>\n",
              "      <td>2011-01-01</td>\n",
              "      <td>1</td>\n",
              "      <td>0</td>\n",
              "      <td>1</td>\n",
              "      <td>3</td>\n",
              "      <td>0</td>\n",
              "      <td>6</td>\n",
              "      <td>0</td>\n",
              "      <td>1</td>\n",
              "      <td>0.24</td>\n",
              "      <td>0.2879</td>\n",
              "      <td>0.75</td>\n",
              "      <td>0.0</td>\n",
              "      <td>3</td>\n",
              "      <td>10</td>\n",
              "      <td>13</td>\n",
              "    </tr>\n",
              "    <tr>\n",
              "      <th>4</th>\n",
              "      <td>5</td>\n",
              "      <td>2011-01-01</td>\n",
              "      <td>1</td>\n",
              "      <td>0</td>\n",
              "      <td>1</td>\n",
              "      <td>4</td>\n",
              "      <td>0</td>\n",
              "      <td>6</td>\n",
              "      <td>0</td>\n",
              "      <td>1</td>\n",
              "      <td>0.24</td>\n",
              "      <td>0.2879</td>\n",
              "      <td>0.75</td>\n",
              "      <td>0.0</td>\n",
              "      <td>0</td>\n",
              "      <td>1</td>\n",
              "      <td>1</td>\n",
              "    </tr>\n",
              "  </tbody>\n",
              "</table>\n",
              "</div>"
            ],
            "text/plain": [
              "   instant      dteday  season  yr  mnth  hr  holiday  weekday  workingday  \\\n",
              "0        1  2011-01-01       1   0     1   0        0        6           0   \n",
              "1        2  2011-01-01       1   0     1   1        0        6           0   \n",
              "2        3  2011-01-01       1   0     1   2        0        6           0   \n",
              "3        4  2011-01-01       1   0     1   3        0        6           0   \n",
              "4        5  2011-01-01       1   0     1   4        0        6           0   \n",
              "\n",
              "   weathersit  temp   atemp   hum  windspeed  casual  registered  cnt  \n",
              "0           1  0.24  0.2879  0.81        0.0       3          13   16  \n",
              "1           1  0.22  0.2727  0.80        0.0       8          32   40  \n",
              "2           1  0.22  0.2727  0.80        0.0       5          27   32  \n",
              "3           1  0.24  0.2879  0.75        0.0       3          10   13  \n",
              "4           1  0.24  0.2879  0.75        0.0       0           1    1  "
            ]
          },
          "execution_count": 6,
          "metadata": {},
          "output_type": "execute_result"
        }
      ],
      "source": [
        "hour_df = pd.read_csv(\"data_set/hour.csv\")\n",
        "hour_df.head()"
      ]
    },
    {
      "cell_type": "markdown",
      "metadata": {
        "id": "FHSiqaZp8DC1"
      },
      "source": [
        "### Assessing Data 💯"
      ]
    },
    {
      "cell_type": "markdown",
      "metadata": {
        "id": "gl4RByEMB-hF"
      },
      "source": [
        "#### Menilai data set day_df"
      ]
    },
    {
      "cell_type": "markdown",
      "metadata": {
        "id": "_QtM0cOHpozz"
      },
      "source": [
        "**Mengecek tipe data**"
      ]
    },
    {
      "cell_type": "code",
      "execution_count": 7,
      "metadata": {
        "colab": {
          "base_uri": "https://localhost:8080/"
        },
        "id": "ax-3tEjc9Cj1",
        "outputId": "8540c53c-3b68-4499-8bd7-22f646178db6"
      },
      "outputs": [
        {
          "name": "stdout",
          "output_type": "stream",
          "text": [
            "<class 'pandas.core.frame.DataFrame'>\n",
            "RangeIndex: 731 entries, 0 to 730\n",
            "Data columns (total 16 columns):\n",
            " #   Column      Non-Null Count  Dtype  \n",
            "---  ------      --------------  -----  \n",
            " 0   instant     731 non-null    int64  \n",
            " 1   dteday      731 non-null    object \n",
            " 2   season      731 non-null    int64  \n",
            " 3   yr          731 non-null    int64  \n",
            " 4   mnth        731 non-null    int64  \n",
            " 5   holiday     731 non-null    int64  \n",
            " 6   weekday     731 non-null    int64  \n",
            " 7   workingday  731 non-null    int64  \n",
            " 8   weathersit  731 non-null    int64  \n",
            " 9   temp        731 non-null    float64\n",
            " 10  atemp       731 non-null    float64\n",
            " 11  hum         731 non-null    float64\n",
            " 12  windspeed   731 non-null    float64\n",
            " 13  casual      731 non-null    int64  \n",
            " 14  registered  731 non-null    int64  \n",
            " 15  cnt         731 non-null    int64  \n",
            "dtypes: float64(4), int64(11), object(1)\n",
            "memory usage: 91.5+ KB\n"
          ]
        }
      ],
      "source": [
        "day_df.info()"
      ]
    },
    {
      "cell_type": "markdown",
      "metadata": {
        "id": "X_BLyu3rpxED"
      },
      "source": [
        "**Mengecek nilai unik/variasi**"
      ]
    },
    {
      "cell_type": "code",
      "execution_count": 8,
      "metadata": {
        "colab": {
          "base_uri": "https://localhost:8080/",
          "height": 586
        },
        "id": "J1Ct0EbcEEdE",
        "outputId": "d643e7fb-f78b-44e4-a0ff-d9e6c41ff499"
      },
      "outputs": [
        {
          "data": {
            "text/plain": [
              "instant       731\n",
              "dteday        731\n",
              "season          4\n",
              "yr              2\n",
              "mnth           12\n",
              "holiday         2\n",
              "weekday         7\n",
              "workingday      2\n",
              "weathersit      3\n",
              "temp          499\n",
              "atemp         690\n",
              "hum           595\n",
              "windspeed     650\n",
              "casual        606\n",
              "registered    679\n",
              "cnt           696\n",
              "dtype: int64"
            ]
          },
          "execution_count": 8,
          "metadata": {},
          "output_type": "execute_result"
        }
      ],
      "source": [
        "day_df.apply(lambda x: len(x.unique()))"
      ]
    },
    {
      "cell_type": "markdown",
      "metadata": {
        "id": "ElQQgiTCp6eU"
      },
      "source": [
        "**Mengecek jumlah missing value / nilai kosong**"
      ]
    },
    {
      "cell_type": "code",
      "execution_count": 9,
      "metadata": {
        "colab": {
          "base_uri": "https://localhost:8080/",
          "height": 586
        },
        "id": "E9O2PNixCGtx",
        "outputId": "38373e69-65db-4c64-a513-acb4c6571d71"
      },
      "outputs": [
        {
          "data": {
            "text/plain": [
              "instant       0\n",
              "dteday        0\n",
              "season        0\n",
              "yr            0\n",
              "mnth          0\n",
              "holiday       0\n",
              "weekday       0\n",
              "workingday    0\n",
              "weathersit    0\n",
              "temp          0\n",
              "atemp         0\n",
              "hum           0\n",
              "windspeed     0\n",
              "casual        0\n",
              "registered    0\n",
              "cnt           0\n",
              "dtype: int64"
            ]
          },
          "execution_count": 9,
          "metadata": {},
          "output_type": "execute_result"
        }
      ],
      "source": [
        "day_df.isna().sum()"
      ]
    },
    {
      "cell_type": "markdown",
      "metadata": {
        "id": "Am2wL-FZqAbo"
      },
      "source": [
        "**Mengecek jumlah duplikasi**"
      ]
    },
    {
      "cell_type": "code",
      "execution_count": 10,
      "metadata": {
        "colab": {
          "base_uri": "https://localhost:8080/"
        },
        "id": "ProTyovPCJp1",
        "outputId": "bde9457f-3ec3-4b3c-d86f-c76c65183106"
      },
      "outputs": [
        {
          "name": "stdout",
          "output_type": "stream",
          "text": [
            "Jumlah duplikasi:  0\n"
          ]
        }
      ],
      "source": [
        "print(\"Jumlah duplikasi: \", day_df.duplicated().sum())"
      ]
    },
    {
      "cell_type": "markdown",
      "metadata": {
        "id": "vuYvV-7cqY-Y"
      },
      "source": [
        "**Melihat gambaran isi data**"
      ]
    },
    {
      "cell_type": "code",
      "execution_count": 11,
      "metadata": {
        "colab": {
          "base_uri": "https://localhost:8080/",
          "height": 301
        },
        "id": "3B7E8o3ICMyT",
        "outputId": "c40d7a28-fb65-4b5c-8bc5-4029b7d27a95"
      },
      "outputs": [
        {
          "data": {
            "text/html": [
              "<div>\n",
              "<style scoped>\n",
              "    .dataframe tbody tr th:only-of-type {\n",
              "        vertical-align: middle;\n",
              "    }\n",
              "\n",
              "    .dataframe tbody tr th {\n",
              "        vertical-align: top;\n",
              "    }\n",
              "\n",
              "    .dataframe thead th {\n",
              "        text-align: right;\n",
              "    }\n",
              "</style>\n",
              "<table border=\"1\" class=\"dataframe\">\n",
              "  <thead>\n",
              "    <tr style=\"text-align: right;\">\n",
              "      <th></th>\n",
              "      <th>instant</th>\n",
              "      <th>season</th>\n",
              "      <th>yr</th>\n",
              "      <th>mnth</th>\n",
              "      <th>holiday</th>\n",
              "      <th>weekday</th>\n",
              "      <th>workingday</th>\n",
              "      <th>weathersit</th>\n",
              "      <th>temp</th>\n",
              "      <th>atemp</th>\n",
              "      <th>hum</th>\n",
              "      <th>windspeed</th>\n",
              "      <th>casual</th>\n",
              "      <th>registered</th>\n",
              "      <th>cnt</th>\n",
              "    </tr>\n",
              "  </thead>\n",
              "  <tbody>\n",
              "    <tr>\n",
              "      <th>count</th>\n",
              "      <td>731.000000</td>\n",
              "      <td>731.000000</td>\n",
              "      <td>731.000000</td>\n",
              "      <td>731.000000</td>\n",
              "      <td>731.000000</td>\n",
              "      <td>731.000000</td>\n",
              "      <td>731.000000</td>\n",
              "      <td>731.000000</td>\n",
              "      <td>731.000000</td>\n",
              "      <td>731.000000</td>\n",
              "      <td>731.000000</td>\n",
              "      <td>731.000000</td>\n",
              "      <td>731.000000</td>\n",
              "      <td>731.000000</td>\n",
              "      <td>731.000000</td>\n",
              "    </tr>\n",
              "    <tr>\n",
              "      <th>mean</th>\n",
              "      <td>366.000000</td>\n",
              "      <td>2.496580</td>\n",
              "      <td>0.500684</td>\n",
              "      <td>6.519836</td>\n",
              "      <td>0.028728</td>\n",
              "      <td>2.997264</td>\n",
              "      <td>0.683995</td>\n",
              "      <td>1.395349</td>\n",
              "      <td>0.495385</td>\n",
              "      <td>0.474354</td>\n",
              "      <td>0.627894</td>\n",
              "      <td>0.190486</td>\n",
              "      <td>848.176471</td>\n",
              "      <td>3656.172367</td>\n",
              "      <td>4504.348837</td>\n",
              "    </tr>\n",
              "    <tr>\n",
              "      <th>std</th>\n",
              "      <td>211.165812</td>\n",
              "      <td>1.110807</td>\n",
              "      <td>0.500342</td>\n",
              "      <td>3.451913</td>\n",
              "      <td>0.167155</td>\n",
              "      <td>2.004787</td>\n",
              "      <td>0.465233</td>\n",
              "      <td>0.544894</td>\n",
              "      <td>0.183051</td>\n",
              "      <td>0.162961</td>\n",
              "      <td>0.142429</td>\n",
              "      <td>0.077498</td>\n",
              "      <td>686.622488</td>\n",
              "      <td>1560.256377</td>\n",
              "      <td>1937.211452</td>\n",
              "    </tr>\n",
              "    <tr>\n",
              "      <th>min</th>\n",
              "      <td>1.000000</td>\n",
              "      <td>1.000000</td>\n",
              "      <td>0.000000</td>\n",
              "      <td>1.000000</td>\n",
              "      <td>0.000000</td>\n",
              "      <td>0.000000</td>\n",
              "      <td>0.000000</td>\n",
              "      <td>1.000000</td>\n",
              "      <td>0.059130</td>\n",
              "      <td>0.079070</td>\n",
              "      <td>0.000000</td>\n",
              "      <td>0.022392</td>\n",
              "      <td>2.000000</td>\n",
              "      <td>20.000000</td>\n",
              "      <td>22.000000</td>\n",
              "    </tr>\n",
              "    <tr>\n",
              "      <th>25%</th>\n",
              "      <td>183.500000</td>\n",
              "      <td>2.000000</td>\n",
              "      <td>0.000000</td>\n",
              "      <td>4.000000</td>\n",
              "      <td>0.000000</td>\n",
              "      <td>1.000000</td>\n",
              "      <td>0.000000</td>\n",
              "      <td>1.000000</td>\n",
              "      <td>0.337083</td>\n",
              "      <td>0.337842</td>\n",
              "      <td>0.520000</td>\n",
              "      <td>0.134950</td>\n",
              "      <td>315.500000</td>\n",
              "      <td>2497.000000</td>\n",
              "      <td>3152.000000</td>\n",
              "    </tr>\n",
              "    <tr>\n",
              "      <th>50%</th>\n",
              "      <td>366.000000</td>\n",
              "      <td>3.000000</td>\n",
              "      <td>1.000000</td>\n",
              "      <td>7.000000</td>\n",
              "      <td>0.000000</td>\n",
              "      <td>3.000000</td>\n",
              "      <td>1.000000</td>\n",
              "      <td>1.000000</td>\n",
              "      <td>0.498333</td>\n",
              "      <td>0.486733</td>\n",
              "      <td>0.626667</td>\n",
              "      <td>0.180975</td>\n",
              "      <td>713.000000</td>\n",
              "      <td>3662.000000</td>\n",
              "      <td>4548.000000</td>\n",
              "    </tr>\n",
              "    <tr>\n",
              "      <th>75%</th>\n",
              "      <td>548.500000</td>\n",
              "      <td>3.000000</td>\n",
              "      <td>1.000000</td>\n",
              "      <td>10.000000</td>\n",
              "      <td>0.000000</td>\n",
              "      <td>5.000000</td>\n",
              "      <td>1.000000</td>\n",
              "      <td>2.000000</td>\n",
              "      <td>0.655417</td>\n",
              "      <td>0.608602</td>\n",
              "      <td>0.730209</td>\n",
              "      <td>0.233214</td>\n",
              "      <td>1096.000000</td>\n",
              "      <td>4776.500000</td>\n",
              "      <td>5956.000000</td>\n",
              "    </tr>\n",
              "    <tr>\n",
              "      <th>max</th>\n",
              "      <td>731.000000</td>\n",
              "      <td>4.000000</td>\n",
              "      <td>1.000000</td>\n",
              "      <td>12.000000</td>\n",
              "      <td>1.000000</td>\n",
              "      <td>6.000000</td>\n",
              "      <td>1.000000</td>\n",
              "      <td>3.000000</td>\n",
              "      <td>0.861667</td>\n",
              "      <td>0.840896</td>\n",
              "      <td>0.972500</td>\n",
              "      <td>0.507463</td>\n",
              "      <td>3410.000000</td>\n",
              "      <td>6946.000000</td>\n",
              "      <td>8714.000000</td>\n",
              "    </tr>\n",
              "  </tbody>\n",
              "</table>\n",
              "</div>"
            ],
            "text/plain": [
              "          instant      season          yr        mnth     holiday     weekday  \\\n",
              "count  731.000000  731.000000  731.000000  731.000000  731.000000  731.000000   \n",
              "mean   366.000000    2.496580    0.500684    6.519836    0.028728    2.997264   \n",
              "std    211.165812    1.110807    0.500342    3.451913    0.167155    2.004787   \n",
              "min      1.000000    1.000000    0.000000    1.000000    0.000000    0.000000   \n",
              "25%    183.500000    2.000000    0.000000    4.000000    0.000000    1.000000   \n",
              "50%    366.000000    3.000000    1.000000    7.000000    0.000000    3.000000   \n",
              "75%    548.500000    3.000000    1.000000   10.000000    0.000000    5.000000   \n",
              "max    731.000000    4.000000    1.000000   12.000000    1.000000    6.000000   \n",
              "\n",
              "       workingday  weathersit        temp       atemp         hum   windspeed  \\\n",
              "count  731.000000  731.000000  731.000000  731.000000  731.000000  731.000000   \n",
              "mean     0.683995    1.395349    0.495385    0.474354    0.627894    0.190486   \n",
              "std      0.465233    0.544894    0.183051    0.162961    0.142429    0.077498   \n",
              "min      0.000000    1.000000    0.059130    0.079070    0.000000    0.022392   \n",
              "25%      0.000000    1.000000    0.337083    0.337842    0.520000    0.134950   \n",
              "50%      1.000000    1.000000    0.498333    0.486733    0.626667    0.180975   \n",
              "75%      1.000000    2.000000    0.655417    0.608602    0.730209    0.233214   \n",
              "max      1.000000    3.000000    0.861667    0.840896    0.972500    0.507463   \n",
              "\n",
              "            casual   registered          cnt  \n",
              "count   731.000000   731.000000   731.000000  \n",
              "mean    848.176471  3656.172367  4504.348837  \n",
              "std     686.622488  1560.256377  1937.211452  \n",
              "min       2.000000    20.000000    22.000000  \n",
              "25%     315.500000  2497.000000  3152.000000  \n",
              "50%     713.000000  3662.000000  4548.000000  \n",
              "75%    1096.000000  4776.500000  5956.000000  \n",
              "max    3410.000000  6946.000000  8714.000000  "
            ]
          },
          "execution_count": 11,
          "metadata": {},
          "output_type": "execute_result"
        }
      ],
      "source": [
        "day_df.describe()"
      ]
    },
    {
      "cell_type": "markdown",
      "metadata": {
        "id": "FZYLOto5FQqP"
      },
      "source": [
        "Setelah dilakukan beberapa pengecekan, dinyatakan bahwa **dataset (day.csv/day_df) ini bersih dari duplikasi dan missing value**, serta data set inih bisa digunakan untuk analisis lebih lanjut lagi."
      ]
    },
    {
      "cell_type": "markdown",
      "metadata": {
        "id": "ZU7bF483CQwP"
      },
      "source": [
        "#### Menilai data hour_df"
      ]
    },
    {
      "cell_type": "markdown",
      "metadata": {
        "id": "CT6fB2TNrHta"
      },
      "source": [
        "**Mengecek tipe data**"
      ]
    },
    {
      "cell_type": "code",
      "execution_count": 12,
      "metadata": {
        "colab": {
          "base_uri": "https://localhost:8080/"
        },
        "id": "iU8slt2MCUgQ",
        "outputId": "18b73359-a7c6-48ab-d2a5-eaf9d6b5c51c"
      },
      "outputs": [
        {
          "name": "stdout",
          "output_type": "stream",
          "text": [
            "<class 'pandas.core.frame.DataFrame'>\n",
            "RangeIndex: 17379 entries, 0 to 17378\n",
            "Data columns (total 17 columns):\n",
            " #   Column      Non-Null Count  Dtype  \n",
            "---  ------      --------------  -----  \n",
            " 0   instant     17379 non-null  int64  \n",
            " 1   dteday      17379 non-null  object \n",
            " 2   season      17379 non-null  int64  \n",
            " 3   yr          17379 non-null  int64  \n",
            " 4   mnth        17379 non-null  int64  \n",
            " 5   hr          17379 non-null  int64  \n",
            " 6   holiday     17379 non-null  int64  \n",
            " 7   weekday     17379 non-null  int64  \n",
            " 8   workingday  17379 non-null  int64  \n",
            " 9   weathersit  17379 non-null  int64  \n",
            " 10  temp        17379 non-null  float64\n",
            " 11  atemp       17379 non-null  float64\n",
            " 12  hum         17379 non-null  float64\n",
            " 13  windspeed   17379 non-null  float64\n",
            " 14  casual      17379 non-null  int64  \n",
            " 15  registered  17379 non-null  int64  \n",
            " 16  cnt         17379 non-null  int64  \n",
            "dtypes: float64(4), int64(12), object(1)\n",
            "memory usage: 2.3+ MB\n"
          ]
        }
      ],
      "source": [
        "hour_df.info()"
      ]
    },
    {
      "cell_type": "markdown",
      "metadata": {
        "id": "U2F6z8pgrNzH"
      },
      "source": [
        "**Mengecek nilai unik/variasi**"
      ]
    },
    {
      "cell_type": "code",
      "execution_count": 13,
      "metadata": {
        "colab": {
          "base_uri": "https://localhost:8080/",
          "height": 617
        },
        "id": "w2JgJo_UEIOP",
        "outputId": "f05d8f62-a862-4e63-9878-2173f8cb136a"
      },
      "outputs": [
        {
          "data": {
            "text/plain": [
              "instant       17379\n",
              "dteday          731\n",
              "season            4\n",
              "yr                2\n",
              "mnth             12\n",
              "hr               24\n",
              "holiday           2\n",
              "weekday           7\n",
              "workingday        2\n",
              "weathersit        4\n",
              "temp             50\n",
              "atemp            65\n",
              "hum              89\n",
              "windspeed        30\n",
              "casual          322\n",
              "registered      776\n",
              "cnt             869\n",
              "dtype: int64"
            ]
          },
          "execution_count": 13,
          "metadata": {},
          "output_type": "execute_result"
        }
      ],
      "source": [
        "hour_df.apply(lambda x: len(x.unique()))"
      ]
    },
    {
      "cell_type": "markdown",
      "metadata": {
        "id": "gcrPOp89rSNt"
      },
      "source": [
        "**Mengecek jumlah missing value / nilai kosong**"
      ]
    },
    {
      "cell_type": "code",
      "execution_count": 14,
      "metadata": {
        "colab": {
          "base_uri": "https://localhost:8080/",
          "height": 617
        },
        "id": "lIYdClLOCWyk",
        "outputId": "22fda82a-c2b5-44d2-c1d1-8d42c234c5de"
      },
      "outputs": [
        {
          "data": {
            "text/plain": [
              "instant       0\n",
              "dteday        0\n",
              "season        0\n",
              "yr            0\n",
              "mnth          0\n",
              "hr            0\n",
              "holiday       0\n",
              "weekday       0\n",
              "workingday    0\n",
              "weathersit    0\n",
              "temp          0\n",
              "atemp         0\n",
              "hum           0\n",
              "windspeed     0\n",
              "casual        0\n",
              "registered    0\n",
              "cnt           0\n",
              "dtype: int64"
            ]
          },
          "execution_count": 14,
          "metadata": {},
          "output_type": "execute_result"
        }
      ],
      "source": [
        "hour_df.isna().sum()"
      ]
    },
    {
      "cell_type": "markdown",
      "metadata": {
        "id": "fTMQSC9XrVrV"
      },
      "source": [
        "**Mengecek jumlah duplikasi**"
      ]
    },
    {
      "cell_type": "code",
      "execution_count": 15,
      "metadata": {
        "colab": {
          "base_uri": "https://localhost:8080/"
        },
        "id": "mOHQ1PTDCYZf",
        "outputId": "ce82d386-51f7-4fd3-fa84-9e06b8e3b28c"
      },
      "outputs": [
        {
          "name": "stdout",
          "output_type": "stream",
          "text": [
            "Jumlah duplikasi:  0\n"
          ]
        }
      ],
      "source": [
        "print(\"Jumlah duplikasi: \", hour_df.duplicated().sum())"
      ]
    },
    {
      "cell_type": "markdown",
      "metadata": {
        "id": "RrDwUu2XraM4"
      },
      "source": [
        "**Melihat gambaran isi data**"
      ]
    },
    {
      "cell_type": "code",
      "execution_count": 16,
      "metadata": {
        "colab": {
          "base_uri": "https://localhost:8080/",
          "height": 301
        },
        "id": "V2gFsKHiCZ_N",
        "outputId": "99913a69-7e84-4b31-ad33-cc27989d2739"
      },
      "outputs": [
        {
          "data": {
            "text/html": [
              "<div>\n",
              "<style scoped>\n",
              "    .dataframe tbody tr th:only-of-type {\n",
              "        vertical-align: middle;\n",
              "    }\n",
              "\n",
              "    .dataframe tbody tr th {\n",
              "        vertical-align: top;\n",
              "    }\n",
              "\n",
              "    .dataframe thead th {\n",
              "        text-align: right;\n",
              "    }\n",
              "</style>\n",
              "<table border=\"1\" class=\"dataframe\">\n",
              "  <thead>\n",
              "    <tr style=\"text-align: right;\">\n",
              "      <th></th>\n",
              "      <th>instant</th>\n",
              "      <th>season</th>\n",
              "      <th>yr</th>\n",
              "      <th>mnth</th>\n",
              "      <th>hr</th>\n",
              "      <th>holiday</th>\n",
              "      <th>weekday</th>\n",
              "      <th>workingday</th>\n",
              "      <th>weathersit</th>\n",
              "      <th>temp</th>\n",
              "      <th>atemp</th>\n",
              "      <th>hum</th>\n",
              "      <th>windspeed</th>\n",
              "      <th>casual</th>\n",
              "      <th>registered</th>\n",
              "      <th>cnt</th>\n",
              "    </tr>\n",
              "  </thead>\n",
              "  <tbody>\n",
              "    <tr>\n",
              "      <th>count</th>\n",
              "      <td>17379.0000</td>\n",
              "      <td>17379.000000</td>\n",
              "      <td>17379.000000</td>\n",
              "      <td>17379.000000</td>\n",
              "      <td>17379.000000</td>\n",
              "      <td>17379.000000</td>\n",
              "      <td>17379.000000</td>\n",
              "      <td>17379.000000</td>\n",
              "      <td>17379.000000</td>\n",
              "      <td>17379.000000</td>\n",
              "      <td>17379.000000</td>\n",
              "      <td>17379.000000</td>\n",
              "      <td>17379.000000</td>\n",
              "      <td>17379.000000</td>\n",
              "      <td>17379.000000</td>\n",
              "      <td>17379.000000</td>\n",
              "    </tr>\n",
              "    <tr>\n",
              "      <th>mean</th>\n",
              "      <td>8690.0000</td>\n",
              "      <td>2.501640</td>\n",
              "      <td>0.502561</td>\n",
              "      <td>6.537775</td>\n",
              "      <td>11.546752</td>\n",
              "      <td>0.028770</td>\n",
              "      <td>3.003683</td>\n",
              "      <td>0.682721</td>\n",
              "      <td>1.425283</td>\n",
              "      <td>0.496987</td>\n",
              "      <td>0.475775</td>\n",
              "      <td>0.627229</td>\n",
              "      <td>0.190098</td>\n",
              "      <td>35.676218</td>\n",
              "      <td>153.786869</td>\n",
              "      <td>189.463088</td>\n",
              "    </tr>\n",
              "    <tr>\n",
              "      <th>std</th>\n",
              "      <td>5017.0295</td>\n",
              "      <td>1.106918</td>\n",
              "      <td>0.500008</td>\n",
              "      <td>3.438776</td>\n",
              "      <td>6.914405</td>\n",
              "      <td>0.167165</td>\n",
              "      <td>2.005771</td>\n",
              "      <td>0.465431</td>\n",
              "      <td>0.639357</td>\n",
              "      <td>0.192556</td>\n",
              "      <td>0.171850</td>\n",
              "      <td>0.192930</td>\n",
              "      <td>0.122340</td>\n",
              "      <td>49.305030</td>\n",
              "      <td>151.357286</td>\n",
              "      <td>181.387599</td>\n",
              "    </tr>\n",
              "    <tr>\n",
              "      <th>min</th>\n",
              "      <td>1.0000</td>\n",
              "      <td>1.000000</td>\n",
              "      <td>0.000000</td>\n",
              "      <td>1.000000</td>\n",
              "      <td>0.000000</td>\n",
              "      <td>0.000000</td>\n",
              "      <td>0.000000</td>\n",
              "      <td>0.000000</td>\n",
              "      <td>1.000000</td>\n",
              "      <td>0.020000</td>\n",
              "      <td>0.000000</td>\n",
              "      <td>0.000000</td>\n",
              "      <td>0.000000</td>\n",
              "      <td>0.000000</td>\n",
              "      <td>0.000000</td>\n",
              "      <td>1.000000</td>\n",
              "    </tr>\n",
              "    <tr>\n",
              "      <th>25%</th>\n",
              "      <td>4345.5000</td>\n",
              "      <td>2.000000</td>\n",
              "      <td>0.000000</td>\n",
              "      <td>4.000000</td>\n",
              "      <td>6.000000</td>\n",
              "      <td>0.000000</td>\n",
              "      <td>1.000000</td>\n",
              "      <td>0.000000</td>\n",
              "      <td>1.000000</td>\n",
              "      <td>0.340000</td>\n",
              "      <td>0.333300</td>\n",
              "      <td>0.480000</td>\n",
              "      <td>0.104500</td>\n",
              "      <td>4.000000</td>\n",
              "      <td>34.000000</td>\n",
              "      <td>40.000000</td>\n",
              "    </tr>\n",
              "    <tr>\n",
              "      <th>50%</th>\n",
              "      <td>8690.0000</td>\n",
              "      <td>3.000000</td>\n",
              "      <td>1.000000</td>\n",
              "      <td>7.000000</td>\n",
              "      <td>12.000000</td>\n",
              "      <td>0.000000</td>\n",
              "      <td>3.000000</td>\n",
              "      <td>1.000000</td>\n",
              "      <td>1.000000</td>\n",
              "      <td>0.500000</td>\n",
              "      <td>0.484800</td>\n",
              "      <td>0.630000</td>\n",
              "      <td>0.194000</td>\n",
              "      <td>17.000000</td>\n",
              "      <td>115.000000</td>\n",
              "      <td>142.000000</td>\n",
              "    </tr>\n",
              "    <tr>\n",
              "      <th>75%</th>\n",
              "      <td>13034.5000</td>\n",
              "      <td>3.000000</td>\n",
              "      <td>1.000000</td>\n",
              "      <td>10.000000</td>\n",
              "      <td>18.000000</td>\n",
              "      <td>0.000000</td>\n",
              "      <td>5.000000</td>\n",
              "      <td>1.000000</td>\n",
              "      <td>2.000000</td>\n",
              "      <td>0.660000</td>\n",
              "      <td>0.621200</td>\n",
              "      <td>0.780000</td>\n",
              "      <td>0.253700</td>\n",
              "      <td>48.000000</td>\n",
              "      <td>220.000000</td>\n",
              "      <td>281.000000</td>\n",
              "    </tr>\n",
              "    <tr>\n",
              "      <th>max</th>\n",
              "      <td>17379.0000</td>\n",
              "      <td>4.000000</td>\n",
              "      <td>1.000000</td>\n",
              "      <td>12.000000</td>\n",
              "      <td>23.000000</td>\n",
              "      <td>1.000000</td>\n",
              "      <td>6.000000</td>\n",
              "      <td>1.000000</td>\n",
              "      <td>4.000000</td>\n",
              "      <td>1.000000</td>\n",
              "      <td>1.000000</td>\n",
              "      <td>1.000000</td>\n",
              "      <td>0.850700</td>\n",
              "      <td>367.000000</td>\n",
              "      <td>886.000000</td>\n",
              "      <td>977.000000</td>\n",
              "    </tr>\n",
              "  </tbody>\n",
              "</table>\n",
              "</div>"
            ],
            "text/plain": [
              "          instant        season            yr          mnth            hr  \\\n",
              "count  17379.0000  17379.000000  17379.000000  17379.000000  17379.000000   \n",
              "mean    8690.0000      2.501640      0.502561      6.537775     11.546752   \n",
              "std     5017.0295      1.106918      0.500008      3.438776      6.914405   \n",
              "min        1.0000      1.000000      0.000000      1.000000      0.000000   \n",
              "25%     4345.5000      2.000000      0.000000      4.000000      6.000000   \n",
              "50%     8690.0000      3.000000      1.000000      7.000000     12.000000   \n",
              "75%    13034.5000      3.000000      1.000000     10.000000     18.000000   \n",
              "max    17379.0000      4.000000      1.000000     12.000000     23.000000   \n",
              "\n",
              "            holiday       weekday    workingday    weathersit          temp  \\\n",
              "count  17379.000000  17379.000000  17379.000000  17379.000000  17379.000000   \n",
              "mean       0.028770      3.003683      0.682721      1.425283      0.496987   \n",
              "std        0.167165      2.005771      0.465431      0.639357      0.192556   \n",
              "min        0.000000      0.000000      0.000000      1.000000      0.020000   \n",
              "25%        0.000000      1.000000      0.000000      1.000000      0.340000   \n",
              "50%        0.000000      3.000000      1.000000      1.000000      0.500000   \n",
              "75%        0.000000      5.000000      1.000000      2.000000      0.660000   \n",
              "max        1.000000      6.000000      1.000000      4.000000      1.000000   \n",
              "\n",
              "              atemp           hum     windspeed        casual    registered  \\\n",
              "count  17379.000000  17379.000000  17379.000000  17379.000000  17379.000000   \n",
              "mean       0.475775      0.627229      0.190098     35.676218    153.786869   \n",
              "std        0.171850      0.192930      0.122340     49.305030    151.357286   \n",
              "min        0.000000      0.000000      0.000000      0.000000      0.000000   \n",
              "25%        0.333300      0.480000      0.104500      4.000000     34.000000   \n",
              "50%        0.484800      0.630000      0.194000     17.000000    115.000000   \n",
              "75%        0.621200      0.780000      0.253700     48.000000    220.000000   \n",
              "max        1.000000      1.000000      0.850700    367.000000    886.000000   \n",
              "\n",
              "                cnt  \n",
              "count  17379.000000  \n",
              "mean     189.463088  \n",
              "std      181.387599  \n",
              "min        1.000000  \n",
              "25%       40.000000  \n",
              "50%      142.000000  \n",
              "75%      281.000000  \n",
              "max      977.000000  "
            ]
          },
          "execution_count": 16,
          "metadata": {},
          "output_type": "execute_result"
        }
      ],
      "source": [
        "hour_df.describe()"
      ]
    },
    {
      "cell_type": "markdown",
      "metadata": {
        "id": "esbXasAJFkpR"
      },
      "source": [
        "Setelah dilakukan beberapa pengecekan, dinyatakan bahwa **dataset (hour.csv/hour_df) ini bersih dari duplikasi dan missing value**, serta data set inih bisa digunakan untuk analisis lebih lanjut lagi."
      ]
    },
    {
      "cell_type": "markdown",
      "metadata": {
        "id": "EhN5R4hr8DC1"
      },
      "source": [
        "### Cleaning Data 💖"
      ]
    },
    {
      "cell_type": "markdown",
      "metadata": {
        "id": "hWh7tIxAuKC_"
      },
      "source": [
        "#### Merapihkan data day_df"
      ]
    },
    {
      "cell_type": "markdown",
      "metadata": {
        "id": "Ix4zCLL3uVBw"
      },
      "source": [
        "##### Mengubah tipe data tanggal ke format yang sesuai (date time)"
      ]
    },
    {
      "cell_type": "code",
      "execution_count": 17,
      "metadata": {
        "id": "UYR5Ykc4uS1r"
      },
      "outputs": [],
      "source": [
        "day_df['dteday'] = pd.to_datetime(day_df['dteday'])"
      ]
    },
    {
      "cell_type": "markdown",
      "metadata": {
        "id": "TlWeFNbTujTN"
      },
      "source": [
        "##### Mengubah tipe data numerical ke tipe data kategorical"
      ]
    },
    {
      "cell_type": "markdown",
      "metadata": {
        "id": "hmfnEnwNvPhz"
      },
      "source": [
        "**Agar mempermudah melakukan analisi maka, diputuskan mengubah kolom numerical menjadi kategorical, agar visualisi data bisa lebih mudah dan jelas**"
      ]
    },
    {
      "cell_type": "code",
      "execution_count": 18,
      "metadata": {
        "id": "v1d-vp1husCV"
      },
      "outputs": [],
      "source": [
        "categorical_cols = ['season', 'yr', 'mnth', 'holiday', 'weekday', 'workingday', 'weathersit']\n",
        "for col in categorical_cols:\n",
        "    day_df[col] = day_df[col].astype('category')"
      ]
    },
    {
      "cell_type": "markdown",
      "metadata": {
        "id": "PgGtHQazvljq"
      },
      "source": [
        "##### Mengecek rentan nilai numerical"
      ]
    },
    {
      "cell_type": "code",
      "execution_count": 19,
      "metadata": {
        "colab": {
          "base_uri": "https://localhost:8080/"
        },
        "id": "obflT4h0vmAQ",
        "outputId": "9b56c968-7feb-48c2-db38-d91111d4c1f5"
      },
      "outputs": [
        {
          "name": "stdout",
          "output_type": "stream",
          "text": [
            "             temp       atemp         hum   windspeed\n",
            "count  731.000000  731.000000  731.000000  731.000000\n",
            "mean     0.495385    0.474354    0.627894    0.190486\n",
            "std      0.183051    0.162961    0.142429    0.077498\n",
            "min      0.059130    0.079070    0.000000    0.022392\n",
            "25%      0.337083    0.337842    0.520000    0.134950\n",
            "50%      0.498333    0.486733    0.626667    0.180975\n",
            "75%      0.655417    0.608602    0.730209    0.233214\n",
            "max      0.861667    0.840896    0.972500    0.507463\n"
          ]
        }
      ],
      "source": [
        "print(day_df[['temp', 'atemp', 'hum', 'windspeed']].describe())"
      ]
    },
    {
      "cell_type": "markdown",
      "metadata": {
        "id": "9rDyUZtywJPo"
      },
      "source": [
        "Berdasarkan statistik deskriptif dari kolom numerik (temp, atemp, hum, windspeed) disimpulkan bahwa:\n",
        "\n",
        "1️⃣ Kolom temp dan atemp (suhu), dalam posisi rentan aman dan juga ternormalisis datanya ✅\n",
        "\n",
        "2️⃣ Kolom hum (kelembapan), terdapat skala terkecil 0.000000, mungkin inih akan di tangani lebih lanjut lagi 🛠️\n",
        "\n",
        "3️⃣ Kolom windspeed (kecepatan angin), Cukup aman ✅"
      ]
    },
    {
      "cell_type": "markdown",
      "metadata": {
        "id": "FgCOC9Drx7La"
      },
      "source": [
        "**Penanganan kolom hum (Humidity/kelembapan)**"
      ]
    },
    {
      "cell_type": "code",
      "execution_count": 20,
      "metadata": {
        "colab": {
          "base_uri": "https://localhost:8080/",
          "height": 81
        },
        "id": "P8C_8ViWyMXZ",
        "outputId": "1be99126-3b27-4478-c38a-916c29d74f58"
      },
      "outputs": [
        {
          "data": {
            "text/html": [
              "<div>\n",
              "<style scoped>\n",
              "    .dataframe tbody tr th:only-of-type {\n",
              "        vertical-align: middle;\n",
              "    }\n",
              "\n",
              "    .dataframe tbody tr th {\n",
              "        vertical-align: top;\n",
              "    }\n",
              "\n",
              "    .dataframe thead th {\n",
              "        text-align: right;\n",
              "    }\n",
              "</style>\n",
              "<table border=\"1\" class=\"dataframe\">\n",
              "  <thead>\n",
              "    <tr style=\"text-align: right;\">\n",
              "      <th></th>\n",
              "      <th>instant</th>\n",
              "      <th>dteday</th>\n",
              "      <th>season</th>\n",
              "      <th>yr</th>\n",
              "      <th>mnth</th>\n",
              "      <th>holiday</th>\n",
              "      <th>weekday</th>\n",
              "      <th>workingday</th>\n",
              "      <th>weathersit</th>\n",
              "      <th>temp</th>\n",
              "      <th>atemp</th>\n",
              "      <th>hum</th>\n",
              "      <th>windspeed</th>\n",
              "      <th>casual</th>\n",
              "      <th>registered</th>\n",
              "      <th>cnt</th>\n",
              "    </tr>\n",
              "  </thead>\n",
              "  <tbody>\n",
              "    <tr>\n",
              "      <th>68</th>\n",
              "      <td>69</td>\n",
              "      <td>2011-03-10</td>\n",
              "      <td>1</td>\n",
              "      <td>0</td>\n",
              "      <td>3</td>\n",
              "      <td>0</td>\n",
              "      <td>4</td>\n",
              "      <td>1</td>\n",
              "      <td>3</td>\n",
              "      <td>0.389091</td>\n",
              "      <td>0.385668</td>\n",
              "      <td>0.0</td>\n",
              "      <td>0.261877</td>\n",
              "      <td>46</td>\n",
              "      <td>577</td>\n",
              "      <td>623</td>\n",
              "    </tr>\n",
              "  </tbody>\n",
              "</table>\n",
              "</div>"
            ],
            "text/plain": [
              "    instant     dteday season yr mnth holiday weekday workingday weathersit  \\\n",
              "68       69 2011-03-10      1  0    3       0       4          1          3   \n",
              "\n",
              "        temp     atemp  hum  windspeed  casual  registered  cnt  \n",
              "68  0.389091  0.385668  0.0   0.261877      46         577  623  "
            ]
          },
          "execution_count": 20,
          "metadata": {},
          "output_type": "execute_result"
        }
      ],
      "source": [
        "day_df[day_df['hum'] == 0]"
      ]
    },
    {
      "cell_type": "markdown",
      "metadata": {
        "id": "_IgQvfaVydde"
      },
      "source": [
        "karena jumlahnya kecil (cuman 1 kolom), jadi diputuskan diganti dengan median"
      ]
    },
    {
      "cell_type": "code",
      "execution_count": 21,
      "metadata": {
        "id": "VmlLkCVCyW80"
      },
      "outputs": [],
      "source": [
        "day_df.loc[day_df['hum'] == 0, 'hum'] = day_df['hum'].median()"
      ]
    },
    {
      "cell_type": "markdown",
      "metadata": {
        "id": "sDLBgubnXX-E"
      },
      "source": [
        "##### Mengecek Logika Data"
      ]
    },
    {
      "cell_type": "markdown",
      "metadata": {
        "id": "WFKXv4DhXe86"
      },
      "source": [
        "**Memeriksa cnt (total penyewaan) adalah jumlah dari casual dan registered**\n",
        "\n",
        "Jika hasil TRUE berarti bahwa nilai total cnt = (casual + registered) sesuai jumlahnya"
      ]
    },
    {
      "cell_type": "code",
      "execution_count": 22,
      "metadata": {
        "colab": {
          "base_uri": "https://localhost:8080/"
        },
        "id": "jwIL79luz-mr",
        "outputId": "c32dd239-6a81-4078-9496-7c2e18f244e1"
      },
      "outputs": [
        {
          "data": {
            "text/plain": [
              "True"
            ]
          },
          "execution_count": 22,
          "metadata": {},
          "output_type": "execute_result"
        }
      ],
      "source": [
        "(day_df['cnt'] == day_df['casual'] + day_df['registered']).all()"
      ]
    },
    {
      "cell_type": "markdown",
      "metadata": {
        "id": "R0-0qdy-YE_-"
      },
      "source": [
        "##### Mengecek Proporsi perKategori"
      ]
    },
    {
      "cell_type": "markdown",
      "metadata": {
        "id": "h_xm3niXcB5Z"
      },
      "source": [
        "**Memeriksa distribusi nilai dalam kolom kategorikal apakah jumlahnnya sesuai 100% dan juga sesuai dengan deskpsi yang dikasih pada kaggle**"
      ]
    },
    {
      "cell_type": "markdown",
      "metadata": {
        "id": "E4eujFE0hh-m"
      },
      "source": [
        "###### 1. **Kolom season (Musim)**"
      ]
    },
    {
      "cell_type": "code",
      "execution_count": 23,
      "metadata": {
        "colab": {
          "base_uri": "https://localhost:8080/"
        },
        "id": "pbY6zy91g7CW",
        "outputId": "4922144d-0d7f-4b18-a5ae-6a44444f1fe3"
      },
      "outputs": [
        {
          "name": "stdout",
          "output_type": "stream",
          "text": [
            "\n",
            "season:\n",
            "season\n",
            "3    25.718194\n",
            "2    25.170999\n",
            "1    24.760602\n",
            "4    24.350205\n",
            "Name: proportion, dtype: float64\n"
          ]
        }
      ],
      "source": [
        "for col in ['season']:\n",
        "    print(f\"\\n{col}:\\n{day_df[col].value_counts(normalize=True) * 100}\")"
      ]
    },
    {
      "cell_type": "markdown",
      "metadata": {
        "id": "Ur8prip9hbTl"
      },
      "source": [
        "  * Kategori: 1 = Spring, 2 = Summer, 3 = Fall, 4 = Winter,\n",
        "  * Semua musim memiliki proporsi yang hampir sama (-+25%) dan juga sesui dengan yang ada pada data set.\n",
        "  * ✅ Tidak ada nilai aneh, distribusi musim terlihat wajar dan rata."
      ]
    },
    {
      "cell_type": "markdown",
      "metadata": {
        "id": "BipVShr5huv6"
      },
      "source": [
        "###### 2. **Kolom yr (Tahun)**"
      ]
    },
    {
      "cell_type": "code",
      "execution_count": 24,
      "metadata": {
        "colab": {
          "base_uri": "https://localhost:8080/"
        },
        "id": "Dg9S__Cig7Vh",
        "outputId": "ad74f5d4-852d-4ce7-c3d0-f12d3e76a227"
      },
      "outputs": [
        {
          "name": "stdout",
          "output_type": "stream",
          "text": [
            "\n",
            "yr:\n",
            "yr\n",
            "1    50.068399\n",
            "0    49.931601\n",
            "Name: proportion, dtype: float64\n"
          ]
        }
      ],
      "source": [
        "for col in ['yr']:\n",
        "    print(f\"\\n{col}:\\n{day_df[col].value_counts(normalize=True) * 100}\")"
      ]
    },
    {
      "cell_type": "markdown",
      "metadata": {
        "id": "mBlRQIZChr5Z"
      },
      "source": [
        "  * Kategori:\n",
        "    * 0 = 2011\n",
        "    * 1 = 2012\n",
        "  * Hasil Proporsi:\n",
        "    * 2011 = 49.93%\n",
        "    * 2012 = 50.07%\n",
        "  * ✅ Tidak ada kejanggalan, karena dataset mencakup 2 tahun penuh, sehingga proporsi juga hampir seimbang."
      ]
    },
    {
      "cell_type": "markdown",
      "metadata": {
        "id": "nFUW4ogrh8-_"
      },
      "source": [
        "###### 3. **Kolom mnth (Bulan)**"
      ]
    },
    {
      "cell_type": "code",
      "execution_count": 25,
      "metadata": {
        "colab": {
          "base_uri": "https://localhost:8080/"
        },
        "id": "2P3EMdLQg7qM",
        "outputId": "ba890076-e28d-4559-9fe4-7ba5418286ff"
      },
      "outputs": [
        {
          "name": "stdout",
          "output_type": "stream",
          "text": [
            "\n",
            "mnth:\n",
            "mnth\n",
            "1     8.481532\n",
            "3     8.481532\n",
            "5     8.481532\n",
            "7     8.481532\n",
            "8     8.481532\n",
            "10    8.481532\n",
            "12    8.481532\n",
            "4     8.207934\n",
            "6     8.207934\n",
            "9     8.207934\n",
            "11    8.207934\n",
            "2     7.797538\n",
            "Name: proportion, dtype: float64\n"
          ]
        }
      ],
      "source": [
        "for col in ['mnth']:\n",
        "    print(f\"\\n{col}:\\n{day_df[col].value_counts(normalize=True) * 100}\")"
      ]
    },
    {
      "cell_type": "markdown",
      "metadata": {
        "id": "v8TFzFH8h2bG"
      },
      "source": [
        "  * Kategori:\n",
        "    * 1. (Jan), 2. (Feb), 3. (Mrt), 4. (Apr), 5. (Mei), 6. (Jun),\n",
        "    * 7. (Jul), 8. (Ags), 9. (Sep), 10. (Okt), 11. (Nov), 12. (Des).\n",
        "  * Hasil Proporsi: Setiap bulan memiliki proporsi 7-8%,\n",
        "  * ✅ Tidak ada kejanggalan, distribusi bulan terlihat normal."
      ]
    },
    {
      "cell_type": "markdown",
      "metadata": {
        "id": "dKcOHXtZiISE"
      },
      "source": [
        "###### 4. **Kolom holiday (Hari Libur)**"
      ]
    },
    {
      "cell_type": "code",
      "execution_count": 26,
      "metadata": {
        "colab": {
          "base_uri": "https://localhost:8080/"
        },
        "id": "o10zrYhOg7-O",
        "outputId": "9ae0e60d-f9f4-40a0-d531-c379c049d4e1"
      },
      "outputs": [
        {
          "name": "stdout",
          "output_type": "stream",
          "text": [
            "\n",
            "holiday:\n",
            "holiday\n",
            "0    97.127223\n",
            "1     2.872777\n",
            "Name: proportion, dtype: float64\n"
          ]
        }
      ],
      "source": [
        "for col in ['holiday']:\n",
        "    print(f\"\\n{col}:\\n{day_df[col].value_counts(normalize=True) * 100}\")"
      ]
    },
    {
      "cell_type": "markdown",
      "metadata": {
        "id": "Mc_-f5HqiECs"
      },
      "source": [
        "  * Kategori:\n",
        "    * 0 = Bukan hari libur\n",
        "    * 1 = Hari libur\n",
        "  * Hasil Proporsi:\n",
        "    * Hari kerja (0) = 97.13%\n",
        "    * Hari libur (1) = 2.87%\n",
        "  * ✅ Ini wajar karena hari libur nasional jauh lebih sedikit dibanding hari libur biasa (sabtu, minggu)."
      ]
    },
    {
      "cell_type": "markdown",
      "metadata": {
        "id": "3I2Jed4XiOUW"
      },
      "source": [
        "###### 5. **Kolom weekday (Hari dalam Seminggu)**"
      ]
    },
    {
      "cell_type": "code",
      "execution_count": 27,
      "metadata": {
        "colab": {
          "base_uri": "https://localhost:8080/"
        },
        "id": "H5StTJdig8tk",
        "outputId": "e7583825-f58d-43e8-d0fd-38304aac2d69"
      },
      "outputs": [
        {
          "name": "stdout",
          "output_type": "stream",
          "text": [
            "\n",
            "weekday:\n",
            "weekday\n",
            "0    14.363885\n",
            "1    14.363885\n",
            "6    14.363885\n",
            "2    14.227086\n",
            "3    14.227086\n",
            "4    14.227086\n",
            "5    14.227086\n",
            "Name: proportion, dtype: float64\n"
          ]
        }
      ],
      "source": [
        "for col in ['weekday']:\n",
        "    print(f\"\\n{col}:\\n{day_df[col].value_counts(normalize=True) * 100}\")"
      ]
    },
    {
      "cell_type": "markdown",
      "metadata": {
        "id": "wMTv5SEGiMfy"
      },
      "source": [
        " * 0 = Senin, 1 = Selasa, 2 = Rabu, 3 = Kamis, 4 = Jumat, 5= Sabtu, 6 = Minggu\n",
        " * Semua hari memiliki proporsi sekitar 14%, yang wajar untuk dataset selama 2 tahun penuh.\n",
        " * ✅ Tidak ada kejanggalan, distribusi terlihat normal."
      ]
    },
    {
      "cell_type": "markdown",
      "metadata": {
        "id": "OTAJ30gXiVa4"
      },
      "source": [
        "###### 6. **Kolom workingday (Hari Kerja)**\n"
      ]
    },
    {
      "cell_type": "code",
      "execution_count": 28,
      "metadata": {
        "colab": {
          "base_uri": "https://localhost:8080/"
        },
        "id": "C3TDOsozhMya",
        "outputId": "8761326c-1a5b-4b7f-d59f-e8ddc4e1452a"
      },
      "outputs": [
        {
          "name": "stdout",
          "output_type": "stream",
          "text": [
            "\n",
            "workingday:\n",
            "workingday\n",
            "1    68.399453\n",
            "0    31.600547\n",
            "Name: proportion, dtype: float64\n"
          ]
        }
      ],
      "source": [
        "for col in ['workingday']:\n",
        "    print(f\"\\n{col}:\\n{day_df[col].value_counts(normalize=True) * 100}\")"
      ]
    },
    {
      "cell_type": "markdown",
      "metadata": {
        "id": "LMxoVGiIiV8Q"
      },
      "source": [
        "  * Kategori:\n",
        "    * 0 = Bukan hari kerja (Sabtu/Minggu/hari libur)\n",
        "    * 1 = Hari kerja (Senin-Jumat kecuali hari libur)\n",
        "  * Hasil Proporsi:\n",
        "    * Hari kerja (1) = 68.40%\n",
        "    * Hari non-kerja (0) = 31.60%\n",
        "  * ✅ Tidak ada kejanggalan, proporsi sesuai dengan jumlah hari kerja dalam satu tahun (~250 hari kerja dari 365)."
      ]
    },
    {
      "cell_type": "markdown",
      "metadata": {
        "id": "lFwqwZXriWxd"
      },
      "source": [
        "###### 7. **Kolom weathersit (Kondisi Cuaca)**"
      ]
    },
    {
      "cell_type": "code",
      "execution_count": 29,
      "metadata": {
        "colab": {
          "base_uri": "https://localhost:8080/"
        },
        "id": "MzetUW2RhNZw",
        "outputId": "e361fbf8-593e-4e6f-f950-d54a2017a2dc"
      },
      "outputs": [
        {
          "name": "stdout",
          "output_type": "stream",
          "text": [
            "\n",
            "weathersit:\n",
            "weathersit\n",
            "1    63.337893\n",
            "2    33.789330\n",
            "3     2.872777\n",
            "Name: proportion, dtype: float64\n"
          ]
        }
      ],
      "source": [
        "for col in ['weathersit']:\n",
        "    print(f\"\\n{col}:\\n{day_df[col].value_counts(normalize=True) * 100}\")"
      ]
    },
    {
      "cell_type": "markdown",
      "metadata": {
        "id": "Hf1oFN1eiXLZ"
      },
      "source": [
        "  * Kategori:\n",
        "    * 1: Cerah, Sedikit awan, Berawan sebagian, Berawan sebagian\n",
        "    * 2: Kabut + Berawan, Kabut + Awan pecah, Kabut + Sedikit awan, Kabut\n",
        "    * 3: Salju Ringan, Hujan Ringan + Badai Petir + Awan Bertebaran, Hujan Ringan + Awan Bertebaran\n",
        "    * 4: Hujan Lebat + Es Batu + Badai Petir + Kabut, Salju + Kabut\n",
        "  * Hasil Proporsi:\n",
        "    * 1 (Clear) = 63.34% → Wajar, cuaca cerah lebih sering terjadi\n",
        "    * 2 (Mist/Cloudy) = 33.79% → Masih wajar, karena cuaca berawan sering\n",
        "    * 3 (Light Rain/Snow) = 2.87% → Masih dalam batas normal, karena diluar negeri sering turun salju ringin\n",
        "\n",
        "  * 🟡 Tidak ada 4 (Heavy Rain/Snow)?\n"
      ]
    },
    {
      "cell_type": "code",
      "execution_count": 30,
      "metadata": {
        "colab": {
          "base_uri": "https://localhost:8080/"
        },
        "id": "cGOUufOAarac",
        "outputId": "1b11395b-d178-4ae2-af70-3c24a4ac3045"
      },
      "outputs": [
        {
          "name": "stdout",
          "output_type": "stream",
          "text": [
            "weathersit\n",
            "1    463\n",
            "2    247\n",
            "3     21\n",
            "Name: count, dtype: int64\n"
          ]
        }
      ],
      "source": [
        "print(day_df['weathersit'].value_counts())"
      ]
    },
    {
      "cell_type": "markdown",
      "metadata": {
        "id": "j507RfTSkTsd"
      },
      "source": [
        "**Nah mungkin, cuaca salju lebat dan hujan lebat mungkin jarang terjadi sama sekali**"
      ]
    },
    {
      "cell_type": "markdown",
      "metadata": {
        "id": "AE4EHeanlKKR"
      },
      "source": [
        "#### Merapihkan data hour_df"
      ]
    },
    {
      "cell_type": "markdown",
      "metadata": {
        "id": "i1YqjghDlt9A"
      },
      "source": [
        "##### Mengubah tipe data tanggal ke format yang sesuai (date time)"
      ]
    },
    {
      "cell_type": "code",
      "execution_count": 31,
      "metadata": {
        "id": "X59RcWFNDgRv"
      },
      "outputs": [],
      "source": [
        "hour_df['dteday'] = pd.to_datetime(hour_df['dteday'])"
      ]
    },
    {
      "cell_type": "markdown",
      "metadata": {
        "id": "7nbwt05REIPK"
      },
      "source": [
        "##### Mengubah tipe data numerical ke tipe data kategorical"
      ]
    },
    {
      "cell_type": "code",
      "execution_count": 32,
      "metadata": {
        "id": "De1nK0iREJI9"
      },
      "outputs": [],
      "source": [
        "kategori_cols = ['season', 'yr', 'mnth', 'hr', 'holiday', 'weekday', 'workingday', 'weathersit']\n",
        "hour_df[kategori_cols] = hour_df[kategori_cols].astype('category')"
      ]
    },
    {
      "cell_type": "markdown",
      "metadata": {
        "id": "Fcx13dwdESrt"
      },
      "source": [
        "##### Mengecek proporsi perKategori"
      ]
    },
    {
      "cell_type": "markdown",
      "metadata": {
        "id": "rrfxzzpUEnSt"
      },
      "source": [
        "###### 1. **Kolom season (Musim)**"
      ]
    },
    {
      "cell_type": "code",
      "execution_count": 33,
      "metadata": {
        "colab": {
          "base_uri": "https://localhost:8080/"
        },
        "id": "S08OGpzJEiaX",
        "outputId": "d897fd98-ad95-4c91-d660-6d4c2a58847c"
      },
      "outputs": [
        {
          "name": "stdout",
          "output_type": "stream",
          "text": [
            "\n",
            "season:\n",
            "season\n",
            "3    25.870303\n",
            "2    25.369699\n",
            "1    24.408769\n",
            "4    24.351228\n",
            "Name: proportion, dtype: float64\n"
          ]
        }
      ],
      "source": [
        "for col in ['season']:\n",
        "    print(f\"\\n{col}:\\n{hour_df[col].value_counts(normalize=True) * 100}\")"
      ]
    },
    {
      "cell_type": "markdown",
      "metadata": {
        "id": "x1Bj0_jbHZ5m"
      },
      "source": [
        "  * Nilai season berkisar dari 1 hingga 4 (berarti tidak ada nilai outlier).\n",
        "  * Distribusi hampir merata, masing-masing musim memiliki proporsi sekitar 25%.\n",
        "  * ✅ Tidak perlu penanganan khusus karena ini sudah proporsional."
      ]
    },
    {
      "cell_type": "markdown",
      "metadata": {
        "id": "Nl4VX8z0FXLZ"
      },
      "source": [
        "###### 2. **Kolom year (Tahun)**"
      ]
    },
    {
      "cell_type": "code",
      "execution_count": 34,
      "metadata": {
        "colab": {
          "base_uri": "https://localhost:8080/"
        },
        "id": "epEv2KprEnu_",
        "outputId": "4ace7e66-93f7-4c26-e3a6-96523efcb4f5"
      },
      "outputs": [
        {
          "name": "stdout",
          "output_type": "stream",
          "text": [
            "\n",
            "yr:\n",
            "yr\n",
            "1    50.256056\n",
            "0    49.743944\n",
            "Name: proportion, dtype: float64\n"
          ]
        }
      ],
      "source": [
        "for col in ['yr']:\n",
        "    print(f\"\\n{col}:\\n{hour_df[col].value_counts(normalize=True) * 100}\")"
      ]
    },
    {
      "cell_type": "markdown",
      "metadata": {
        "id": "6J3FBhqXHp1R"
      },
      "source": [
        "  * yr = 0 → Tahun pertama (2011), yr = 1 → Tahun kedua (2012).\n",
        "  * Proporsinya hampir seimbang (50:50), sehingga dataset mencakup kedua tahun dengan baik.\n",
        "  * ✅ Tidak ada masalah."
      ]
    },
    {
      "cell_type": "markdown",
      "metadata": {
        "id": "rVqsjB9oFbI6"
      },
      "source": [
        "###### 3. **Kolom mounth (Bulan)**"
      ]
    },
    {
      "cell_type": "code",
      "execution_count": 35,
      "metadata": {
        "colab": {
          "base_uri": "https://localhost:8080/"
        },
        "id": "8g1pHl69EoRv",
        "outputId": "2984faeb-9168-41c0-9d5c-b240ac630af8"
      },
      "outputs": [
        {
          "name": "stdout",
          "output_type": "stream",
          "text": [
            "\n",
            "mnth:\n",
            "mnth\n",
            "5     8.562058\n",
            "7     8.562058\n",
            "12    8.533287\n",
            "8     8.487255\n",
            "3     8.475747\n",
            "10    8.349157\n",
            "6     8.285862\n",
            "4     8.268600\n",
            "9     8.268600\n",
            "11    8.268600\n",
            "1     8.222567\n",
            "2     7.716209\n",
            "Name: proportion, dtype: float64\n"
          ]
        }
      ],
      "source": [
        "for col in ['mnth']:\n",
        "    print(f\"\\n{col}:\\n{hour_df[col].value_counts(normalize=True) * 100}\")"
      ]
    },
    {
      "cell_type": "markdown",
      "metadata": {
        "id": "6kY_P0-4H4eh"
      },
      "source": [
        "  * Proporsi bulan hampir merata dengan sedikit variasi (sekitar 7.7% - 8.6%).\n",
        "  * Tidak ada bulan yang hilang (1-12 ada semua).\n",
        "  * ✅ Tidak ada kejanggalan, distribusi terlihat normal."
      ]
    },
    {
      "cell_type": "markdown",
      "metadata": {
        "id": "V3s2_m8tFhn2"
      },
      "source": [
        "###### 4. **Kolom holiday (Hari Libur)**"
      ]
    },
    {
      "cell_type": "code",
      "execution_count": 36,
      "metadata": {
        "colab": {
          "base_uri": "https://localhost:8080/"
        },
        "id": "Crekhu-bEo3m",
        "outputId": "5feb5efd-1f13-4084-deb7-6e4386863aad"
      },
      "outputs": [
        {
          "name": "stdout",
          "output_type": "stream",
          "text": [
            "\n",
            "holiday:\n",
            "holiday\n",
            "0    97.122964\n",
            "1     2.877036\n",
            "Name: proportion, dtype: float64\n"
          ]
        }
      ],
      "source": [
        "for col in ['holiday']:\n",
        "    print(f\"\\n{col}:\\n{hour_df[col].value_counts(normalize=True) * 100}\")"
      ]
    },
    {
      "cell_type": "markdown",
      "metadata": {
        "id": "_Vl-kqogIYWs"
      },
      "source": [
        "* Hanya 2.88% dari data merupakan hari libur.\n",
        "* ✅ Ini masuk akal karena hari libur (misalnya nasional) jauh lebih sedikit dibanding hari kerja."
      ]
    },
    {
      "cell_type": "markdown",
      "metadata": {
        "id": "OIl73au1FsNi"
      },
      "source": [
        "###### 5. **Kolom weekday (Hari dalam Seminggu)**"
      ]
    },
    {
      "cell_type": "code",
      "execution_count": 37,
      "metadata": {
        "colab": {
          "base_uri": "https://localhost:8080/"
        },
        "id": "9KIc3gQzEpTI",
        "outputId": "81c3eb87-5c9d-46f0-fa3e-622e5bbbebc8"
      },
      "outputs": [
        {
          "name": "stdout",
          "output_type": "stream",
          "text": [
            "\n",
            "weekday:\n",
            "weekday\n",
            "6    14.454226\n",
            "0    14.396686\n",
            "5    14.310375\n",
            "1    14.264342\n",
            "3    14.241326\n",
            "4    14.218309\n",
            "2    14.114736\n",
            "Name: proportion, dtype: float64\n"
          ]
        }
      ],
      "source": [
        "for col in ['weekday']:\n",
        "    print(f\"\\n{col}:\\n{hour_df[col].value_counts(normalize=True) * 100}\")"
      ]
    },
    {
      "cell_type": "markdown",
      "metadata": {
        "id": "V-u3KiW3Ie0u"
      },
      "source": [
        "  * Semua hari (0-6) memiliki distribusi hampir merata (~14%).\n",
        "  * ✅ Tidak ada hari yang hilang atau tidak proporsional."
      ]
    },
    {
      "cell_type": "markdown",
      "metadata": {
        "id": "G61559_yF2yy"
      },
      "source": [
        "###### 6. **Kolom workingday (Hari Kerja)**"
      ]
    },
    {
      "cell_type": "code",
      "execution_count": 38,
      "metadata": {
        "colab": {
          "base_uri": "https://localhost:8080/"
        },
        "id": "YMmq4YOpEtLN",
        "outputId": "56264ecf-d67e-47a0-87cf-d1bd38009a8b"
      },
      "outputs": [
        {
          "name": "stdout",
          "output_type": "stream",
          "text": [
            "\n",
            "workingday:\n",
            "workingday\n",
            "1    68.272052\n",
            "0    31.727948\n",
            "Name: proportion, dtype: float64\n"
          ]
        }
      ],
      "source": [
        "for col in ['workingday']:\n",
        "    print(f\"\\n{col}:\\n{hour_df[col].value_counts(normalize=True) * 100}\")"
      ]
    },
    {
      "cell_type": "markdown",
      "metadata": {
        "id": "m9QWvK4cIomO"
      },
      "source": [
        "  * Sekitar 68.3% adalah hari kerja dan 31.7% hari libur (termasuk akhir pekan).\n",
        "  * ✅ Ini masuk akal karena hari kerja lebih banyak dalam setahun dibanding akhir pekan."
      ]
    },
    {
      "cell_type": "markdown",
      "metadata": {
        "id": "H_vr2xmnGLsq"
      },
      "source": [
        "###### 7. **Kolom weathersit (Kondisi Cuaca)**"
      ]
    },
    {
      "cell_type": "code",
      "execution_count": 39,
      "metadata": {
        "colab": {
          "base_uri": "https://localhost:8080/"
        },
        "id": "1MbeBWj2E_G4",
        "outputId": "92bbd3b5-9fed-40b9-cfd4-fba11681bea5"
      },
      "outputs": [
        {
          "name": "stdout",
          "output_type": "stream",
          "text": [
            "\n",
            "weathersit:\n",
            "weathersit\n",
            "1    65.671212\n",
            "2    26.146499\n",
            "3     8.165027\n",
            "4     0.017262\n",
            "Name: proportion, dtype: float64\n"
          ]
        }
      ],
      "source": [
        "for col in ['weathersit']:\n",
        "    print(f\"\\n{col}:\\n{hour_df[col].value_counts(normalize=True) * 100}\")"
      ]
    },
    {
      "cell_type": "markdown",
      "metadata": {
        "id": "ZAk6R72jIpO4"
      },
      "source": [
        "  * Mayoritas cuaca cerah/biasa (65.67%), disusul mendung (26.15%), dan hujan ringan (8.17%).\n",
        "  * Cuaca ekstrem (kode 4) hanya muncul 0.02%, sangat jarang.\n",
        "\n",
        "  * 🟡 Karena cuaca ekstream kecil banget jadi diputuskan, menggabungkan kategori 4 ke kategori 3."
      ]
    },
    {
      "cell_type": "code",
      "execution_count": 40,
      "metadata": {
        "id": "pMBIxoL1J1M-"
      },
      "outputs": [],
      "source": [
        "hour_df['weathersit'] = hour_df['weathersit'].astype(str)\n",
        "hour_df['weathersit'] = hour_df['weathersit'].replace('4', '3')\n",
        "hour_df['weathersit'] = hour_df['weathersit'].astype('category')"
      ]
    },
    {
      "cell_type": "code",
      "execution_count": 41,
      "metadata": {
        "colab": {
          "base_uri": "https://localhost:8080/"
        },
        "id": "divnQBVDKPC6",
        "outputId": "33b6f93d-3c8f-4d9d-97e8-b50f2b02cfd7"
      },
      "outputs": [
        {
          "name": "stdout",
          "output_type": "stream",
          "text": [
            "\n",
            "weathersit:\n",
            "weathersit\n",
            "1    65.671212\n",
            "2    26.146499\n",
            "3     8.182289\n",
            "Name: proportion, dtype: float64\n"
          ]
        }
      ],
      "source": [
        "for col in ['weathersit']:\n",
        "    print(f\"\\n{col}:\\n{hour_df[col].value_counts(normalize=True) * 100}\")"
      ]
    },
    {
      "cell_type": "markdown",
      "metadata": {
        "id": "wD1pBhe0GN2H"
      },
      "source": [
        "###### 7. **Kolom hour (Jam)**"
      ]
    },
    {
      "cell_type": "code",
      "execution_count": 42,
      "metadata": {
        "colab": {
          "base_uri": "https://localhost:8080/"
        },
        "id": "Z1TVqubNE-8O",
        "outputId": "f429887d-bf90-4dcf-b03e-39b0e0ad5e76"
      },
      "outputs": [
        {
          "name": "stdout",
          "output_type": "stream",
          "text": [
            "\n",
            "hr:\n",
            "hr\n",
            "17    4.200472\n",
            "16    4.200472\n",
            "13    4.194718\n",
            "15    4.194718\n",
            "14    4.194718\n",
            "12    4.188964\n",
            "22    4.188964\n",
            "21    4.188964\n",
            "20    4.188964\n",
            "19    4.188964\n",
            "18    4.188964\n",
            "23    4.188964\n",
            "11    4.183210\n",
            "10    4.183210\n",
            "9     4.183210\n",
            "8     4.183210\n",
            "7     4.183210\n",
            "0     4.177456\n",
            "6     4.171701\n",
            "1     4.165947\n",
            "5     4.125669\n",
            "2     4.114161\n",
            "4     4.010587\n",
            "3     4.010587\n",
            "Name: proportion, dtype: float64\n"
          ]
        }
      ],
      "source": [
        "for col in ['hr']:\n",
        "    print(f\"\\n{col}:\\n{hour_df[col].value_counts(normalize=True) * 100}\")"
      ]
    },
    {
      "cell_type": "markdown",
      "metadata": {
        "id": "-v-nVukuKZMW"
      },
      "source": [
        "  * Semua jam (0-23) ada, tidak ada yang hilang.\n",
        "  * Distribusi hampir merata (~4.18% tiap jam).\n",
        "  * Jam sibuk (16-17) sedikit lebih tinggi (~4.20%), mungkin karena jam pulang kerja.\n",
        "  * ✅aman dan tidak ada outlier"
      ]
    },
    {
      "cell_type": "markdown",
      "metadata": {
        "id": "RDxvHaweKtWy"
      },
      "source": [
        "##### Mengecek Jam dalam Sehari (hr)"
      ]
    },
    {
      "cell_type": "code",
      "execution_count": 43,
      "metadata": {
        "colab": {
          "base_uri": "https://localhost:8080/"
        },
        "id": "T6EcHWA7Kt4i",
        "outputId": "cec537da-c871-4efc-d103-80a2935ba609"
      },
      "outputs": [
        {
          "name": "stdout",
          "output_type": "stream",
          "text": [
            "Jam yang hilang: set()\n"
          ]
        }
      ],
      "source": [
        "missing_hours = set(range(24)) - set(hour_df['hr'].unique())\n",
        "print(\"Jam yang hilang:\", missing_hours)"
      ]
    },
    {
      "cell_type": "markdown",
      "metadata": {
        "id": "cw1_Ccs_L2N8"
      },
      "source": [
        "**Dinyatakan bahwa tidak ada jam yang hilang**"
      ]
    },
    {
      "cell_type": "markdown",
      "metadata": {
        "id": "8FdQghkLL-lP"
      },
      "source": [
        "##### Mengecek Anomali pada Data Numerik (temp, atemp, hum, windspeed)"
      ]
    },
    {
      "cell_type": "code",
      "execution_count": 44,
      "metadata": {
        "colab": {
          "base_uri": "https://localhost:8080/",
          "height": 301
        },
        "id": "KbmfhXMyMPnB",
        "outputId": "e692d755-80f9-4e0f-f4ac-f8bdeb51895f"
      },
      "outputs": [
        {
          "data": {
            "text/html": [
              "<div>\n",
              "<style scoped>\n",
              "    .dataframe tbody tr th:only-of-type {\n",
              "        vertical-align: middle;\n",
              "    }\n",
              "\n",
              "    .dataframe tbody tr th {\n",
              "        vertical-align: top;\n",
              "    }\n",
              "\n",
              "    .dataframe thead th {\n",
              "        text-align: right;\n",
              "    }\n",
              "</style>\n",
              "<table border=\"1\" class=\"dataframe\">\n",
              "  <thead>\n",
              "    <tr style=\"text-align: right;\">\n",
              "      <th></th>\n",
              "      <th>temp</th>\n",
              "      <th>atemp</th>\n",
              "      <th>hum</th>\n",
              "      <th>windspeed</th>\n",
              "    </tr>\n",
              "  </thead>\n",
              "  <tbody>\n",
              "    <tr>\n",
              "      <th>count</th>\n",
              "      <td>17379.000000</td>\n",
              "      <td>17379.000000</td>\n",
              "      <td>17379.000000</td>\n",
              "      <td>17379.000000</td>\n",
              "    </tr>\n",
              "    <tr>\n",
              "      <th>mean</th>\n",
              "      <td>0.496987</td>\n",
              "      <td>0.475775</td>\n",
              "      <td>0.627229</td>\n",
              "      <td>0.190098</td>\n",
              "    </tr>\n",
              "    <tr>\n",
              "      <th>std</th>\n",
              "      <td>0.192556</td>\n",
              "      <td>0.171850</td>\n",
              "      <td>0.192930</td>\n",
              "      <td>0.122340</td>\n",
              "    </tr>\n",
              "    <tr>\n",
              "      <th>min</th>\n",
              "      <td>0.020000</td>\n",
              "      <td>0.000000</td>\n",
              "      <td>0.000000</td>\n",
              "      <td>0.000000</td>\n",
              "    </tr>\n",
              "    <tr>\n",
              "      <th>25%</th>\n",
              "      <td>0.340000</td>\n",
              "      <td>0.333300</td>\n",
              "      <td>0.480000</td>\n",
              "      <td>0.104500</td>\n",
              "    </tr>\n",
              "    <tr>\n",
              "      <th>50%</th>\n",
              "      <td>0.500000</td>\n",
              "      <td>0.484800</td>\n",
              "      <td>0.630000</td>\n",
              "      <td>0.194000</td>\n",
              "    </tr>\n",
              "    <tr>\n",
              "      <th>75%</th>\n",
              "      <td>0.660000</td>\n",
              "      <td>0.621200</td>\n",
              "      <td>0.780000</td>\n",
              "      <td>0.253700</td>\n",
              "    </tr>\n",
              "    <tr>\n",
              "      <th>max</th>\n",
              "      <td>1.000000</td>\n",
              "      <td>1.000000</td>\n",
              "      <td>1.000000</td>\n",
              "      <td>0.850700</td>\n",
              "    </tr>\n",
              "  </tbody>\n",
              "</table>\n",
              "</div>"
            ],
            "text/plain": [
              "               temp         atemp           hum     windspeed\n",
              "count  17379.000000  17379.000000  17379.000000  17379.000000\n",
              "mean       0.496987      0.475775      0.627229      0.190098\n",
              "std        0.192556      0.171850      0.192930      0.122340\n",
              "min        0.020000      0.000000      0.000000      0.000000\n",
              "25%        0.340000      0.333300      0.480000      0.104500\n",
              "50%        0.500000      0.484800      0.630000      0.194000\n",
              "75%        0.660000      0.621200      0.780000      0.253700\n",
              "max        1.000000      1.000000      1.000000      0.850700"
            ]
          },
          "execution_count": 44,
          "metadata": {},
          "output_type": "execute_result"
        }
      ],
      "source": [
        "hour_df[['temp', 'atemp', 'hum', 'windspeed']].describe()"
      ]
    },
    {
      "cell_type": "markdown",
      "metadata": {
        "id": "2Iu4cLZ9N_tV"
      },
      "source": [
        "###### Menangani nilai kolom atemp yang Memiliki Nilai 0"
      ]
    },
    {
      "cell_type": "code",
      "execution_count": 45,
      "metadata": {
        "colab": {
          "base_uri": "https://localhost:8080/"
        },
        "id": "j3Z6Xd9WOAJU",
        "outputId": "4d831ddd-c8cb-492f-cf81-f82a154968b1"
      },
      "outputs": [
        {
          "name": "stdout",
          "output_type": "stream",
          "text": [
            "Jumlah data dengan atemp = 0: 2\n"
          ]
        }
      ],
      "source": [
        "zero_atemp = hour_df[hour_df['atemp'] == 0]\n",
        "print(\"Jumlah data dengan atemp = 0:\", zero_atemp.shape[0])"
      ]
    },
    {
      "cell_type": "markdown",
      "metadata": {
        "id": "rkVZjjFROOdR"
      },
      "source": [
        "**Karena cuman ada 2 jadi diputuskan untuk diisi dengan rata-rata atemp berdasarkan suhu (temp) yang mendekati, agar untuk menjaga variasi data dan informasi lebih sesuai.**"
      ]
    },
    {
      "cell_type": "code",
      "execution_count": 46,
      "metadata": {
        "id": "faBC1pmmOpp6"
      },
      "outputs": [],
      "source": [
        "hour_df.loc[hour_df['atemp'] == 0, 'atemp'] = hour_df['temp'] * (hour_df['atemp'].mean() / hour_df['temp'].mean())"
      ]
    },
    {
      "cell_type": "markdown",
      "metadata": {
        "id": "7LTYKM-UOwG3"
      },
      "source": [
        "###### Menangani nilai kolom hum yang Memiliki Nilai 0"
      ]
    },
    {
      "cell_type": "code",
      "execution_count": 47,
      "metadata": {
        "colab": {
          "base_uri": "https://localhost:8080/"
        },
        "id": "beWk2tRNOwfO",
        "outputId": "bc8dbf37-cbef-4bdf-8aeb-938fc8cda800"
      },
      "outputs": [
        {
          "name": "stdout",
          "output_type": "stream",
          "text": [
            "Jumlah data dengan hum = 0: 22\n"
          ]
        }
      ],
      "source": [
        "zero_hum = hour_df[hour_df['hum'] == 0]\n",
        "print(\"Jumlah data dengan hum = 0:\", zero_hum.shape[0])"
      ]
    },
    {
      "cell_type": "code",
      "execution_count": 48,
      "metadata": {
        "id": "IC8Yt1ZoPOkQ"
      },
      "outputs": [],
      "source": [
        "hour_df['hum'] = hour_df.groupby('dteday')['hum'].transform(lambda x: x.mask(x == 0, x[x > 0].mean()))"
      ]
    },
    {
      "cell_type": "markdown",
      "metadata": {
        "id": "RWsljALeQ5e3"
      },
      "source": [
        "###### Menangani nilai kolom windspeed yang Memiliki Nilai 0"
      ]
    },
    {
      "cell_type": "code",
      "execution_count": 49,
      "metadata": {
        "colab": {
          "base_uri": "https://localhost:8080/"
        },
        "id": "yKOFzAb6RHeS",
        "outputId": "f0825ee4-0967-48dc-a1a2-730653f7e34d"
      },
      "outputs": [
        {
          "name": "stdout",
          "output_type": "stream",
          "text": [
            "Jumlah data dengan windspeed = 0: 2180\n"
          ]
        }
      ],
      "source": [
        "zero_windspeed = hour_df[hour_df['windspeed'] == 0]\n",
        "print(\"Jumlah data dengan windspeed = 0:\", zero_windspeed.shape[0])"
      ]
    },
    {
      "cell_type": "code",
      "execution_count": 50,
      "metadata": {
        "colab": {
          "base_uri": "https://localhost:8080/"
        },
        "id": "ceX1k6vHSSu9",
        "outputId": "489c1bfa-e9fc-4b1a-8b19-3448493fb593"
      },
      "outputs": [
        {
          "data": {
            "text/plain": [
              "{'Total Data hours': 17379,\n",
              " 'Data dengan kecepatan angin 0': 2180,\n",
              " 'Persentase kecepatan angin 0': 12.543874791414927,\n",
              " 'Persentase tidak kecepatan angin 0': 87.45612520858508}"
            ]
          },
          "execution_count": 50,
          "metadata": {},
          "output_type": "execute_result"
        }
      ],
      "source": [
        "total_hours = hour_df.shape[0]\n",
        "total_zero_windspeed = zero_windspeed.shape[0]\n",
        "percentage_zero_windspeed = (zero_windspeed.shape[0] / total_hours) * 100\n",
        "percentage_non_zero_windspeed = 100 - percentage_zero_windspeed\n",
        "\n",
        "comparison = {\n",
        "    \"Total Data hours\": total_hours,\n",
        "    \"Data dengan kecepatan angin 0\": total_zero_windspeed,\n",
        "    \"Persentase kecepatan angin 0\": percentage_zero_windspeed,\n",
        "    \"Persentase tidak kecepatan angin 0\": percentage_non_zero_windspeed\n",
        "}\n",
        "comparison"
      ]
    },
    {
      "cell_type": "markdown",
      "metadata": {
        "id": "Qj5QfrK3UGlb"
      },
      "source": [
        "Diputuskan karena lumayan besar **12,53%** diputuskan **menggunakan median** lebih stabil dibanding mean karena **tidak terpengaruh outlier**. Karena kecepatan angin dipengaruhi oleh kondisi cuaca (weathersit), **mengganti nilai 0 dengan median dalam setiap kategori weathersit** menjaga konsistensi data tanpa menambah bias."
      ]
    },
    {
      "cell_type": "code",
      "execution_count": 51,
      "metadata": {
        "id": "xmIEuGA5UYkV"
      },
      "outputs": [],
      "source": [
        "hour_df['windspeed'] = hour_df['windspeed'].mask(\n",
        "    hour_df['windspeed'] == 0,\n",
        "    hour_df.groupby('weathersit', observed=True)['windspeed'].transform('median')\n",
        ")"
      ]
    },
    {
      "cell_type": "markdown",
      "metadata": {
        "id": "44xVyVrvQ-7n"
      },
      "source": [
        "###### Meninjau ulang kembali"
      ]
    },
    {
      "cell_type": "code",
      "execution_count": 52,
      "metadata": {
        "colab": {
          "base_uri": "https://localhost:8080/",
          "height": 301
        },
        "id": "HJIHSMSpQx_T",
        "outputId": "43cc8091-2c51-484c-8a74-af0d8cd58632"
      },
      "outputs": [
        {
          "data": {
            "text/html": [
              "<div>\n",
              "<style scoped>\n",
              "    .dataframe tbody tr th:only-of-type {\n",
              "        vertical-align: middle;\n",
              "    }\n",
              "\n",
              "    .dataframe tbody tr th {\n",
              "        vertical-align: top;\n",
              "    }\n",
              "\n",
              "    .dataframe thead th {\n",
              "        text-align: right;\n",
              "    }\n",
              "</style>\n",
              "<table border=\"1\" class=\"dataframe\">\n",
              "  <thead>\n",
              "    <tr style=\"text-align: right;\">\n",
              "      <th></th>\n",
              "      <th>temp</th>\n",
              "      <th>atemp</th>\n",
              "      <th>hum</th>\n",
              "      <th>windspeed</th>\n",
              "    </tr>\n",
              "  </thead>\n",
              "  <tbody>\n",
              "    <tr>\n",
              "      <th>count</th>\n",
              "      <td>17379.000000</td>\n",
              "      <td>17379.000000</td>\n",
              "      <td>17357.000000</td>\n",
              "      <td>17379.000000</td>\n",
              "    </tr>\n",
              "    <tr>\n",
              "      <th>mean</th>\n",
              "      <td>0.496987</td>\n",
              "      <td>0.475778</td>\n",
              "      <td>0.628024</td>\n",
              "      <td>0.213455</td>\n",
              "    </tr>\n",
              "    <tr>\n",
              "      <th>std</th>\n",
              "      <td>0.192556</td>\n",
              "      <td>0.171841</td>\n",
              "      <td>0.191754</td>\n",
              "      <td>0.099557</td>\n",
              "    </tr>\n",
              "    <tr>\n",
              "      <th>min</th>\n",
              "      <td>0.020000</td>\n",
              "      <td>0.015200</td>\n",
              "      <td>0.080000</td>\n",
              "      <td>0.089600</td>\n",
              "    </tr>\n",
              "    <tr>\n",
              "      <th>25%</th>\n",
              "      <td>0.340000</td>\n",
              "      <td>0.333300</td>\n",
              "      <td>0.480000</td>\n",
              "      <td>0.134300</td>\n",
              "    </tr>\n",
              "    <tr>\n",
              "      <th>50%</th>\n",
              "      <td>0.500000</td>\n",
              "      <td>0.484800</td>\n",
              "      <td>0.630000</td>\n",
              "      <td>0.194000</td>\n",
              "    </tr>\n",
              "    <tr>\n",
              "      <th>75%</th>\n",
              "      <td>0.660000</td>\n",
              "      <td>0.621200</td>\n",
              "      <td>0.780000</td>\n",
              "      <td>0.253700</td>\n",
              "    </tr>\n",
              "    <tr>\n",
              "      <th>max</th>\n",
              "      <td>1.000000</td>\n",
              "      <td>1.000000</td>\n",
              "      <td>1.000000</td>\n",
              "      <td>0.850700</td>\n",
              "    </tr>\n",
              "  </tbody>\n",
              "</table>\n",
              "</div>"
            ],
            "text/plain": [
              "               temp         atemp           hum     windspeed\n",
              "count  17379.000000  17379.000000  17357.000000  17379.000000\n",
              "mean       0.496987      0.475778      0.628024      0.213455\n",
              "std        0.192556      0.171841      0.191754      0.099557\n",
              "min        0.020000      0.015200      0.080000      0.089600\n",
              "25%        0.340000      0.333300      0.480000      0.134300\n",
              "50%        0.500000      0.484800      0.630000      0.194000\n",
              "75%        0.660000      0.621200      0.780000      0.253700\n",
              "max        1.000000      1.000000      1.000000      0.850700"
            ]
          },
          "execution_count": 52,
          "metadata": {},
          "output_type": "execute_result"
        }
      ],
      "source": [
        "hour_df[['temp', 'atemp', 'hum', 'windspeed']].describe()"
      ]
    },
    {
      "cell_type": "markdown",
      "metadata": {
        "id": "eItPUlXOMhP8"
      },
      "source": [
        "##### Mengecek duplikasi dalam Waktu (dteday, hr)"
      ]
    },
    {
      "cell_type": "markdown",
      "metadata": {
        "id": "yrZ3WDdSMne4"
      },
      "source": [
        "**Karena ini data per jam, setiap kombinasi dteday dan hr harus unik.**\n",
        "\n",
        "Kalau Hasilnnya 0 maka tidak da duplikasi dalam jam yang sama untuk satu hari."
      ]
    },
    {
      "cell_type": "code",
      "execution_count": 53,
      "metadata": {
        "colab": {
          "base_uri": "https://localhost:8080/"
        },
        "id": "5ZKuSMR_Mech",
        "outputId": "0e96d91b-2380-4a55-86c2-04a6f7c8a718"
      },
      "outputs": [
        {
          "name": "stdout",
          "output_type": "stream",
          "text": [
            "Jumlah duplikasi berdasarkan tanggal & jam: 0\n"
          ]
        }
      ],
      "source": [
        "duplicate_hours = hour_df.duplicated(subset=['dteday', 'hr'], keep=False)\n",
        "print(\"Jumlah duplikasi berdasarkan tanggal & jam:\", duplicate_hours.sum())"
      ]
    },
    {
      "cell_type": "markdown",
      "metadata": {
        "id": "gp-Y6wU38DC1"
      },
      "source": [
        "## Exploratory Data Analysis (EDA) ⛏️"
      ]
    },
    {
      "cell_type": "markdown",
      "metadata": {
        "id": "JAI_1b6Jqx_W"
      },
      "source": [
        "### Exploratory Tiap Tabel 💎"
      ]
    },
    {
      "cell_type": "markdown",
      "metadata": {
        "id": "g9RReF7vq-_J"
      },
      "source": [
        "#### Explore day_df"
      ]
    },
    {
      "cell_type": "code",
      "execution_count": 54,
      "metadata": {
        "colab": {
          "base_uri": "https://localhost:8080/",
          "height": 206
        },
        "id": "s5clbxc0rP_3",
        "outputId": "34fc1c94-f497-4565-ab71-cb00c5176cb0"
      },
      "outputs": [
        {
          "data": {
            "text/html": [
              "<div>\n",
              "<style scoped>\n",
              "    .dataframe tbody tr th:only-of-type {\n",
              "        vertical-align: middle;\n",
              "    }\n",
              "\n",
              "    .dataframe tbody tr th {\n",
              "        vertical-align: top;\n",
              "    }\n",
              "\n",
              "    .dataframe thead th {\n",
              "        text-align: right;\n",
              "    }\n",
              "</style>\n",
              "<table border=\"1\" class=\"dataframe\">\n",
              "  <thead>\n",
              "    <tr style=\"text-align: right;\">\n",
              "      <th></th>\n",
              "      <th>instant</th>\n",
              "      <th>dteday</th>\n",
              "      <th>season</th>\n",
              "      <th>yr</th>\n",
              "      <th>mnth</th>\n",
              "      <th>holiday</th>\n",
              "      <th>weekday</th>\n",
              "      <th>workingday</th>\n",
              "      <th>weathersit</th>\n",
              "      <th>temp</th>\n",
              "      <th>atemp</th>\n",
              "      <th>hum</th>\n",
              "      <th>windspeed</th>\n",
              "      <th>casual</th>\n",
              "      <th>registered</th>\n",
              "      <th>cnt</th>\n",
              "    </tr>\n",
              "  </thead>\n",
              "  <tbody>\n",
              "    <tr>\n",
              "      <th>635</th>\n",
              "      <td>636</td>\n",
              "      <td>2012-09-27</td>\n",
              "      <td>4</td>\n",
              "      <td>1</td>\n",
              "      <td>9</td>\n",
              "      <td>0</td>\n",
              "      <td>4</td>\n",
              "      <td>1</td>\n",
              "      <td>2</td>\n",
              "      <td>0.650000</td>\n",
              "      <td>0.607975</td>\n",
              "      <td>0.690833</td>\n",
              "      <td>0.134342</td>\n",
              "      <td>751</td>\n",
              "      <td>6642</td>\n",
              "      <td>7393</td>\n",
              "    </tr>\n",
              "    <tr>\n",
              "      <th>470</th>\n",
              "      <td>471</td>\n",
              "      <td>2012-04-15</td>\n",
              "      <td>2</td>\n",
              "      <td>1</td>\n",
              "      <td>4</td>\n",
              "      <td>0</td>\n",
              "      <td>0</td>\n",
              "      <td>0</td>\n",
              "      <td>1</td>\n",
              "      <td>0.606667</td>\n",
              "      <td>0.573875</td>\n",
              "      <td>0.507917</td>\n",
              "      <td>0.225129</td>\n",
              "      <td>2846</td>\n",
              "      <td>4286</td>\n",
              "      <td>7132</td>\n",
              "    </tr>\n",
              "    <tr>\n",
              "      <th>70</th>\n",
              "      <td>71</td>\n",
              "      <td>2011-03-12</td>\n",
              "      <td>1</td>\n",
              "      <td>0</td>\n",
              "      <td>3</td>\n",
              "      <td>0</td>\n",
              "      <td>6</td>\n",
              "      <td>0</td>\n",
              "      <td>1</td>\n",
              "      <td>0.329167</td>\n",
              "      <td>0.325750</td>\n",
              "      <td>0.594583</td>\n",
              "      <td>0.220775</td>\n",
              "      <td>724</td>\n",
              "      <td>1408</td>\n",
              "      <td>2132</td>\n",
              "    </tr>\n",
              "    <tr>\n",
              "      <th>521</th>\n",
              "      <td>522</td>\n",
              "      <td>2012-06-05</td>\n",
              "      <td>2</td>\n",
              "      <td>1</td>\n",
              "      <td>6</td>\n",
              "      <td>0</td>\n",
              "      <td>2</td>\n",
              "      <td>1</td>\n",
              "      <td>2</td>\n",
              "      <td>0.540833</td>\n",
              "      <td>0.525892</td>\n",
              "      <td>0.613333</td>\n",
              "      <td>0.209575</td>\n",
              "      <td>968</td>\n",
              "      <td>6033</td>\n",
              "      <td>7001</td>\n",
              "    </tr>\n",
              "    <tr>\n",
              "      <th>433</th>\n",
              "      <td>434</td>\n",
              "      <td>2012-03-09</td>\n",
              "      <td>1</td>\n",
              "      <td>1</td>\n",
              "      <td>3</td>\n",
              "      <td>0</td>\n",
              "      <td>5</td>\n",
              "      <td>1</td>\n",
              "      <td>2</td>\n",
              "      <td>0.410833</td>\n",
              "      <td>0.397083</td>\n",
              "      <td>0.407083</td>\n",
              "      <td>0.414800</td>\n",
              "      <td>447</td>\n",
              "      <td>4122</td>\n",
              "      <td>4569</td>\n",
              "    </tr>\n",
              "  </tbody>\n",
              "</table>\n",
              "</div>"
            ],
            "text/plain": [
              "     instant     dteday season yr mnth holiday weekday workingday weathersit  \\\n",
              "635      636 2012-09-27      4  1    9       0       4          1          2   \n",
              "470      471 2012-04-15      2  1    4       0       0          0          1   \n",
              "70        71 2011-03-12      1  0    3       0       6          0          1   \n",
              "521      522 2012-06-05      2  1    6       0       2          1          2   \n",
              "433      434 2012-03-09      1  1    3       0       5          1          2   \n",
              "\n",
              "         temp     atemp       hum  windspeed  casual  registered   cnt  \n",
              "635  0.650000  0.607975  0.690833   0.134342     751        6642  7393  \n",
              "470  0.606667  0.573875  0.507917   0.225129    2846        4286  7132  \n",
              "70   0.329167  0.325750  0.594583   0.220775     724        1408  2132  \n",
              "521  0.540833  0.525892  0.613333   0.209575     968        6033  7001  \n",
              "433  0.410833  0.397083  0.407083   0.414800     447        4122  4569  "
            ]
          },
          "execution_count": 54,
          "metadata": {},
          "output_type": "execute_result"
        }
      ],
      "source": [
        "day_df.sample(5)"
      ]
    },
    {
      "cell_type": "code",
      "execution_count": 55,
      "metadata": {
        "colab": {
          "base_uri": "https://localhost:8080/",
          "height": 395
        },
        "id": "KbdEg5lJrWzL",
        "outputId": "eb10afbd-6137-4b4b-f3a2-cc75678282f8"
      },
      "outputs": [
        {
          "data": {
            "text/html": [
              "<div>\n",
              "<style scoped>\n",
              "    .dataframe tbody tr th:only-of-type {\n",
              "        vertical-align: middle;\n",
              "    }\n",
              "\n",
              "    .dataframe tbody tr th {\n",
              "        vertical-align: top;\n",
              "    }\n",
              "\n",
              "    .dataframe thead th {\n",
              "        text-align: right;\n",
              "    }\n",
              "</style>\n",
              "<table border=\"1\" class=\"dataframe\">\n",
              "  <thead>\n",
              "    <tr style=\"text-align: right;\">\n",
              "      <th></th>\n",
              "      <th>instant</th>\n",
              "      <th>dteday</th>\n",
              "      <th>season</th>\n",
              "      <th>yr</th>\n",
              "      <th>mnth</th>\n",
              "      <th>holiday</th>\n",
              "      <th>weekday</th>\n",
              "      <th>workingday</th>\n",
              "      <th>weathersit</th>\n",
              "      <th>temp</th>\n",
              "      <th>atemp</th>\n",
              "      <th>hum</th>\n",
              "      <th>windspeed</th>\n",
              "      <th>casual</th>\n",
              "      <th>registered</th>\n",
              "      <th>cnt</th>\n",
              "    </tr>\n",
              "  </thead>\n",
              "  <tbody>\n",
              "    <tr>\n",
              "      <th>count</th>\n",
              "      <td>731.000000</td>\n",
              "      <td>731</td>\n",
              "      <td>731.0</td>\n",
              "      <td>731.0</td>\n",
              "      <td>731.0</td>\n",
              "      <td>731.0</td>\n",
              "      <td>731.0</td>\n",
              "      <td>731.0</td>\n",
              "      <td>731.0</td>\n",
              "      <td>731.000000</td>\n",
              "      <td>731.000000</td>\n",
              "      <td>731.000000</td>\n",
              "      <td>731.000000</td>\n",
              "      <td>731.000000</td>\n",
              "      <td>731.000000</td>\n",
              "      <td>731.000000</td>\n",
              "    </tr>\n",
              "    <tr>\n",
              "      <th>unique</th>\n",
              "      <td>NaN</td>\n",
              "      <td>NaN</td>\n",
              "      <td>4.0</td>\n",
              "      <td>2.0</td>\n",
              "      <td>12.0</td>\n",
              "      <td>2.0</td>\n",
              "      <td>7.0</td>\n",
              "      <td>2.0</td>\n",
              "      <td>3.0</td>\n",
              "      <td>NaN</td>\n",
              "      <td>NaN</td>\n",
              "      <td>NaN</td>\n",
              "      <td>NaN</td>\n",
              "      <td>NaN</td>\n",
              "      <td>NaN</td>\n",
              "      <td>NaN</td>\n",
              "    </tr>\n",
              "    <tr>\n",
              "      <th>top</th>\n",
              "      <td>NaN</td>\n",
              "      <td>NaN</td>\n",
              "      <td>3.0</td>\n",
              "      <td>1.0</td>\n",
              "      <td>1.0</td>\n",
              "      <td>0.0</td>\n",
              "      <td>0.0</td>\n",
              "      <td>1.0</td>\n",
              "      <td>1.0</td>\n",
              "      <td>NaN</td>\n",
              "      <td>NaN</td>\n",
              "      <td>NaN</td>\n",
              "      <td>NaN</td>\n",
              "      <td>NaN</td>\n",
              "      <td>NaN</td>\n",
              "      <td>NaN</td>\n",
              "    </tr>\n",
              "    <tr>\n",
              "      <th>freq</th>\n",
              "      <td>NaN</td>\n",
              "      <td>NaN</td>\n",
              "      <td>188.0</td>\n",
              "      <td>366.0</td>\n",
              "      <td>62.0</td>\n",
              "      <td>710.0</td>\n",
              "      <td>105.0</td>\n",
              "      <td>500.0</td>\n",
              "      <td>463.0</td>\n",
              "      <td>NaN</td>\n",
              "      <td>NaN</td>\n",
              "      <td>NaN</td>\n",
              "      <td>NaN</td>\n",
              "      <td>NaN</td>\n",
              "      <td>NaN</td>\n",
              "      <td>NaN</td>\n",
              "    </tr>\n",
              "    <tr>\n",
              "      <th>mean</th>\n",
              "      <td>366.000000</td>\n",
              "      <td>2012-01-01 00:00:00</td>\n",
              "      <td>NaN</td>\n",
              "      <td>NaN</td>\n",
              "      <td>NaN</td>\n",
              "      <td>NaN</td>\n",
              "      <td>NaN</td>\n",
              "      <td>NaN</td>\n",
              "      <td>NaN</td>\n",
              "      <td>0.495385</td>\n",
              "      <td>0.474354</td>\n",
              "      <td>0.628751</td>\n",
              "      <td>0.190486</td>\n",
              "      <td>848.176471</td>\n",
              "      <td>3656.172367</td>\n",
              "      <td>4504.348837</td>\n",
              "    </tr>\n",
              "    <tr>\n",
              "      <th>min</th>\n",
              "      <td>1.000000</td>\n",
              "      <td>2011-01-01 00:00:00</td>\n",
              "      <td>NaN</td>\n",
              "      <td>NaN</td>\n",
              "      <td>NaN</td>\n",
              "      <td>NaN</td>\n",
              "      <td>NaN</td>\n",
              "      <td>NaN</td>\n",
              "      <td>NaN</td>\n",
              "      <td>0.059130</td>\n",
              "      <td>0.079070</td>\n",
              "      <td>0.187917</td>\n",
              "      <td>0.022392</td>\n",
              "      <td>2.000000</td>\n",
              "      <td>20.000000</td>\n",
              "      <td>22.000000</td>\n",
              "    </tr>\n",
              "    <tr>\n",
              "      <th>25%</th>\n",
              "      <td>183.500000</td>\n",
              "      <td>2011-07-02 12:00:00</td>\n",
              "      <td>NaN</td>\n",
              "      <td>NaN</td>\n",
              "      <td>NaN</td>\n",
              "      <td>NaN</td>\n",
              "      <td>NaN</td>\n",
              "      <td>NaN</td>\n",
              "      <td>NaN</td>\n",
              "      <td>0.337083</td>\n",
              "      <td>0.337842</td>\n",
              "      <td>0.521041</td>\n",
              "      <td>0.134950</td>\n",
              "      <td>315.500000</td>\n",
              "      <td>2497.000000</td>\n",
              "      <td>3152.000000</td>\n",
              "    </tr>\n",
              "    <tr>\n",
              "      <th>50%</th>\n",
              "      <td>366.000000</td>\n",
              "      <td>2012-01-01 00:00:00</td>\n",
              "      <td>NaN</td>\n",
              "      <td>NaN</td>\n",
              "      <td>NaN</td>\n",
              "      <td>NaN</td>\n",
              "      <td>NaN</td>\n",
              "      <td>NaN</td>\n",
              "      <td>NaN</td>\n",
              "      <td>0.498333</td>\n",
              "      <td>0.486733</td>\n",
              "      <td>0.626667</td>\n",
              "      <td>0.180975</td>\n",
              "      <td>713.000000</td>\n",
              "      <td>3662.000000</td>\n",
              "      <td>4548.000000</td>\n",
              "    </tr>\n",
              "    <tr>\n",
              "      <th>75%</th>\n",
              "      <td>548.500000</td>\n",
              "      <td>2012-07-01 12:00:00</td>\n",
              "      <td>NaN</td>\n",
              "      <td>NaN</td>\n",
              "      <td>NaN</td>\n",
              "      <td>NaN</td>\n",
              "      <td>NaN</td>\n",
              "      <td>NaN</td>\n",
              "      <td>NaN</td>\n",
              "      <td>0.655417</td>\n",
              "      <td>0.608602</td>\n",
              "      <td>0.730209</td>\n",
              "      <td>0.233214</td>\n",
              "      <td>1096.000000</td>\n",
              "      <td>4776.500000</td>\n",
              "      <td>5956.000000</td>\n",
              "    </tr>\n",
              "    <tr>\n",
              "      <th>max</th>\n",
              "      <td>731.000000</td>\n",
              "      <td>2012-12-31 00:00:00</td>\n",
              "      <td>NaN</td>\n",
              "      <td>NaN</td>\n",
              "      <td>NaN</td>\n",
              "      <td>NaN</td>\n",
              "      <td>NaN</td>\n",
              "      <td>NaN</td>\n",
              "      <td>NaN</td>\n",
              "      <td>0.861667</td>\n",
              "      <td>0.840896</td>\n",
              "      <td>0.972500</td>\n",
              "      <td>0.507463</td>\n",
              "      <td>3410.000000</td>\n",
              "      <td>6946.000000</td>\n",
              "      <td>8714.000000</td>\n",
              "    </tr>\n",
              "    <tr>\n",
              "      <th>std</th>\n",
              "      <td>211.165812</td>\n",
              "      <td>NaN</td>\n",
              "      <td>NaN</td>\n",
              "      <td>NaN</td>\n",
              "      <td>NaN</td>\n",
              "      <td>NaN</td>\n",
              "      <td>NaN</td>\n",
              "      <td>NaN</td>\n",
              "      <td>NaN</td>\n",
              "      <td>0.183051</td>\n",
              "      <td>0.162961</td>\n",
              "      <td>0.140518</td>\n",
              "      <td>0.077498</td>\n",
              "      <td>686.622488</td>\n",
              "      <td>1560.256377</td>\n",
              "      <td>1937.211452</td>\n",
              "    </tr>\n",
              "  </tbody>\n",
              "</table>\n",
              "</div>"
            ],
            "text/plain": [
              "           instant               dteday  season     yr   mnth  holiday  \\\n",
              "count   731.000000                  731   731.0  731.0  731.0    731.0   \n",
              "unique         NaN                  NaN     4.0    2.0   12.0      2.0   \n",
              "top            NaN                  NaN     3.0    1.0    1.0      0.0   \n",
              "freq           NaN                  NaN   188.0  366.0   62.0    710.0   \n",
              "mean    366.000000  2012-01-01 00:00:00     NaN    NaN    NaN      NaN   \n",
              "min       1.000000  2011-01-01 00:00:00     NaN    NaN    NaN      NaN   \n",
              "25%     183.500000  2011-07-02 12:00:00     NaN    NaN    NaN      NaN   \n",
              "50%     366.000000  2012-01-01 00:00:00     NaN    NaN    NaN      NaN   \n",
              "75%     548.500000  2012-07-01 12:00:00     NaN    NaN    NaN      NaN   \n",
              "max     731.000000  2012-12-31 00:00:00     NaN    NaN    NaN      NaN   \n",
              "std     211.165812                  NaN     NaN    NaN    NaN      NaN   \n",
              "\n",
              "        weekday  workingday  weathersit        temp       atemp         hum  \\\n",
              "count     731.0       731.0       731.0  731.000000  731.000000  731.000000   \n",
              "unique      7.0         2.0         3.0         NaN         NaN         NaN   \n",
              "top         0.0         1.0         1.0         NaN         NaN         NaN   \n",
              "freq      105.0       500.0       463.0         NaN         NaN         NaN   \n",
              "mean        NaN         NaN         NaN    0.495385    0.474354    0.628751   \n",
              "min         NaN         NaN         NaN    0.059130    0.079070    0.187917   \n",
              "25%         NaN         NaN         NaN    0.337083    0.337842    0.521041   \n",
              "50%         NaN         NaN         NaN    0.498333    0.486733    0.626667   \n",
              "75%         NaN         NaN         NaN    0.655417    0.608602    0.730209   \n",
              "max         NaN         NaN         NaN    0.861667    0.840896    0.972500   \n",
              "std         NaN         NaN         NaN    0.183051    0.162961    0.140518   \n",
              "\n",
              "         windspeed       casual   registered          cnt  \n",
              "count   731.000000   731.000000   731.000000   731.000000  \n",
              "unique         NaN          NaN          NaN          NaN  \n",
              "top            NaN          NaN          NaN          NaN  \n",
              "freq           NaN          NaN          NaN          NaN  \n",
              "mean      0.190486   848.176471  3656.172367  4504.348837  \n",
              "min       0.022392     2.000000    20.000000    22.000000  \n",
              "25%       0.134950   315.500000  2497.000000  3152.000000  \n",
              "50%       0.180975   713.000000  3662.000000  4548.000000  \n",
              "75%       0.233214  1096.000000  4776.500000  5956.000000  \n",
              "max       0.507463  3410.000000  6946.000000  8714.000000  \n",
              "std       0.077498   686.622488  1560.256377  1937.211452  "
            ]
          },
          "execution_count": 55,
          "metadata": {},
          "output_type": "execute_result"
        }
      ],
      "source": [
        "day_df.describe(include=\"all\")"
      ]
    },
    {
      "cell_type": "markdown",
      "metadata": {
        "id": "ObObHcmtYgXc"
      },
      "source": [
        "**Menampilkan tanggal pertama dan terakhir dalam dataset**"
      ]
    },
    {
      "cell_type": "code",
      "execution_count": 56,
      "metadata": {
        "colab": {
          "base_uri": "https://localhost:8080/"
        },
        "id": "iMVSvLlxWaQF",
        "outputId": "a8c3751e-46d6-4daa-d949-61802ddcba29"
      },
      "outputs": [
        {
          "name": "stdout",
          "output_type": "stream",
          "text": [
            "Tanggal pertama: 2011-01-01 00:00:00\n",
            "Tanggal terakhir: 2012-12-31 00:00:00\n"
          ]
        }
      ],
      "source": [
        "print(\"Tanggal pertama:\", day_df['dteday'].min())\n",
        "print(\"Tanggal terakhir:\", day_df['dteday'].max())"
      ]
    },
    {
      "cell_type": "markdown",
      "metadata": {
        "id": "1_5ynss_Ym0V"
      },
      "source": [
        "**Menghitung jumlah data per tahun**"
      ]
    },
    {
      "cell_type": "code",
      "execution_count": 57,
      "metadata": {
        "colab": {
          "base_uri": "https://localhost:8080/"
        },
        "id": "UBdPSgaCYnO1",
        "outputId": "0086e431-0ec4-4d85-b7b7-7f8d5ff9f19c"
      },
      "outputs": [
        {
          "name": "stdout",
          "output_type": "stream",
          "text": [
            "yr\n",
            "1    366\n",
            "0    365\n",
            "Name: count, dtype: int64\n"
          ]
        }
      ],
      "source": [
        "print(day_df['yr'].value_counts())"
      ]
    },
    {
      "cell_type": "markdown",
      "metadata": {
        "id": "9-M207KVY7Ak"
      },
      "source": [
        "**Menghitung jumlah data per bulan**"
      ]
    },
    {
      "cell_type": "code",
      "execution_count": 58,
      "metadata": {
        "colab": {
          "base_uri": "https://localhost:8080/"
        },
        "id": "F4Yv039IY7Zd",
        "outputId": "c29fd493-24c5-455d-a565-e8f2af1613c8"
      },
      "outputs": [
        {
          "name": "stdout",
          "output_type": "stream",
          "text": [
            "mnth\n",
            "1     62\n",
            "3     62\n",
            "5     62\n",
            "7     62\n",
            "8     62\n",
            "10    62\n",
            "12    62\n",
            "4     60\n",
            "6     60\n",
            "9     60\n",
            "11    60\n",
            "2     57\n",
            "Name: count, dtype: int64\n"
          ]
        }
      ],
      "source": [
        "print(day_df['mnth'].value_counts())"
      ]
    },
    {
      "cell_type": "markdown",
      "metadata": {
        "id": "1cT9wDBPZCC5"
      },
      "source": [
        "**Menghitung jumlah data per hari dalam seminggu**"
      ]
    },
    {
      "cell_type": "code",
      "execution_count": 59,
      "metadata": {
        "colab": {
          "base_uri": "https://localhost:8080/"
        },
        "id": "SBmWVnn_ZFPD",
        "outputId": "3d2b3a0e-a8ee-4842-b943-bc4ee3561a04"
      },
      "outputs": [
        {
          "name": "stdout",
          "output_type": "stream",
          "text": [
            "weekday\n",
            "0    105\n",
            "1    105\n",
            "6    105\n",
            "2    104\n",
            "3    104\n",
            "4    104\n",
            "5    104\n",
            "Name: count, dtype: int64\n"
          ]
        }
      ],
      "source": [
        "print(day_df['weekday'].value_counts())"
      ]
    },
    {
      "cell_type": "markdown",
      "metadata": {
        "id": "ykTAIEJsZKWG"
      },
      "source": [
        "**Menghitung jumlah total hari libur dan hari kerja dalam dataset**"
      ]
    },
    {
      "cell_type": "code",
      "execution_count": 60,
      "metadata": {
        "colab": {
          "base_uri": "https://localhost:8080/"
        },
        "id": "gdiAj8bXZLGV",
        "outputId": "cee4d4a1-b0fe-4cf6-cdff-e815d3e542b4"
      },
      "outputs": [
        {
          "name": "stdout",
          "output_type": "stream",
          "text": [
            "holiday\n",
            "0    710\n",
            "1     21\n",
            "Name: count, dtype: int64\n",
            "workingday\n",
            "1    500\n",
            "0    231\n",
            "Name: count, dtype: int64\n"
          ]
        }
      ],
      "source": [
        "print(day_df['holiday'].value_counts())\n",
        "print(day_df['workingday'].value_counts())"
      ]
    },
    {
      "cell_type": "markdown",
      "metadata": {
        "id": "T8pbkPrOZZiq"
      },
      "source": [
        "**Melihat jumlah data untuk setiap kategori cuaca**"
      ]
    },
    {
      "cell_type": "code",
      "execution_count": 61,
      "metadata": {
        "colab": {
          "base_uri": "https://localhost:8080/"
        },
        "id": "-JK-HWHfZZ9E",
        "outputId": "7d46a991-d43c-42f3-a2fa-54c5cffaed13"
      },
      "outputs": [
        {
          "name": "stdout",
          "output_type": "stream",
          "text": [
            "weathersit\n",
            "1    463\n",
            "2    247\n",
            "3     21\n",
            "Name: count, dtype: int64\n"
          ]
        }
      ],
      "source": [
        "print(day_df['weathersit'].value_counts())"
      ]
    },
    {
      "cell_type": "markdown",
      "metadata": {
        "id": "7GaccPQNZ1cl"
      },
      "source": [
        "**Melihat hari dengan jumlah penyewa tertinggi dan terendah**"
      ]
    },
    {
      "cell_type": "code",
      "execution_count": 62,
      "metadata": {
        "colab": {
          "base_uri": "https://localhost:8080/",
          "height": 381
        },
        "id": "wnjf0oaTZx-k",
        "outputId": "499975de-c4d1-4ca8-f2fb-aa024d66544d"
      },
      "outputs": [
        {
          "name": "stdout",
          "output_type": "stream",
          "text": [
            "10 Hari dengan Jumlah Penyewa Tertinggi:\n"
          ]
        },
        {
          "data": {
            "text/html": [
              "<div>\n",
              "<style scoped>\n",
              "    .dataframe tbody tr th:only-of-type {\n",
              "        vertical-align: middle;\n",
              "    }\n",
              "\n",
              "    .dataframe tbody tr th {\n",
              "        vertical-align: top;\n",
              "    }\n",
              "\n",
              "    .dataframe thead th {\n",
              "        text-align: right;\n",
              "    }\n",
              "</style>\n",
              "<table border=\"1\" class=\"dataframe\">\n",
              "  <thead>\n",
              "    <tr style=\"text-align: right;\">\n",
              "      <th></th>\n",
              "      <th>dteday</th>\n",
              "      <th>casual</th>\n",
              "      <th>registered</th>\n",
              "      <th>cnt</th>\n",
              "    </tr>\n",
              "  </thead>\n",
              "  <tbody>\n",
              "    <tr>\n",
              "      <th>623</th>\n",
              "      <td>2012-09-15</td>\n",
              "      <td>3160</td>\n",
              "      <td>5554</td>\n",
              "      <td>8714</td>\n",
              "    </tr>\n",
              "    <tr>\n",
              "      <th>637</th>\n",
              "      <td>2012-09-29</td>\n",
              "      <td>2589</td>\n",
              "      <td>5966</td>\n",
              "      <td>8555</td>\n",
              "    </tr>\n",
              "    <tr>\n",
              "      <th>630</th>\n",
              "      <td>2012-09-22</td>\n",
              "      <td>2512</td>\n",
              "      <td>5883</td>\n",
              "      <td>8395</td>\n",
              "    </tr>\n",
              "    <tr>\n",
              "      <th>447</th>\n",
              "      <td>2012-03-23</td>\n",
              "      <td>2469</td>\n",
              "      <td>5893</td>\n",
              "      <td>8362</td>\n",
              "    </tr>\n",
              "    <tr>\n",
              "      <th>504</th>\n",
              "      <td>2012-05-19</td>\n",
              "      <td>3410</td>\n",
              "      <td>4884</td>\n",
              "      <td>8294</td>\n",
              "    </tr>\n",
              "    <tr>\n",
              "      <th>617</th>\n",
              "      <td>2012-09-09</td>\n",
              "      <td>2570</td>\n",
              "      <td>5657</td>\n",
              "      <td>8227</td>\n",
              "    </tr>\n",
              "    <tr>\n",
              "      <th>571</th>\n",
              "      <td>2012-07-25</td>\n",
              "      <td>1383</td>\n",
              "      <td>6790</td>\n",
              "      <td>8173</td>\n",
              "    </tr>\n",
              "    <tr>\n",
              "      <th>629</th>\n",
              "      <td>2012-09-21</td>\n",
              "      <td>1250</td>\n",
              "      <td>6917</td>\n",
              "      <td>8167</td>\n",
              "    </tr>\n",
              "    <tr>\n",
              "      <th>643</th>\n",
              "      <td>2012-10-05</td>\n",
              "      <td>1516</td>\n",
              "      <td>6640</td>\n",
              "      <td>8156</td>\n",
              "    </tr>\n",
              "    <tr>\n",
              "      <th>518</th>\n",
              "      <td>2012-06-02</td>\n",
              "      <td>2795</td>\n",
              "      <td>5325</td>\n",
              "      <td>8120</td>\n",
              "    </tr>\n",
              "  </tbody>\n",
              "</table>\n",
              "</div>"
            ],
            "text/plain": [
              "        dteday  casual  registered   cnt\n",
              "623 2012-09-15    3160        5554  8714\n",
              "637 2012-09-29    2589        5966  8555\n",
              "630 2012-09-22    2512        5883  8395\n",
              "447 2012-03-23    2469        5893  8362\n",
              "504 2012-05-19    3410        4884  8294\n",
              "617 2012-09-09    2570        5657  8227\n",
              "571 2012-07-25    1383        6790  8173\n",
              "629 2012-09-21    1250        6917  8167\n",
              "643 2012-10-05    1516        6640  8156\n",
              "518 2012-06-02    2795        5325  8120"
            ]
          },
          "execution_count": 62,
          "metadata": {},
          "output_type": "execute_result"
        }
      ],
      "source": [
        "top_10_highest = day_df[['dteday', 'casual', 'registered', 'cnt']].nlargest(10, 'cnt')\n",
        "print(\"10 Hari dengan Jumlah Penyewa Tertinggi:\")\n",
        "top_10_highest"
      ]
    },
    {
      "cell_type": "code",
      "execution_count": 63,
      "metadata": {
        "colab": {
          "base_uri": "https://localhost:8080/",
          "height": 398
        },
        "id": "xXrln7opZ9oC",
        "outputId": "2148009e-9b32-456e-c954-0f6934ff0ae0"
      },
      "outputs": [
        {
          "name": "stdout",
          "output_type": "stream",
          "text": [
            "\n",
            "10 Hari dengan Jumlah Penyewa Terendah:\n"
          ]
        },
        {
          "data": {
            "text/html": [
              "<div>\n",
              "<style scoped>\n",
              "    .dataframe tbody tr th:only-of-type {\n",
              "        vertical-align: middle;\n",
              "    }\n",
              "\n",
              "    .dataframe tbody tr th {\n",
              "        vertical-align: top;\n",
              "    }\n",
              "\n",
              "    .dataframe thead th {\n",
              "        text-align: right;\n",
              "    }\n",
              "</style>\n",
              "<table border=\"1\" class=\"dataframe\">\n",
              "  <thead>\n",
              "    <tr style=\"text-align: right;\">\n",
              "      <th></th>\n",
              "      <th>dteday</th>\n",
              "      <th>casual</th>\n",
              "      <th>registered</th>\n",
              "      <th>cnt</th>\n",
              "    </tr>\n",
              "  </thead>\n",
              "  <tbody>\n",
              "    <tr>\n",
              "      <th>667</th>\n",
              "      <td>2012-10-29</td>\n",
              "      <td>2</td>\n",
              "      <td>20</td>\n",
              "      <td>22</td>\n",
              "    </tr>\n",
              "    <tr>\n",
              "      <th>26</th>\n",
              "      <td>2011-01-27</td>\n",
              "      <td>15</td>\n",
              "      <td>416</td>\n",
              "      <td>431</td>\n",
              "    </tr>\n",
              "    <tr>\n",
              "      <th>725</th>\n",
              "      <td>2012-12-26</td>\n",
              "      <td>9</td>\n",
              "      <td>432</td>\n",
              "      <td>441</td>\n",
              "    </tr>\n",
              "    <tr>\n",
              "      <th>25</th>\n",
              "      <td>2011-01-26</td>\n",
              "      <td>34</td>\n",
              "      <td>472</td>\n",
              "      <td>506</td>\n",
              "    </tr>\n",
              "    <tr>\n",
              "      <th>64</th>\n",
              "      <td>2011-03-06</td>\n",
              "      <td>114</td>\n",
              "      <td>491</td>\n",
              "      <td>605</td>\n",
              "    </tr>\n",
              "    <tr>\n",
              "      <th>68</th>\n",
              "      <td>2011-03-10</td>\n",
              "      <td>46</td>\n",
              "      <td>577</td>\n",
              "      <td>623</td>\n",
              "    </tr>\n",
              "    <tr>\n",
              "      <th>301</th>\n",
              "      <td>2011-10-29</td>\n",
              "      <td>57</td>\n",
              "      <td>570</td>\n",
              "      <td>627</td>\n",
              "    </tr>\n",
              "    <tr>\n",
              "      <th>17</th>\n",
              "      <td>2011-01-18</td>\n",
              "      <td>9</td>\n",
              "      <td>674</td>\n",
              "      <td>683</td>\n",
              "    </tr>\n",
              "    <tr>\n",
              "      <th>340</th>\n",
              "      <td>2011-12-07</td>\n",
              "      <td>50</td>\n",
              "      <td>655</td>\n",
              "      <td>705</td>\n",
              "    </tr>\n",
              "    <tr>\n",
              "      <th>358</th>\n",
              "      <td>2011-12-25</td>\n",
              "      <td>303</td>\n",
              "      <td>451</td>\n",
              "      <td>754</td>\n",
              "    </tr>\n",
              "  </tbody>\n",
              "</table>\n",
              "</div>"
            ],
            "text/plain": [
              "        dteday  casual  registered  cnt\n",
              "667 2012-10-29       2          20   22\n",
              "26  2011-01-27      15         416  431\n",
              "725 2012-12-26       9         432  441\n",
              "25  2011-01-26      34         472  506\n",
              "64  2011-03-06     114         491  605\n",
              "68  2011-03-10      46         577  623\n",
              "301 2011-10-29      57         570  627\n",
              "17  2011-01-18       9         674  683\n",
              "340 2011-12-07      50         655  705\n",
              "358 2011-12-25     303         451  754"
            ]
          },
          "execution_count": 63,
          "metadata": {},
          "output_type": "execute_result"
        }
      ],
      "source": [
        "top_10_lowest = day_df[['dteday', 'casual', 'registered', 'cnt']].nsmallest(10, 'cnt')\n",
        "print(\"\\n10 Hari dengan Jumlah Penyewa Terendah:\")\n",
        "top_10_lowest"
      ]
    },
    {
      "cell_type": "markdown",
      "metadata": {
        "id": "RGzwTaYNbX_t"
      },
      "source": [
        "**Melihat jumlah penyewa dengan keadaan hari suhu tertinggi & terendah**"
      ]
    },
    {
      "cell_type": "code",
      "execution_count": 64,
      "metadata": {
        "colab": {
          "base_uri": "https://localhost:8080/",
          "height": 224
        },
        "id": "fb5aSJc1bwFV",
        "outputId": "6b018a5b-4595-47de-c0a0-9488a2e12f2c"
      },
      "outputs": [
        {
          "name": "stdout",
          "output_type": "stream",
          "text": [
            "5 Hari dengan Suhu Tertinggi:\n"
          ]
        },
        {
          "data": {
            "text/html": [
              "<div>\n",
              "<style scoped>\n",
              "    .dataframe tbody tr th:only-of-type {\n",
              "        vertical-align: middle;\n",
              "    }\n",
              "\n",
              "    .dataframe tbody tr th {\n",
              "        vertical-align: top;\n",
              "    }\n",
              "\n",
              "    .dataframe thead th {\n",
              "        text-align: right;\n",
              "    }\n",
              "</style>\n",
              "<table border=\"1\" class=\"dataframe\">\n",
              "  <thead>\n",
              "    <tr style=\"text-align: right;\">\n",
              "      <th></th>\n",
              "      <th>dteday</th>\n",
              "      <th>temp</th>\n",
              "      <th>cnt</th>\n",
              "    </tr>\n",
              "  </thead>\n",
              "  <tbody>\n",
              "    <tr>\n",
              "      <th>553</th>\n",
              "      <td>2012-07-07</td>\n",
              "      <td>0.861667</td>\n",
              "      <td>4840</td>\n",
              "    </tr>\n",
              "    <tr>\n",
              "      <th>203</th>\n",
              "      <td>2011-07-23</td>\n",
              "      <td>0.849167</td>\n",
              "      <td>3285</td>\n",
              "    </tr>\n",
              "    <tr>\n",
              "      <th>202</th>\n",
              "      <td>2011-07-22</td>\n",
              "      <td>0.848333</td>\n",
              "      <td>3387</td>\n",
              "    </tr>\n",
              "    <tr>\n",
              "      <th>209</th>\n",
              "      <td>2011-07-29</td>\n",
              "      <td>0.838333</td>\n",
              "      <td>3846</td>\n",
              "    </tr>\n",
              "    <tr>\n",
              "      <th>545</th>\n",
              "      <td>2012-06-29</td>\n",
              "      <td>0.834167</td>\n",
              "      <td>5463</td>\n",
              "    </tr>\n",
              "  </tbody>\n",
              "</table>\n",
              "</div>"
            ],
            "text/plain": [
              "        dteday      temp   cnt\n",
              "553 2012-07-07  0.861667  4840\n",
              "203 2011-07-23  0.849167  3285\n",
              "202 2011-07-22  0.848333  3387\n",
              "209 2011-07-29  0.838333  3846\n",
              "545 2012-06-29  0.834167  5463"
            ]
          },
          "execution_count": 64,
          "metadata": {},
          "output_type": "execute_result"
        }
      ],
      "source": [
        "top_5_hottest = day_df[['dteday', 'temp', 'cnt']].nlargest(5, 'temp')\n",
        "print(\"5 Hari dengan Suhu Tertinggi:\")\n",
        "top_5_hottest"
      ]
    },
    {
      "cell_type": "code",
      "execution_count": 65,
      "metadata": {
        "colab": {
          "base_uri": "https://localhost:8080/",
          "height": 224
        },
        "id": "YyLbxfVob_1q",
        "outputId": "dd970b46-0d22-45ea-dbf6-934e2f534db3"
      },
      "outputs": [
        {
          "name": "stdout",
          "output_type": "stream",
          "text": [
            "5 Hari dengan Suhu Terendah:\n"
          ]
        },
        {
          "data": {
            "text/html": [
              "<div>\n",
              "<style scoped>\n",
              "    .dataframe tbody tr th:only-of-type {\n",
              "        vertical-align: middle;\n",
              "    }\n",
              "\n",
              "    .dataframe tbody tr th {\n",
              "        vertical-align: top;\n",
              "    }\n",
              "\n",
              "    .dataframe thead th {\n",
              "        text-align: right;\n",
              "    }\n",
              "</style>\n",
              "<table border=\"1\" class=\"dataframe\">\n",
              "  <thead>\n",
              "    <tr style=\"text-align: right;\">\n",
              "      <th></th>\n",
              "      <th>dteday</th>\n",
              "      <th>temp</th>\n",
              "      <th>cnt</th>\n",
              "    </tr>\n",
              "  </thead>\n",
              "  <tbody>\n",
              "    <tr>\n",
              "      <th>21</th>\n",
              "      <td>2011-01-22</td>\n",
              "      <td>0.059130</td>\n",
              "      <td>981</td>\n",
              "    </tr>\n",
              "    <tr>\n",
              "      <th>22</th>\n",
              "      <td>2011-01-23</td>\n",
              "      <td>0.096522</td>\n",
              "      <td>986</td>\n",
              "    </tr>\n",
              "    <tr>\n",
              "      <th>23</th>\n",
              "      <td>2011-01-24</td>\n",
              "      <td>0.097391</td>\n",
              "      <td>1416</td>\n",
              "    </tr>\n",
              "    <tr>\n",
              "      <th>368</th>\n",
              "      <td>2012-01-04</td>\n",
              "      <td>0.107500</td>\n",
              "      <td>2368</td>\n",
              "    </tr>\n",
              "    <tr>\n",
              "      <th>407</th>\n",
              "      <td>2012-02-12</td>\n",
              "      <td>0.127500</td>\n",
              "      <td>1529</td>\n",
              "    </tr>\n",
              "  </tbody>\n",
              "</table>\n",
              "</div>"
            ],
            "text/plain": [
              "        dteday      temp   cnt\n",
              "21  2011-01-22  0.059130   981\n",
              "22  2011-01-23  0.096522   986\n",
              "23  2011-01-24  0.097391  1416\n",
              "368 2012-01-04  0.107500  2368\n",
              "407 2012-02-12  0.127500  1529"
            ]
          },
          "execution_count": 65,
          "metadata": {},
          "output_type": "execute_result"
        }
      ],
      "source": [
        "top_5_coldest = day_df[['dteday', 'temp', 'cnt']].nsmallest(5, 'temp')\n",
        "print(\"5 Hari dengan Suhu Terendah:\")\n",
        "top_5_coldest"
      ]
    },
    {
      "cell_type": "markdown",
      "metadata": {
        "id": "RFopCXMHdNut"
      },
      "source": [
        "**Melihat jumlah penyewa dengan keadaan hari yang Kecepatan angin (windspeed) tertinggi & terendah**"
      ]
    },
    {
      "cell_type": "code",
      "execution_count": 66,
      "metadata": {
        "colab": {
          "base_uri": "https://localhost:8080/",
          "height": 224
        },
        "id": "lyYH5ts-eUGX",
        "outputId": "0077e8d6-8326-4ca3-ba03-95e27dc51d30"
      },
      "outputs": [
        {
          "name": "stdout",
          "output_type": "stream",
          "text": [
            "5 Hari dengan Kecepatan Angin Tertinggi:\n"
          ]
        },
        {
          "data": {
            "text/html": [
              "<div>\n",
              "<style scoped>\n",
              "    .dataframe tbody tr th:only-of-type {\n",
              "        vertical-align: middle;\n",
              "    }\n",
              "\n",
              "    .dataframe tbody tr th {\n",
              "        vertical-align: top;\n",
              "    }\n",
              "\n",
              "    .dataframe thead th {\n",
              "        text-align: right;\n",
              "    }\n",
              "</style>\n",
              "<table border=\"1\" class=\"dataframe\">\n",
              "  <thead>\n",
              "    <tr style=\"text-align: right;\">\n",
              "      <th></th>\n",
              "      <th>dteday</th>\n",
              "      <th>windspeed</th>\n",
              "      <th>cnt</th>\n",
              "    </tr>\n",
              "  </thead>\n",
              "  <tbody>\n",
              "    <tr>\n",
              "      <th>49</th>\n",
              "      <td>2011-02-19</td>\n",
              "      <td>0.507463</td>\n",
              "      <td>1635</td>\n",
              "    </tr>\n",
              "    <tr>\n",
              "      <th>432</th>\n",
              "      <td>2012-03-08</td>\n",
              "      <td>0.441563</td>\n",
              "      <td>5382</td>\n",
              "    </tr>\n",
              "    <tr>\n",
              "      <th>292</th>\n",
              "      <td>2011-10-20</td>\n",
              "      <td>0.422275</td>\n",
              "      <td>4195</td>\n",
              "    </tr>\n",
              "    <tr>\n",
              "      <th>420</th>\n",
              "      <td>2012-02-25</td>\n",
              "      <td>0.421642</td>\n",
              "      <td>2732</td>\n",
              "    </tr>\n",
              "    <tr>\n",
              "      <th>44</th>\n",
              "      <td>2011-02-14</td>\n",
              "      <td>0.417908</td>\n",
              "      <td>1913</td>\n",
              "    </tr>\n",
              "  </tbody>\n",
              "</table>\n",
              "</div>"
            ],
            "text/plain": [
              "        dteday  windspeed   cnt\n",
              "49  2011-02-19   0.507463  1635\n",
              "432 2012-03-08   0.441563  5382\n",
              "292 2011-10-20   0.422275  4195\n",
              "420 2012-02-25   0.421642  2732\n",
              "44  2011-02-14   0.417908  1913"
            ]
          },
          "execution_count": 66,
          "metadata": {},
          "output_type": "execute_result"
        }
      ],
      "source": [
        "top_5_windspeed_high = day_df[['dteday', 'windspeed', 'cnt']].nlargest(5, 'windspeed')\n",
        "print(\"5 Hari dengan Kecepatan Angin Tertinggi:\")\n",
        "top_5_windspeed_high"
      ]
    },
    {
      "cell_type": "code",
      "execution_count": 67,
      "metadata": {
        "colab": {
          "base_uri": "https://localhost:8080/",
          "height": 224
        },
        "id": "WvaOBzhgeUgC",
        "outputId": "58719914-4214-45d9-ceab-70ffb6825f7b"
      },
      "outputs": [
        {
          "name": "stdout",
          "output_type": "stream",
          "text": [
            "5 Hari dengan Kecepatan Angin Terendah:\n"
          ]
        },
        {
          "data": {
            "text/html": [
              "<div>\n",
              "<style scoped>\n",
              "    .dataframe tbody tr th:only-of-type {\n",
              "        vertical-align: middle;\n",
              "    }\n",
              "\n",
              "    .dataframe tbody tr th {\n",
              "        vertical-align: top;\n",
              "    }\n",
              "\n",
              "    .dataframe thead th {\n",
              "        text-align: right;\n",
              "    }\n",
              "</style>\n",
              "<table border=\"1\" class=\"dataframe\">\n",
              "  <thead>\n",
              "    <tr style=\"text-align: right;\">\n",
              "      <th></th>\n",
              "      <th>dteday</th>\n",
              "      <th>windspeed</th>\n",
              "      <th>cnt</th>\n",
              "    </tr>\n",
              "  </thead>\n",
              "  <tbody>\n",
              "    <tr>\n",
              "      <th>279</th>\n",
              "      <td>2011-10-07</td>\n",
              "      <td>0.022392</td>\n",
              "      <td>4985</td>\n",
              "    </tr>\n",
              "    <tr>\n",
              "      <th>282</th>\n",
              "      <td>2011-10-10</td>\n",
              "      <td>0.042304</td>\n",
              "      <td>5117</td>\n",
              "    </tr>\n",
              "    <tr>\n",
              "      <th>280</th>\n",
              "      <td>2011-10-08</td>\n",
              "      <td>0.045404</td>\n",
              "      <td>5409</td>\n",
              "    </tr>\n",
              "    <tr>\n",
              "      <th>37</th>\n",
              "      <td>2011-02-07</td>\n",
              "      <td>0.045408</td>\n",
              "      <td>1712</td>\n",
              "    </tr>\n",
              "    <tr>\n",
              "      <th>695</th>\n",
              "      <td>2012-11-26</td>\n",
              "      <td>0.046650</td>\n",
              "      <td>5087</td>\n",
              "    </tr>\n",
              "  </tbody>\n",
              "</table>\n",
              "</div>"
            ],
            "text/plain": [
              "        dteday  windspeed   cnt\n",
              "279 2011-10-07   0.022392  4985\n",
              "282 2011-10-10   0.042304  5117\n",
              "280 2011-10-08   0.045404  5409\n",
              "37  2011-02-07   0.045408  1712\n",
              "695 2012-11-26   0.046650  5087"
            ]
          },
          "execution_count": 67,
          "metadata": {},
          "output_type": "execute_result"
        }
      ],
      "source": [
        "top_5_windspeed_low = day_df[['dteday', 'windspeed', 'cnt']].nsmallest(5, 'windspeed')\n",
        "print(\"5 Hari dengan Kecepatan Angin Terendah:\")\n",
        "top_5_windspeed_low"
      ]
    },
    {
      "cell_type": "markdown",
      "metadata": {
        "id": "OgVksUFSrJzS"
      },
      "source": [
        "#### Explore hour_df"
      ]
    },
    {
      "cell_type": "code",
      "execution_count": 68,
      "metadata": {
        "colab": {
          "base_uri": "https://localhost:8080/",
          "height": 206
        },
        "id": "8FuMJfdGrpua",
        "outputId": "d8e1010d-5da4-40a6-92da-3e373332cf8f"
      },
      "outputs": [
        {
          "data": {
            "text/html": [
              "<div>\n",
              "<style scoped>\n",
              "    .dataframe tbody tr th:only-of-type {\n",
              "        vertical-align: middle;\n",
              "    }\n",
              "\n",
              "    .dataframe tbody tr th {\n",
              "        vertical-align: top;\n",
              "    }\n",
              "\n",
              "    .dataframe thead th {\n",
              "        text-align: right;\n",
              "    }\n",
              "</style>\n",
              "<table border=\"1\" class=\"dataframe\">\n",
              "  <thead>\n",
              "    <tr style=\"text-align: right;\">\n",
              "      <th></th>\n",
              "      <th>instant</th>\n",
              "      <th>dteday</th>\n",
              "      <th>season</th>\n",
              "      <th>yr</th>\n",
              "      <th>mnth</th>\n",
              "      <th>hr</th>\n",
              "      <th>holiday</th>\n",
              "      <th>weekday</th>\n",
              "      <th>workingday</th>\n",
              "      <th>weathersit</th>\n",
              "      <th>temp</th>\n",
              "      <th>atemp</th>\n",
              "      <th>hum</th>\n",
              "      <th>windspeed</th>\n",
              "      <th>casual</th>\n",
              "      <th>registered</th>\n",
              "      <th>cnt</th>\n",
              "    </tr>\n",
              "  </thead>\n",
              "  <tbody>\n",
              "    <tr>\n",
              "      <th>13884</th>\n",
              "      <td>13885</td>\n",
              "      <td>2012-08-06</td>\n",
              "      <td>3</td>\n",
              "      <td>1</td>\n",
              "      <td>8</td>\n",
              "      <td>17</td>\n",
              "      <td>0</td>\n",
              "      <td>1</td>\n",
              "      <td>1</td>\n",
              "      <td>1</td>\n",
              "      <td>0.82</td>\n",
              "      <td>0.7424</td>\n",
              "      <td>0.41</td>\n",
              "      <td>0.1940</td>\n",
              "      <td>112</td>\n",
              "      <td>746</td>\n",
              "      <td>858</td>\n",
              "    </tr>\n",
              "    <tr>\n",
              "      <th>16555</th>\n",
              "      <td>16556</td>\n",
              "      <td>2012-11-27</td>\n",
              "      <td>4</td>\n",
              "      <td>1</td>\n",
              "      <td>11</td>\n",
              "      <td>13</td>\n",
              "      <td>0</td>\n",
              "      <td>2</td>\n",
              "      <td>1</td>\n",
              "      <td>3</td>\n",
              "      <td>0.28</td>\n",
              "      <td>0.2727</td>\n",
              "      <td>0.87</td>\n",
              "      <td>0.2537</td>\n",
              "      <td>4</td>\n",
              "      <td>73</td>\n",
              "      <td>77</td>\n",
              "    </tr>\n",
              "    <tr>\n",
              "      <th>7833</th>\n",
              "      <td>7834</td>\n",
              "      <td>2011-11-28</td>\n",
              "      <td>4</td>\n",
              "      <td>0</td>\n",
              "      <td>11</td>\n",
              "      <td>0</td>\n",
              "      <td>0</td>\n",
              "      <td>1</td>\n",
              "      <td>1</td>\n",
              "      <td>1</td>\n",
              "      <td>0.46</td>\n",
              "      <td>0.4545</td>\n",
              "      <td>0.77</td>\n",
              "      <td>0.2836</td>\n",
              "      <td>6</td>\n",
              "      <td>10</td>\n",
              "      <td>16</td>\n",
              "    </tr>\n",
              "    <tr>\n",
              "      <th>13810</th>\n",
              "      <td>13811</td>\n",
              "      <td>2012-08-03</td>\n",
              "      <td>3</td>\n",
              "      <td>1</td>\n",
              "      <td>8</td>\n",
              "      <td>15</td>\n",
              "      <td>0</td>\n",
              "      <td>5</td>\n",
              "      <td>1</td>\n",
              "      <td>1</td>\n",
              "      <td>0.88</td>\n",
              "      <td>0.8182</td>\n",
              "      <td>0.42</td>\n",
              "      <td>0.2537</td>\n",
              "      <td>112</td>\n",
              "      <td>268</td>\n",
              "      <td>380</td>\n",
              "    </tr>\n",
              "    <tr>\n",
              "      <th>3850</th>\n",
              "      <td>3851</td>\n",
              "      <td>2011-06-14</td>\n",
              "      <td>2</td>\n",
              "      <td>0</td>\n",
              "      <td>6</td>\n",
              "      <td>8</td>\n",
              "      <td>0</td>\n",
              "      <td>2</td>\n",
              "      <td>1</td>\n",
              "      <td>1</td>\n",
              "      <td>0.58</td>\n",
              "      <td>0.5455</td>\n",
              "      <td>0.49</td>\n",
              "      <td>0.3881</td>\n",
              "      <td>45</td>\n",
              "      <td>441</td>\n",
              "      <td>486</td>\n",
              "    </tr>\n",
              "  </tbody>\n",
              "</table>\n",
              "</div>"
            ],
            "text/plain": [
              "       instant     dteday season yr mnth  hr holiday weekday workingday  \\\n",
              "13884    13885 2012-08-06      3  1    8  17       0       1          1   \n",
              "16555    16556 2012-11-27      4  1   11  13       0       2          1   \n",
              "7833      7834 2011-11-28      4  0   11   0       0       1          1   \n",
              "13810    13811 2012-08-03      3  1    8  15       0       5          1   \n",
              "3850      3851 2011-06-14      2  0    6   8       0       2          1   \n",
              "\n",
              "      weathersit  temp   atemp   hum  windspeed  casual  registered  cnt  \n",
              "13884          1  0.82  0.7424  0.41     0.1940     112         746  858  \n",
              "16555          3  0.28  0.2727  0.87     0.2537       4          73   77  \n",
              "7833           1  0.46  0.4545  0.77     0.2836       6          10   16  \n",
              "13810          1  0.88  0.8182  0.42     0.2537     112         268  380  \n",
              "3850           1  0.58  0.5455  0.49     0.3881      45         441  486  "
            ]
          },
          "execution_count": 68,
          "metadata": {},
          "output_type": "execute_result"
        }
      ],
      "source": [
        "hour_df.sample(5)"
      ]
    },
    {
      "cell_type": "code",
      "execution_count": 69,
      "metadata": {
        "colab": {
          "base_uri": "https://localhost:8080/",
          "height": 395
        },
        "id": "JyRg8aHxrrGH",
        "outputId": "e401eb4d-4286-4b40-f0c9-e98aa76e67c3"
      },
      "outputs": [
        {
          "data": {
            "text/html": [
              "<div>\n",
              "<style scoped>\n",
              "    .dataframe tbody tr th:only-of-type {\n",
              "        vertical-align: middle;\n",
              "    }\n",
              "\n",
              "    .dataframe tbody tr th {\n",
              "        vertical-align: top;\n",
              "    }\n",
              "\n",
              "    .dataframe thead th {\n",
              "        text-align: right;\n",
              "    }\n",
              "</style>\n",
              "<table border=\"1\" class=\"dataframe\">\n",
              "  <thead>\n",
              "    <tr style=\"text-align: right;\">\n",
              "      <th></th>\n",
              "      <th>instant</th>\n",
              "      <th>dteday</th>\n",
              "      <th>season</th>\n",
              "      <th>yr</th>\n",
              "      <th>mnth</th>\n",
              "      <th>hr</th>\n",
              "      <th>holiday</th>\n",
              "      <th>weekday</th>\n",
              "      <th>workingday</th>\n",
              "      <th>weathersit</th>\n",
              "      <th>temp</th>\n",
              "      <th>atemp</th>\n",
              "      <th>hum</th>\n",
              "      <th>windspeed</th>\n",
              "      <th>casual</th>\n",
              "      <th>registered</th>\n",
              "      <th>cnt</th>\n",
              "    </tr>\n",
              "  </thead>\n",
              "  <tbody>\n",
              "    <tr>\n",
              "      <th>count</th>\n",
              "      <td>17379.0000</td>\n",
              "      <td>17379</td>\n",
              "      <td>17379.0</td>\n",
              "      <td>17379.0</td>\n",
              "      <td>17379.0</td>\n",
              "      <td>17379.0</td>\n",
              "      <td>17379.0</td>\n",
              "      <td>17379.0</td>\n",
              "      <td>17379.0</td>\n",
              "      <td>17379</td>\n",
              "      <td>17379.000000</td>\n",
              "      <td>17379.000000</td>\n",
              "      <td>17357.000000</td>\n",
              "      <td>17379.000000</td>\n",
              "      <td>17379.000000</td>\n",
              "      <td>17379.000000</td>\n",
              "      <td>17379.000000</td>\n",
              "    </tr>\n",
              "    <tr>\n",
              "      <th>unique</th>\n",
              "      <td>NaN</td>\n",
              "      <td>NaN</td>\n",
              "      <td>4.0</td>\n",
              "      <td>2.0</td>\n",
              "      <td>12.0</td>\n",
              "      <td>24.0</td>\n",
              "      <td>2.0</td>\n",
              "      <td>7.0</td>\n",
              "      <td>2.0</td>\n",
              "      <td>3</td>\n",
              "      <td>NaN</td>\n",
              "      <td>NaN</td>\n",
              "      <td>NaN</td>\n",
              "      <td>NaN</td>\n",
              "      <td>NaN</td>\n",
              "      <td>NaN</td>\n",
              "      <td>NaN</td>\n",
              "    </tr>\n",
              "    <tr>\n",
              "      <th>top</th>\n",
              "      <td>NaN</td>\n",
              "      <td>NaN</td>\n",
              "      <td>3.0</td>\n",
              "      <td>1.0</td>\n",
              "      <td>5.0</td>\n",
              "      <td>17.0</td>\n",
              "      <td>0.0</td>\n",
              "      <td>6.0</td>\n",
              "      <td>1.0</td>\n",
              "      <td>1</td>\n",
              "      <td>NaN</td>\n",
              "      <td>NaN</td>\n",
              "      <td>NaN</td>\n",
              "      <td>NaN</td>\n",
              "      <td>NaN</td>\n",
              "      <td>NaN</td>\n",
              "      <td>NaN</td>\n",
              "    </tr>\n",
              "    <tr>\n",
              "      <th>freq</th>\n",
              "      <td>NaN</td>\n",
              "      <td>NaN</td>\n",
              "      <td>4496.0</td>\n",
              "      <td>8734.0</td>\n",
              "      <td>1488.0</td>\n",
              "      <td>730.0</td>\n",
              "      <td>16879.0</td>\n",
              "      <td>2512.0</td>\n",
              "      <td>11865.0</td>\n",
              "      <td>11413</td>\n",
              "      <td>NaN</td>\n",
              "      <td>NaN</td>\n",
              "      <td>NaN</td>\n",
              "      <td>NaN</td>\n",
              "      <td>NaN</td>\n",
              "      <td>NaN</td>\n",
              "      <td>NaN</td>\n",
              "    </tr>\n",
              "    <tr>\n",
              "      <th>mean</th>\n",
              "      <td>8690.0000</td>\n",
              "      <td>2012-01-02 04:08:34.552045568</td>\n",
              "      <td>NaN</td>\n",
              "      <td>NaN</td>\n",
              "      <td>NaN</td>\n",
              "      <td>NaN</td>\n",
              "      <td>NaN</td>\n",
              "      <td>NaN</td>\n",
              "      <td>NaN</td>\n",
              "      <td>NaN</td>\n",
              "      <td>0.496987</td>\n",
              "      <td>0.475778</td>\n",
              "      <td>0.628024</td>\n",
              "      <td>0.213455</td>\n",
              "      <td>35.676218</td>\n",
              "      <td>153.786869</td>\n",
              "      <td>189.463088</td>\n",
              "    </tr>\n",
              "    <tr>\n",
              "      <th>min</th>\n",
              "      <td>1.0000</td>\n",
              "      <td>2011-01-01 00:00:00</td>\n",
              "      <td>NaN</td>\n",
              "      <td>NaN</td>\n",
              "      <td>NaN</td>\n",
              "      <td>NaN</td>\n",
              "      <td>NaN</td>\n",
              "      <td>NaN</td>\n",
              "      <td>NaN</td>\n",
              "      <td>NaN</td>\n",
              "      <td>0.020000</td>\n",
              "      <td>0.015200</td>\n",
              "      <td>0.080000</td>\n",
              "      <td>0.089600</td>\n",
              "      <td>0.000000</td>\n",
              "      <td>0.000000</td>\n",
              "      <td>1.000000</td>\n",
              "    </tr>\n",
              "    <tr>\n",
              "      <th>25%</th>\n",
              "      <td>4345.5000</td>\n",
              "      <td>2011-07-04 00:00:00</td>\n",
              "      <td>NaN</td>\n",
              "      <td>NaN</td>\n",
              "      <td>NaN</td>\n",
              "      <td>NaN</td>\n",
              "      <td>NaN</td>\n",
              "      <td>NaN</td>\n",
              "      <td>NaN</td>\n",
              "      <td>NaN</td>\n",
              "      <td>0.340000</td>\n",
              "      <td>0.333300</td>\n",
              "      <td>0.480000</td>\n",
              "      <td>0.134300</td>\n",
              "      <td>4.000000</td>\n",
              "      <td>34.000000</td>\n",
              "      <td>40.000000</td>\n",
              "    </tr>\n",
              "    <tr>\n",
              "      <th>50%</th>\n",
              "      <td>8690.0000</td>\n",
              "      <td>2012-01-02 00:00:00</td>\n",
              "      <td>NaN</td>\n",
              "      <td>NaN</td>\n",
              "      <td>NaN</td>\n",
              "      <td>NaN</td>\n",
              "      <td>NaN</td>\n",
              "      <td>NaN</td>\n",
              "      <td>NaN</td>\n",
              "      <td>NaN</td>\n",
              "      <td>0.500000</td>\n",
              "      <td>0.484800</td>\n",
              "      <td>0.630000</td>\n",
              "      <td>0.194000</td>\n",
              "      <td>17.000000</td>\n",
              "      <td>115.000000</td>\n",
              "      <td>142.000000</td>\n",
              "    </tr>\n",
              "    <tr>\n",
              "      <th>75%</th>\n",
              "      <td>13034.5000</td>\n",
              "      <td>2012-07-02 00:00:00</td>\n",
              "      <td>NaN</td>\n",
              "      <td>NaN</td>\n",
              "      <td>NaN</td>\n",
              "      <td>NaN</td>\n",
              "      <td>NaN</td>\n",
              "      <td>NaN</td>\n",
              "      <td>NaN</td>\n",
              "      <td>NaN</td>\n",
              "      <td>0.660000</td>\n",
              "      <td>0.621200</td>\n",
              "      <td>0.780000</td>\n",
              "      <td>0.253700</td>\n",
              "      <td>48.000000</td>\n",
              "      <td>220.000000</td>\n",
              "      <td>281.000000</td>\n",
              "    </tr>\n",
              "    <tr>\n",
              "      <th>max</th>\n",
              "      <td>17379.0000</td>\n",
              "      <td>2012-12-31 00:00:00</td>\n",
              "      <td>NaN</td>\n",
              "      <td>NaN</td>\n",
              "      <td>NaN</td>\n",
              "      <td>NaN</td>\n",
              "      <td>NaN</td>\n",
              "      <td>NaN</td>\n",
              "      <td>NaN</td>\n",
              "      <td>NaN</td>\n",
              "      <td>1.000000</td>\n",
              "      <td>1.000000</td>\n",
              "      <td>1.000000</td>\n",
              "      <td>0.850700</td>\n",
              "      <td>367.000000</td>\n",
              "      <td>886.000000</td>\n",
              "      <td>977.000000</td>\n",
              "    </tr>\n",
              "    <tr>\n",
              "      <th>std</th>\n",
              "      <td>5017.0295</td>\n",
              "      <td>NaN</td>\n",
              "      <td>NaN</td>\n",
              "      <td>NaN</td>\n",
              "      <td>NaN</td>\n",
              "      <td>NaN</td>\n",
              "      <td>NaN</td>\n",
              "      <td>NaN</td>\n",
              "      <td>NaN</td>\n",
              "      <td>NaN</td>\n",
              "      <td>0.192556</td>\n",
              "      <td>0.171841</td>\n",
              "      <td>0.191754</td>\n",
              "      <td>0.099557</td>\n",
              "      <td>49.305030</td>\n",
              "      <td>151.357286</td>\n",
              "      <td>181.387599</td>\n",
              "    </tr>\n",
              "  </tbody>\n",
              "</table>\n",
              "</div>"
            ],
            "text/plain": [
              "           instant                         dteday   season       yr     mnth  \\\n",
              "count   17379.0000                          17379  17379.0  17379.0  17379.0   \n",
              "unique         NaN                            NaN      4.0      2.0     12.0   \n",
              "top            NaN                            NaN      3.0      1.0      5.0   \n",
              "freq           NaN                            NaN   4496.0   8734.0   1488.0   \n",
              "mean     8690.0000  2012-01-02 04:08:34.552045568      NaN      NaN      NaN   \n",
              "min         1.0000            2011-01-01 00:00:00      NaN      NaN      NaN   \n",
              "25%      4345.5000            2011-07-04 00:00:00      NaN      NaN      NaN   \n",
              "50%      8690.0000            2012-01-02 00:00:00      NaN      NaN      NaN   \n",
              "75%     13034.5000            2012-07-02 00:00:00      NaN      NaN      NaN   \n",
              "max     17379.0000            2012-12-31 00:00:00      NaN      NaN      NaN   \n",
              "std      5017.0295                            NaN      NaN      NaN      NaN   \n",
              "\n",
              "             hr  holiday  weekday  workingday weathersit          temp  \\\n",
              "count   17379.0  17379.0  17379.0     17379.0      17379  17379.000000   \n",
              "unique     24.0      2.0      7.0         2.0          3           NaN   \n",
              "top        17.0      0.0      6.0         1.0          1           NaN   \n",
              "freq      730.0  16879.0   2512.0     11865.0      11413           NaN   \n",
              "mean        NaN      NaN      NaN         NaN        NaN      0.496987   \n",
              "min         NaN      NaN      NaN         NaN        NaN      0.020000   \n",
              "25%         NaN      NaN      NaN         NaN        NaN      0.340000   \n",
              "50%         NaN      NaN      NaN         NaN        NaN      0.500000   \n",
              "75%         NaN      NaN      NaN         NaN        NaN      0.660000   \n",
              "max         NaN      NaN      NaN         NaN        NaN      1.000000   \n",
              "std         NaN      NaN      NaN         NaN        NaN      0.192556   \n",
              "\n",
              "               atemp           hum     windspeed        casual    registered  \\\n",
              "count   17379.000000  17357.000000  17379.000000  17379.000000  17379.000000   \n",
              "unique           NaN           NaN           NaN           NaN           NaN   \n",
              "top              NaN           NaN           NaN           NaN           NaN   \n",
              "freq             NaN           NaN           NaN           NaN           NaN   \n",
              "mean        0.475778      0.628024      0.213455     35.676218    153.786869   \n",
              "min         0.015200      0.080000      0.089600      0.000000      0.000000   \n",
              "25%         0.333300      0.480000      0.134300      4.000000     34.000000   \n",
              "50%         0.484800      0.630000      0.194000     17.000000    115.000000   \n",
              "75%         0.621200      0.780000      0.253700     48.000000    220.000000   \n",
              "max         1.000000      1.000000      0.850700    367.000000    886.000000   \n",
              "std         0.171841      0.191754      0.099557     49.305030    151.357286   \n",
              "\n",
              "                 cnt  \n",
              "count   17379.000000  \n",
              "unique           NaN  \n",
              "top              NaN  \n",
              "freq             NaN  \n",
              "mean      189.463088  \n",
              "min         1.000000  \n",
              "25%        40.000000  \n",
              "50%       142.000000  \n",
              "75%       281.000000  \n",
              "max       977.000000  \n",
              "std       181.387599  "
            ]
          },
          "execution_count": 69,
          "metadata": {},
          "output_type": "execute_result"
        }
      ],
      "source": [
        "hour_df.describe(include=\"all\")"
      ]
    },
    {
      "cell_type": "markdown",
      "metadata": {
        "id": "p5HVHCwje0fd"
      },
      "source": [
        "**Menampilkan tanggal pertama dan terakhir**"
      ]
    },
    {
      "cell_type": "code",
      "execution_count": 70,
      "metadata": {
        "colab": {
          "base_uri": "https://localhost:8080/"
        },
        "id": "0tlGnruqewdv",
        "outputId": "29fefeed-31ba-4e65-8c05-95834c3f5879"
      },
      "outputs": [
        {
          "name": "stdout",
          "output_type": "stream",
          "text": [
            "Tanggal Pertama: 2011-01-01 00:00:00\n",
            "Tanggal Terakhir: 2012-12-31 00:00:00\n"
          ]
        }
      ],
      "source": [
        "print(\"Tanggal Pertama:\", hour_df['dteday'].min())\n",
        "print(\"Tanggal Terakhir:\", hour_df['dteday'].max())"
      ]
    },
    {
      "cell_type": "markdown",
      "metadata": {
        "id": "Ma9pnx9ae0_2"
      },
      "source": [
        "**Menampilkan hari dan jam dengan jumlah Penyewa total terbanyak dan tersedikit**"
      ]
    },
    {
      "cell_type": "code",
      "execution_count": 71,
      "metadata": {
        "colab": {
          "base_uri": "https://localhost:8080/",
          "height": 224
        },
        "id": "7HS9V0Sve1aa",
        "outputId": "b905cb5e-d2c0-4593-e073-b839a7ef6166"
      },
      "outputs": [
        {
          "name": "stdout",
          "output_type": "stream",
          "text": [
            "5 Hari dengan Jumlah Penyewa Tertinggi:\n"
          ]
        },
        {
          "data": {
            "text/html": [
              "<div>\n",
              "<style scoped>\n",
              "    .dataframe tbody tr th:only-of-type {\n",
              "        vertical-align: middle;\n",
              "    }\n",
              "\n",
              "    .dataframe tbody tr th {\n",
              "        vertical-align: top;\n",
              "    }\n",
              "\n",
              "    .dataframe thead th {\n",
              "        text-align: right;\n",
              "    }\n",
              "</style>\n",
              "<table border=\"1\" class=\"dataframe\">\n",
              "  <thead>\n",
              "    <tr style=\"text-align: right;\">\n",
              "      <th></th>\n",
              "      <th>dteday</th>\n",
              "      <th>hr</th>\n",
              "      <th>cnt</th>\n",
              "      <th>casual</th>\n",
              "      <th>registered</th>\n",
              "    </tr>\n",
              "  </thead>\n",
              "  <tbody>\n",
              "    <tr>\n",
              "      <th>14773</th>\n",
              "      <td>2012-09-12</td>\n",
              "      <td>18</td>\n",
              "      <td>977</td>\n",
              "      <td>91</td>\n",
              "      <td>886</td>\n",
              "    </tr>\n",
              "    <tr>\n",
              "      <th>14964</th>\n",
              "      <td>2012-09-20</td>\n",
              "      <td>17</td>\n",
              "      <td>976</td>\n",
              "      <td>91</td>\n",
              "      <td>885</td>\n",
              "    </tr>\n",
              "    <tr>\n",
              "      <th>14748</th>\n",
              "      <td>2012-09-11</td>\n",
              "      <td>17</td>\n",
              "      <td>970</td>\n",
              "      <td>168</td>\n",
              "      <td>802</td>\n",
              "    </tr>\n",
              "    <tr>\n",
              "      <th>14725</th>\n",
              "      <td>2012-09-10</td>\n",
              "      <td>18</td>\n",
              "      <td>968</td>\n",
              "      <td>111</td>\n",
              "      <td>857</td>\n",
              "    </tr>\n",
              "    <tr>\n",
              "      <th>15084</th>\n",
              "      <td>2012-09-25</td>\n",
              "      <td>17</td>\n",
              "      <td>967</td>\n",
              "      <td>107</td>\n",
              "      <td>860</td>\n",
              "    </tr>\n",
              "  </tbody>\n",
              "</table>\n",
              "</div>"
            ],
            "text/plain": [
              "          dteday  hr  cnt  casual  registered\n",
              "14773 2012-09-12  18  977      91         886\n",
              "14964 2012-09-20  17  976      91         885\n",
              "14748 2012-09-11  17  970     168         802\n",
              "14725 2012-09-10  18  968     111         857\n",
              "15084 2012-09-25  17  967     107         860"
            ]
          },
          "execution_count": 71,
          "metadata": {},
          "output_type": "execute_result"
        }
      ],
      "source": [
        "top_5_cnt_high = hour_df[['dteday', 'hr', 'cnt', 'casual', 'registered']].nlargest(5, 'cnt')\n",
        "print(\"5 Hari dengan Jumlah Penyewa Tertinggi:\")\n",
        "top_5_cnt_high"
      ]
    },
    {
      "cell_type": "code",
      "execution_count": 72,
      "metadata": {
        "colab": {
          "base_uri": "https://localhost:8080/",
          "height": 224
        },
        "id": "9Cfzqv6yf4Ca",
        "outputId": "b1481329-1a8e-40bc-f28e-9e1e0ecc0017"
      },
      "outputs": [
        {
          "name": "stdout",
          "output_type": "stream",
          "text": [
            "5 Hari dengan Jumlah Penyewa Terendah:\n"
          ]
        },
        {
          "data": {
            "text/html": [
              "<div>\n",
              "<style scoped>\n",
              "    .dataframe tbody tr th:only-of-type {\n",
              "        vertical-align: middle;\n",
              "    }\n",
              "\n",
              "    .dataframe tbody tr th {\n",
              "        vertical-align: top;\n",
              "    }\n",
              "\n",
              "    .dataframe thead th {\n",
              "        text-align: right;\n",
              "    }\n",
              "</style>\n",
              "<table border=\"1\" class=\"dataframe\">\n",
              "  <thead>\n",
              "    <tr style=\"text-align: right;\">\n",
              "      <th></th>\n",
              "      <th>dteday</th>\n",
              "      <th>hr</th>\n",
              "      <th>cnt</th>\n",
              "      <th>casual</th>\n",
              "      <th>registered</th>\n",
              "    </tr>\n",
              "  </thead>\n",
              "  <tbody>\n",
              "    <tr>\n",
              "      <th>4</th>\n",
              "      <td>2011-01-01</td>\n",
              "      <td>4</td>\n",
              "      <td>1</td>\n",
              "      <td>0</td>\n",
              "      <td>1</td>\n",
              "    </tr>\n",
              "    <tr>\n",
              "      <th>5</th>\n",
              "      <td>2011-01-01</td>\n",
              "      <td>5</td>\n",
              "      <td>1</td>\n",
              "      <td>0</td>\n",
              "      <td>1</td>\n",
              "    </tr>\n",
              "    <tr>\n",
              "      <th>30</th>\n",
              "      <td>2011-01-02</td>\n",
              "      <td>7</td>\n",
              "      <td>1</td>\n",
              "      <td>0</td>\n",
              "      <td>1</td>\n",
              "    </tr>\n",
              "    <tr>\n",
              "      <th>49</th>\n",
              "      <td>2011-01-03</td>\n",
              "      <td>4</td>\n",
              "      <td>1</td>\n",
              "      <td>0</td>\n",
              "      <td>1</td>\n",
              "    </tr>\n",
              "    <tr>\n",
              "      <th>71</th>\n",
              "      <td>2011-01-04</td>\n",
              "      <td>2</td>\n",
              "      <td>1</td>\n",
              "      <td>0</td>\n",
              "      <td>1</td>\n",
              "    </tr>\n",
              "  </tbody>\n",
              "</table>\n",
              "</div>"
            ],
            "text/plain": [
              "       dteday hr  cnt  casual  registered\n",
              "4  2011-01-01  4    1       0           1\n",
              "5  2011-01-01  5    1       0           1\n",
              "30 2011-01-02  7    1       0           1\n",
              "49 2011-01-03  4    1       0           1\n",
              "71 2011-01-04  2    1       0           1"
            ]
          },
          "execution_count": 72,
          "metadata": {},
          "output_type": "execute_result"
        }
      ],
      "source": [
        "top_5_cnt_low = hour_df[['dteday', 'hr', 'cnt', 'casual', 'registered']].nsmallest(5, 'cnt')\n",
        "print(\"5 Hari dengan Jumlah Penyewa Terendah:\")\n",
        "top_5_cnt_low"
      ]
    },
    {
      "cell_type": "markdown",
      "metadata": {
        "id": "grbZtZ-Rf-_C"
      },
      "source": [
        "**Menampilkan jumlah penyewa berdasarkan jam dengan keadaan suhu tertinggi dan terendah**"
      ]
    },
    {
      "cell_type": "code",
      "execution_count": 73,
      "metadata": {
        "colab": {
          "base_uri": "https://localhost:8080/",
          "height": 224
        },
        "id": "wHx1LbkJf_bj",
        "outputId": "d8ffa7b8-4a24-45cd-b040-4dac50fd5c34"
      },
      "outputs": [
        {
          "name": "stdout",
          "output_type": "stream",
          "text": [
            "5 Jam dengan Suhu Tertinggi:\n"
          ]
        },
        {
          "data": {
            "text/html": [
              "<div>\n",
              "<style scoped>\n",
              "    .dataframe tbody tr th:only-of-type {\n",
              "        vertical-align: middle;\n",
              "    }\n",
              "\n",
              "    .dataframe tbody tr th {\n",
              "        vertical-align: top;\n",
              "    }\n",
              "\n",
              "    .dataframe thead th {\n",
              "        text-align: right;\n",
              "    }\n",
              "</style>\n",
              "<table border=\"1\" class=\"dataframe\">\n",
              "  <thead>\n",
              "    <tr style=\"text-align: right;\">\n",
              "      <th></th>\n",
              "      <th>dteday</th>\n",
              "      <th>hr</th>\n",
              "      <th>temp</th>\n",
              "      <th>cnt</th>\n",
              "    </tr>\n",
              "  </thead>\n",
              "  <tbody>\n",
              "    <tr>\n",
              "      <th>13163</th>\n",
              "      <td>2012-07-07</td>\n",
              "      <td>16</td>\n",
              "      <td>1.00</td>\n",
              "      <td>294</td>\n",
              "    </tr>\n",
              "    <tr>\n",
              "      <th>12972</th>\n",
              "      <td>2012-06-29</td>\n",
              "      <td>17</td>\n",
              "      <td>0.98</td>\n",
              "      <td>539</td>\n",
              "    </tr>\n",
              "    <tr>\n",
              "      <th>4768</th>\n",
              "      <td>2011-07-22</td>\n",
              "      <td>14</td>\n",
              "      <td>0.96</td>\n",
              "      <td>101</td>\n",
              "    </tr>\n",
              "    <tr>\n",
              "      <th>4934</th>\n",
              "      <td>2011-07-29</td>\n",
              "      <td>12</td>\n",
              "      <td>0.96</td>\n",
              "      <td>135</td>\n",
              "    </tr>\n",
              "    <tr>\n",
              "      <th>4936</th>\n",
              "      <td>2011-07-29</td>\n",
              "      <td>14</td>\n",
              "      <td>0.96</td>\n",
              "      <td>148</td>\n",
              "    </tr>\n",
              "  </tbody>\n",
              "</table>\n",
              "</div>"
            ],
            "text/plain": [
              "          dteday  hr  temp  cnt\n",
              "13163 2012-07-07  16  1.00  294\n",
              "12972 2012-06-29  17  0.98  539\n",
              "4768  2011-07-22  14  0.96  101\n",
              "4934  2011-07-29  12  0.96  135\n",
              "4936  2011-07-29  14  0.96  148"
            ]
          },
          "execution_count": 73,
          "metadata": {},
          "output_type": "execute_result"
        }
      ],
      "source": [
        "top_5_temp_high = hour_df[['dteday', 'hr', 'temp', 'cnt']].nlargest(5, 'temp')\n",
        "print(\"5 Jam dengan Suhu Tertinggi:\")\n",
        "top_5_temp_high"
      ]
    },
    {
      "cell_type": "code",
      "execution_count": 74,
      "metadata": {
        "colab": {
          "base_uri": "https://localhost:8080/",
          "height": 224
        },
        "id": "J8h-d9Fjg52V",
        "outputId": "0612b6c3-3882-40cf-d191-5557ddf3354e"
      },
      "outputs": [
        {
          "name": "stdout",
          "output_type": "stream",
          "text": [
            "5 Jam dengan Suhu Terendah:\n"
          ]
        },
        {
          "data": {
            "text/html": [
              "<div>\n",
              "<style scoped>\n",
              "    .dataframe tbody tr th:only-of-type {\n",
              "        vertical-align: middle;\n",
              "    }\n",
              "\n",
              "    .dataframe tbody tr th {\n",
              "        vertical-align: top;\n",
              "    }\n",
              "\n",
              "    .dataframe thead th {\n",
              "        text-align: right;\n",
              "    }\n",
              "</style>\n",
              "<table border=\"1\" class=\"dataframe\">\n",
              "  <thead>\n",
              "    <tr style=\"text-align: right;\">\n",
              "      <th></th>\n",
              "      <th>dteday</th>\n",
              "      <th>hr</th>\n",
              "      <th>temp</th>\n",
              "      <th>cnt</th>\n",
              "    </tr>\n",
              "  </thead>\n",
              "  <tbody>\n",
              "    <tr>\n",
              "      <th>483</th>\n",
              "      <td>2011-01-22</td>\n",
              "      <td>4</td>\n",
              "      <td>0.02</td>\n",
              "      <td>3</td>\n",
              "    </tr>\n",
              "    <tr>\n",
              "      <th>484</th>\n",
              "      <td>2011-01-22</td>\n",
              "      <td>6</td>\n",
              "      <td>0.02</td>\n",
              "      <td>2</td>\n",
              "    </tr>\n",
              "    <tr>\n",
              "      <th>485</th>\n",
              "      <td>2011-01-22</td>\n",
              "      <td>7</td>\n",
              "      <td>0.02</td>\n",
              "      <td>8</td>\n",
              "    </tr>\n",
              "    <tr>\n",
              "      <th>486</th>\n",
              "      <td>2011-01-22</td>\n",
              "      <td>8</td>\n",
              "      <td>0.02</td>\n",
              "      <td>27</td>\n",
              "    </tr>\n",
              "    <tr>\n",
              "      <th>504</th>\n",
              "      <td>2011-01-23</td>\n",
              "      <td>2</td>\n",
              "      <td>0.02</td>\n",
              "      <td>18</td>\n",
              "    </tr>\n",
              "  </tbody>\n",
              "</table>\n",
              "</div>"
            ],
            "text/plain": [
              "        dteday hr  temp  cnt\n",
              "483 2011-01-22  4  0.02    3\n",
              "484 2011-01-22  6  0.02    2\n",
              "485 2011-01-22  7  0.02    8\n",
              "486 2011-01-22  8  0.02   27\n",
              "504 2011-01-23  2  0.02   18"
            ]
          },
          "execution_count": 74,
          "metadata": {},
          "output_type": "execute_result"
        }
      ],
      "source": [
        "top_5_temp_low = hour_df[['dteday', 'hr', 'temp', 'cnt']].nsmallest(5, 'temp')\n",
        "print(\"5 Jam dengan Suhu Terendah:\")\n",
        "top_5_temp_low"
      ]
    },
    {
      "cell_type": "markdown",
      "metadata": {
        "id": "34UlP-cohPcb"
      },
      "source": [
        "**Menampilkan jumlah penyewa berdasarkan jam dengan keadaan Kelembaban (hum) Tertinggi & Terendah**"
      ]
    },
    {
      "cell_type": "code",
      "execution_count": 75,
      "metadata": {
        "colab": {
          "base_uri": "https://localhost:8080/",
          "height": 224
        },
        "id": "W0YbBznNhQGj",
        "outputId": "d8a389ef-6743-439a-afb4-33760c4d9b1d"
      },
      "outputs": [
        {
          "name": "stdout",
          "output_type": "stream",
          "text": [
            "5 Jam dengan Kelembaban Tertinggi:\n"
          ]
        },
        {
          "data": {
            "text/html": [
              "<div>\n",
              "<style scoped>\n",
              "    .dataframe tbody tr th:only-of-type {\n",
              "        vertical-align: middle;\n",
              "    }\n",
              "\n",
              "    .dataframe tbody tr th {\n",
              "        vertical-align: top;\n",
              "    }\n",
              "\n",
              "    .dataframe thead th {\n",
              "        text-align: right;\n",
              "    }\n",
              "</style>\n",
              "<table border=\"1\" class=\"dataframe\">\n",
              "  <thead>\n",
              "    <tr style=\"text-align: right;\">\n",
              "      <th></th>\n",
              "      <th>dteday</th>\n",
              "      <th>hr</th>\n",
              "      <th>hum</th>\n",
              "      <th>cnt</th>\n",
              "    </tr>\n",
              "  </thead>\n",
              "  <tbody>\n",
              "    <tr>\n",
              "      <th>26</th>\n",
              "      <td>2011-01-02</td>\n",
              "      <td>2</td>\n",
              "      <td>1.0</td>\n",
              "      <td>9</td>\n",
              "    </tr>\n",
              "    <tr>\n",
              "      <th>721</th>\n",
              "      <td>2011-02-02</td>\n",
              "      <td>10</td>\n",
              "      <td>1.0</td>\n",
              "      <td>61</td>\n",
              "    </tr>\n",
              "    <tr>\n",
              "      <th>786</th>\n",
              "      <td>2011-02-05</td>\n",
              "      <td>5</td>\n",
              "      <td>1.0</td>\n",
              "      <td>9</td>\n",
              "    </tr>\n",
              "    <tr>\n",
              "      <th>787</th>\n",
              "      <td>2011-02-05</td>\n",
              "      <td>6</td>\n",
              "      <td>1.0</td>\n",
              "      <td>4</td>\n",
              "    </tr>\n",
              "    <tr>\n",
              "      <th>789</th>\n",
              "      <td>2011-02-05</td>\n",
              "      <td>8</td>\n",
              "      <td>1.0</td>\n",
              "      <td>10</td>\n",
              "    </tr>\n",
              "  </tbody>\n",
              "</table>\n",
              "</div>"
            ],
            "text/plain": [
              "        dteday  hr  hum  cnt\n",
              "26  2011-01-02   2  1.0    9\n",
              "721 2011-02-02  10  1.0   61\n",
              "786 2011-02-05   5  1.0    9\n",
              "787 2011-02-05   6  1.0    4\n",
              "789 2011-02-05   8  1.0   10"
            ]
          },
          "execution_count": 75,
          "metadata": {},
          "output_type": "execute_result"
        }
      ],
      "source": [
        "top_5_hum_high = hour_df[['dteday', 'hr', 'hum', 'cnt']].nlargest(5, 'hum')\n",
        "print(\"5 Jam dengan Kelembaban Tertinggi:\")\n",
        "top_5_hum_high"
      ]
    },
    {
      "cell_type": "code",
      "execution_count": 76,
      "metadata": {
        "colab": {
          "base_uri": "https://localhost:8080/",
          "height": 241
        },
        "id": "FVMcR97UhQfK",
        "outputId": "3f5713fb-181e-4dcd-d107-f534a6eda2ed"
      },
      "outputs": [
        {
          "name": "stdout",
          "output_type": "stream",
          "text": [
            "\n",
            "5 Jam dengan Kelembaban Terendah:\n"
          ]
        },
        {
          "data": {
            "text/html": [
              "<div>\n",
              "<style scoped>\n",
              "    .dataframe tbody tr th:only-of-type {\n",
              "        vertical-align: middle;\n",
              "    }\n",
              "\n",
              "    .dataframe tbody tr th {\n",
              "        vertical-align: top;\n",
              "    }\n",
              "\n",
              "    .dataframe thead th {\n",
              "        text-align: right;\n",
              "    }\n",
              "</style>\n",
              "<table border=\"1\" class=\"dataframe\">\n",
              "  <thead>\n",
              "    <tr style=\"text-align: right;\">\n",
              "      <th></th>\n",
              "      <th>dteday</th>\n",
              "      <th>hr</th>\n",
              "      <th>hum</th>\n",
              "      <th>cnt</th>\n",
              "    </tr>\n",
              "  </thead>\n",
              "  <tbody>\n",
              "    <tr>\n",
              "      <th>1109</th>\n",
              "      <td>2011-02-18</td>\n",
              "      <td>23</td>\n",
              "      <td>0.08</td>\n",
              "      <td>77</td>\n",
              "    </tr>\n",
              "    <tr>\n",
              "      <th>1108</th>\n",
              "      <td>2011-02-18</td>\n",
              "      <td>22</td>\n",
              "      <td>0.10</td>\n",
              "      <td>107</td>\n",
              "    </tr>\n",
              "    <tr>\n",
              "      <th>1110</th>\n",
              "      <td>2011-02-19</td>\n",
              "      <td>0</td>\n",
              "      <td>0.12</td>\n",
              "      <td>29</td>\n",
              "    </tr>\n",
              "    <tr>\n",
              "      <th>1112</th>\n",
              "      <td>2011-02-19</td>\n",
              "      <td>2</td>\n",
              "      <td>0.13</td>\n",
              "      <td>17</td>\n",
              "    </tr>\n",
              "    <tr>\n",
              "      <th>1111</th>\n",
              "      <td>2011-02-19</td>\n",
              "      <td>1</td>\n",
              "      <td>0.14</td>\n",
              "      <td>31</td>\n",
              "    </tr>\n",
              "  </tbody>\n",
              "</table>\n",
              "</div>"
            ],
            "text/plain": [
              "         dteday  hr   hum  cnt\n",
              "1109 2011-02-18  23  0.08   77\n",
              "1108 2011-02-18  22  0.10  107\n",
              "1110 2011-02-19   0  0.12   29\n",
              "1112 2011-02-19   2  0.13   17\n",
              "1111 2011-02-19   1  0.14   31"
            ]
          },
          "execution_count": 76,
          "metadata": {},
          "output_type": "execute_result"
        }
      ],
      "source": [
        "top_5_hum_low = hour_df[['dteday', 'hr', 'hum', 'cnt']].nsmallest(5, 'hum')\n",
        "print(\"\\n5 Jam dengan Kelembaban Terendah:\")\n",
        "top_5_hum_low"
      ]
    },
    {
      "cell_type": "markdown",
      "metadata": {
        "id": "Zy1epsNahQ_h"
      },
      "source": [
        "**Menampilkan jumlah penyewa berdasarkan jam dengan keadaan Kecepatan Angin (windspeed) Tertinggi & Terendah**"
      ]
    },
    {
      "cell_type": "code",
      "execution_count": 77,
      "metadata": {
        "colab": {
          "base_uri": "https://localhost:8080/",
          "height": 224
        },
        "id": "qcd9__kihURb",
        "outputId": "4e6a54e7-0f5b-47df-96f8-0f764128cf16"
      },
      "outputs": [
        {
          "name": "stdout",
          "output_type": "stream",
          "text": [
            "5 Jam dengan Kecepatan Angin Tertinggi:\n"
          ]
        },
        {
          "data": {
            "text/html": [
              "<div>\n",
              "<style scoped>\n",
              "    .dataframe tbody tr th:only-of-type {\n",
              "        vertical-align: middle;\n",
              "    }\n",
              "\n",
              "    .dataframe tbody tr th {\n",
              "        vertical-align: top;\n",
              "    }\n",
              "\n",
              "    .dataframe thead th {\n",
              "        text-align: right;\n",
              "    }\n",
              "</style>\n",
              "<table border=\"1\" class=\"dataframe\">\n",
              "  <thead>\n",
              "    <tr style=\"text-align: right;\">\n",
              "      <th></th>\n",
              "      <th>dteday</th>\n",
              "      <th>hr</th>\n",
              "      <th>windspeed</th>\n",
              "      <th>cnt</th>\n",
              "    </tr>\n",
              "  </thead>\n",
              "  <tbody>\n",
              "    <tr>\n",
              "      <th>4315</th>\n",
              "      <td>2011-07-03</td>\n",
              "      <td>17</td>\n",
              "      <td>0.8507</td>\n",
              "      <td>358</td>\n",
              "    </tr>\n",
              "    <tr>\n",
              "      <th>4316</th>\n",
              "      <td>2011-07-03</td>\n",
              "      <td>18</td>\n",
              "      <td>0.8507</td>\n",
              "      <td>181</td>\n",
              "    </tr>\n",
              "    <tr>\n",
              "      <th>5635</th>\n",
              "      <td>2011-08-27</td>\n",
              "      <td>17</td>\n",
              "      <td>0.8358</td>\n",
              "      <td>16</td>\n",
              "    </tr>\n",
              "    <tr>\n",
              "      <th>1259</th>\n",
              "      <td>2011-02-25</td>\n",
              "      <td>15</td>\n",
              "      <td>0.8060</td>\n",
              "      <td>55</td>\n",
              "    </tr>\n",
              "    <tr>\n",
              "      <th>9956</th>\n",
              "      <td>2012-02-24</td>\n",
              "      <td>21</td>\n",
              "      <td>0.8060</td>\n",
              "      <td>152</td>\n",
              "    </tr>\n",
              "  </tbody>\n",
              "</table>\n",
              "</div>"
            ],
            "text/plain": [
              "         dteday  hr  windspeed  cnt\n",
              "4315 2011-07-03  17     0.8507  358\n",
              "4316 2011-07-03  18     0.8507  181\n",
              "5635 2011-08-27  17     0.8358   16\n",
              "1259 2011-02-25  15     0.8060   55\n",
              "9956 2012-02-24  21     0.8060  152"
            ]
          },
          "execution_count": 77,
          "metadata": {},
          "output_type": "execute_result"
        }
      ],
      "source": [
        "top_5_windspeed_high = hour_df[['dteday', 'hr', 'windspeed', 'cnt']].nlargest(5, 'windspeed')\n",
        "print(\"5 Jam dengan Kecepatan Angin Tertinggi:\")\n",
        "top_5_windspeed_high"
      ]
    },
    {
      "cell_type": "code",
      "execution_count": 78,
      "metadata": {
        "colab": {
          "base_uri": "https://localhost:8080/",
          "height": 241
        },
        "id": "0bY7LVfphUAL",
        "outputId": "45836e07-71dd-49b6-f06b-f1e7d316dd76"
      },
      "outputs": [
        {
          "name": "stdout",
          "output_type": "stream",
          "text": [
            "\n",
            "5 Jam dengan Kecepatan Angin Terendah:\n"
          ]
        },
        {
          "data": {
            "text/html": [
              "<div>\n",
              "<style scoped>\n",
              "    .dataframe tbody tr th:only-of-type {\n",
              "        vertical-align: middle;\n",
              "    }\n",
              "\n",
              "    .dataframe tbody tr th {\n",
              "        vertical-align: top;\n",
              "    }\n",
              "\n",
              "    .dataframe thead th {\n",
              "        text-align: right;\n",
              "    }\n",
              "</style>\n",
              "<table border=\"1\" class=\"dataframe\">\n",
              "  <thead>\n",
              "    <tr style=\"text-align: right;\">\n",
              "      <th></th>\n",
              "      <th>dteday</th>\n",
              "      <th>hr</th>\n",
              "      <th>windspeed</th>\n",
              "      <th>cnt</th>\n",
              "    </tr>\n",
              "  </thead>\n",
              "  <tbody>\n",
              "    <tr>\n",
              "      <th>5</th>\n",
              "      <td>2011-01-01</td>\n",
              "      <td>5</td>\n",
              "      <td>0.0896</td>\n",
              "      <td>1</td>\n",
              "    </tr>\n",
              "    <tr>\n",
              "      <th>72</th>\n",
              "      <td>2011-01-04</td>\n",
              "      <td>4</td>\n",
              "      <td>0.0896</td>\n",
              "      <td>2</td>\n",
              "    </tr>\n",
              "    <tr>\n",
              "      <th>90</th>\n",
              "      <td>2011-01-04</td>\n",
              "      <td>22</td>\n",
              "      <td>0.0896</td>\n",
              "      <td>35</td>\n",
              "    </tr>\n",
              "    <tr>\n",
              "      <th>91</th>\n",
              "      <td>2011-01-04</td>\n",
              "      <td>23</td>\n",
              "      <td>0.0896</td>\n",
              "      <td>11</td>\n",
              "    </tr>\n",
              "    <tr>\n",
              "      <th>93</th>\n",
              "      <td>2011-01-05</td>\n",
              "      <td>1</td>\n",
              "      <td>0.0896</td>\n",
              "      <td>6</td>\n",
              "    </tr>\n",
              "  </tbody>\n",
              "</table>\n",
              "</div>"
            ],
            "text/plain": [
              "       dteday  hr  windspeed  cnt\n",
              "5  2011-01-01   5     0.0896    1\n",
              "72 2011-01-04   4     0.0896    2\n",
              "90 2011-01-04  22     0.0896   35\n",
              "91 2011-01-04  23     0.0896   11\n",
              "93 2011-01-05   1     0.0896    6"
            ]
          },
          "execution_count": 78,
          "metadata": {},
          "output_type": "execute_result"
        }
      ],
      "source": [
        "top_5_windspeed_low = hour_df[['dteday', 'hr', 'windspeed', 'cnt']].nsmallest(5, 'windspeed')\n",
        "print(\"\\n5 Jam dengan Kecepatan Angin Terendah:\")\n",
        "top_5_windspeed_low"
      ]
    },
    {
      "cell_type": "markdown",
      "metadata": {
        "id": "MW7WF2kr8DC1"
      },
      "source": [
        "### Exploratory Data Antar Tabel 🔗"
      ]
    },
    {
      "cell_type": "markdown",
      "metadata": {
        "id": "bo2CzcGWuLPa"
      },
      "source": [
        "##### Megabungkan berdasarkan tanggal (dteday), karena day_df berisi data harian dan hour_df berisi data per jam"
      ]
    },
    {
      "cell_type": "code",
      "execution_count": 79,
      "metadata": {
        "colab": {
          "base_uri": "https://localhost:8080/",
          "height": 236
        },
        "id": "e9CQCZjk8DC2",
        "outputId": "b9f50f3d-d3e9-49a5-c886-b6a31e970531"
      },
      "outputs": [
        {
          "data": {
            "text/html": [
              "<div>\n",
              "<style scoped>\n",
              "    .dataframe tbody tr th:only-of-type {\n",
              "        vertical-align: middle;\n",
              "    }\n",
              "\n",
              "    .dataframe tbody tr th {\n",
              "        vertical-align: top;\n",
              "    }\n",
              "\n",
              "    .dataframe thead th {\n",
              "        text-align: right;\n",
              "    }\n",
              "</style>\n",
              "<table border=\"1\" class=\"dataframe\">\n",
              "  <thead>\n",
              "    <tr style=\"text-align: right;\">\n",
              "      <th></th>\n",
              "      <th>instant_hour</th>\n",
              "      <th>dteday</th>\n",
              "      <th>season_hour</th>\n",
              "      <th>yr_hour</th>\n",
              "      <th>mnth_hour</th>\n",
              "      <th>hr</th>\n",
              "      <th>holiday_hour</th>\n",
              "      <th>weekday_hour</th>\n",
              "      <th>workingday_hour</th>\n",
              "      <th>weathersit_hour</th>\n",
              "      <th>...</th>\n",
              "      <th>weekday_day</th>\n",
              "      <th>workingday_day</th>\n",
              "      <th>weathersit_day</th>\n",
              "      <th>temp_day</th>\n",
              "      <th>atemp_day</th>\n",
              "      <th>hum_day</th>\n",
              "      <th>windspeed_day</th>\n",
              "      <th>casual_day</th>\n",
              "      <th>registered_day</th>\n",
              "      <th>cnt_day</th>\n",
              "    </tr>\n",
              "  </thead>\n",
              "  <tbody>\n",
              "    <tr>\n",
              "      <th>0</th>\n",
              "      <td>1</td>\n",
              "      <td>2011-01-01</td>\n",
              "      <td>1</td>\n",
              "      <td>0</td>\n",
              "      <td>1</td>\n",
              "      <td>0</td>\n",
              "      <td>0</td>\n",
              "      <td>6</td>\n",
              "      <td>0</td>\n",
              "      <td>1</td>\n",
              "      <td>...</td>\n",
              "      <td>6</td>\n",
              "      <td>0</td>\n",
              "      <td>2</td>\n",
              "      <td>0.344167</td>\n",
              "      <td>0.363625</td>\n",
              "      <td>0.805833</td>\n",
              "      <td>0.160446</td>\n",
              "      <td>331</td>\n",
              "      <td>654</td>\n",
              "      <td>985</td>\n",
              "    </tr>\n",
              "    <tr>\n",
              "      <th>1</th>\n",
              "      <td>2</td>\n",
              "      <td>2011-01-01</td>\n",
              "      <td>1</td>\n",
              "      <td>0</td>\n",
              "      <td>1</td>\n",
              "      <td>1</td>\n",
              "      <td>0</td>\n",
              "      <td>6</td>\n",
              "      <td>0</td>\n",
              "      <td>1</td>\n",
              "      <td>...</td>\n",
              "      <td>6</td>\n",
              "      <td>0</td>\n",
              "      <td>2</td>\n",
              "      <td>0.344167</td>\n",
              "      <td>0.363625</td>\n",
              "      <td>0.805833</td>\n",
              "      <td>0.160446</td>\n",
              "      <td>331</td>\n",
              "      <td>654</td>\n",
              "      <td>985</td>\n",
              "    </tr>\n",
              "    <tr>\n",
              "      <th>2</th>\n",
              "      <td>3</td>\n",
              "      <td>2011-01-01</td>\n",
              "      <td>1</td>\n",
              "      <td>0</td>\n",
              "      <td>1</td>\n",
              "      <td>2</td>\n",
              "      <td>0</td>\n",
              "      <td>6</td>\n",
              "      <td>0</td>\n",
              "      <td>1</td>\n",
              "      <td>...</td>\n",
              "      <td>6</td>\n",
              "      <td>0</td>\n",
              "      <td>2</td>\n",
              "      <td>0.344167</td>\n",
              "      <td>0.363625</td>\n",
              "      <td>0.805833</td>\n",
              "      <td>0.160446</td>\n",
              "      <td>331</td>\n",
              "      <td>654</td>\n",
              "      <td>985</td>\n",
              "    </tr>\n",
              "    <tr>\n",
              "      <th>3</th>\n",
              "      <td>4</td>\n",
              "      <td>2011-01-01</td>\n",
              "      <td>1</td>\n",
              "      <td>0</td>\n",
              "      <td>1</td>\n",
              "      <td>3</td>\n",
              "      <td>0</td>\n",
              "      <td>6</td>\n",
              "      <td>0</td>\n",
              "      <td>1</td>\n",
              "      <td>...</td>\n",
              "      <td>6</td>\n",
              "      <td>0</td>\n",
              "      <td>2</td>\n",
              "      <td>0.344167</td>\n",
              "      <td>0.363625</td>\n",
              "      <td>0.805833</td>\n",
              "      <td>0.160446</td>\n",
              "      <td>331</td>\n",
              "      <td>654</td>\n",
              "      <td>985</td>\n",
              "    </tr>\n",
              "    <tr>\n",
              "      <th>4</th>\n",
              "      <td>5</td>\n",
              "      <td>2011-01-01</td>\n",
              "      <td>1</td>\n",
              "      <td>0</td>\n",
              "      <td>1</td>\n",
              "      <td>4</td>\n",
              "      <td>0</td>\n",
              "      <td>6</td>\n",
              "      <td>0</td>\n",
              "      <td>1</td>\n",
              "      <td>...</td>\n",
              "      <td>6</td>\n",
              "      <td>0</td>\n",
              "      <td>2</td>\n",
              "      <td>0.344167</td>\n",
              "      <td>0.363625</td>\n",
              "      <td>0.805833</td>\n",
              "      <td>0.160446</td>\n",
              "      <td>331</td>\n",
              "      <td>654</td>\n",
              "      <td>985</td>\n",
              "    </tr>\n",
              "  </tbody>\n",
              "</table>\n",
              "<p>5 rows × 32 columns</p>\n",
              "</div>"
            ],
            "text/plain": [
              "   instant_hour     dteday season_hour yr_hour mnth_hour hr holiday_hour  \\\n",
              "0             1 2011-01-01           1       0         1  0            0   \n",
              "1             2 2011-01-01           1       0         1  1            0   \n",
              "2             3 2011-01-01           1       0         1  2            0   \n",
              "3             4 2011-01-01           1       0         1  3            0   \n",
              "4             5 2011-01-01           1       0         1  4            0   \n",
              "\n",
              "  weekday_hour workingday_hour weathersit_hour  ...  weekday_day  \\\n",
              "0            6               0               1  ...            6   \n",
              "1            6               0               1  ...            6   \n",
              "2            6               0               1  ...            6   \n",
              "3            6               0               1  ...            6   \n",
              "4            6               0               1  ...            6   \n",
              "\n",
              "   workingday_day  weathersit_day  temp_day  atemp_day   hum_day  \\\n",
              "0               0               2  0.344167   0.363625  0.805833   \n",
              "1               0               2  0.344167   0.363625  0.805833   \n",
              "2               0               2  0.344167   0.363625  0.805833   \n",
              "3               0               2  0.344167   0.363625  0.805833   \n",
              "4               0               2  0.344167   0.363625  0.805833   \n",
              "\n",
              "   windspeed_day  casual_day registered_day cnt_day  \n",
              "0       0.160446         331            654     985  \n",
              "1       0.160446         331            654     985  \n",
              "2       0.160446         331            654     985  \n",
              "3       0.160446         331            654     985  \n",
              "4       0.160446         331            654     985  \n",
              "\n",
              "[5 rows x 32 columns]"
            ]
          },
          "execution_count": 79,
          "metadata": {},
          "output_type": "execute_result"
        }
      ],
      "source": [
        "bike_df = hour_df.merge(day_df, on=\"dteday\", suffixes=('_hour', '_day'))\n",
        "bike_df.head()"
      ]
    },
    {
      "cell_type": "markdown",
      "metadata": {
        "id": "JOERrlRdxXdw"
      },
      "source": [
        "##### Melihat tipe data yang sudah digunakan"
      ]
    },
    {
      "cell_type": "code",
      "execution_count": 80,
      "metadata": {
        "colab": {
          "base_uri": "https://localhost:8080/"
        },
        "id": "oC2QLy-jqaMk",
        "outputId": "7243baa9-8ca7-4f78-d914-bb099fddfb7f"
      },
      "outputs": [
        {
          "name": "stdout",
          "output_type": "stream",
          "text": [
            "<class 'pandas.core.frame.DataFrame'>\n",
            "RangeIndex: 17379 entries, 0 to 17378\n",
            "Data columns (total 32 columns):\n",
            " #   Column           Non-Null Count  Dtype         \n",
            "---  ------           --------------  -----         \n",
            " 0   instant_hour     17379 non-null  int64         \n",
            " 1   dteday           17379 non-null  datetime64[ns]\n",
            " 2   season_hour      17379 non-null  category      \n",
            " 3   yr_hour          17379 non-null  category      \n",
            " 4   mnth_hour        17379 non-null  category      \n",
            " 5   hr               17379 non-null  category      \n",
            " 6   holiday_hour     17379 non-null  category      \n",
            " 7   weekday_hour     17379 non-null  category      \n",
            " 8   workingday_hour  17379 non-null  category      \n",
            " 9   weathersit_hour  17379 non-null  category      \n",
            " 10  temp_hour        17379 non-null  float64       \n",
            " 11  atemp_hour       17379 non-null  float64       \n",
            " 12  hum_hour         17357 non-null  float64       \n",
            " 13  windspeed_hour   17379 non-null  float64       \n",
            " 14  casual_hour      17379 non-null  int64         \n",
            " 15  registered_hour  17379 non-null  int64         \n",
            " 16  cnt_hour         17379 non-null  int64         \n",
            " 17  instant_day      17379 non-null  int64         \n",
            " 18  season_day       17379 non-null  category      \n",
            " 19  yr_day           17379 non-null  category      \n",
            " 20  mnth_day         17379 non-null  category      \n",
            " 21  holiday_day      17379 non-null  category      \n",
            " 22  weekday_day      17379 non-null  category      \n",
            " 23  workingday_day   17379 non-null  category      \n",
            " 24  weathersit_day   17379 non-null  category      \n",
            " 25  temp_day         17379 non-null  float64       \n",
            " 26  atemp_day        17379 non-null  float64       \n",
            " 27  hum_day          17379 non-null  float64       \n",
            " 28  windspeed_day    17379 non-null  float64       \n",
            " 29  casual_day       17379 non-null  int64         \n",
            " 30  registered_day   17379 non-null  int64         \n",
            " 31  cnt_day          17379 non-null  int64         \n",
            "dtypes: category(15), datetime64[ns](1), float64(8), int64(8)\n",
            "memory usage: 2.5 MB\n"
          ]
        }
      ],
      "source": [
        "bike_df.info()"
      ]
    },
    {
      "cell_type": "markdown",
      "metadata": {
        "id": "xihXeJGYkXgB"
      },
      "source": [
        "##### Menampilkan tanggal pertama dan terakhir dari data yang telah digabungkan"
      ]
    },
    {
      "cell_type": "code",
      "execution_count": 81,
      "metadata": {
        "colab": {
          "base_uri": "https://localhost:8080/"
        },
        "id": "orKL3bT0kX77",
        "outputId": "6c93823d-c163-432a-b87b-d321622a4b25"
      },
      "outputs": [
        {
          "name": "stdout",
          "output_type": "stream",
          "text": [
            "Tanggal Pertama: 2011-01-01 00:00:00\n",
            "Tanggal Terakhir: 2012-12-31 00:00:00\n"
          ]
        }
      ],
      "source": [
        "print(\"Tanggal Pertama:\", bike_df['dteday'].min())\n",
        "print(\"Tanggal Terakhir:\", bike_df['dteday'].max())"
      ]
    },
    {
      "cell_type": "markdown",
      "metadata": {
        "id": "72D6oD5PkYgh"
      },
      "source": [
        "##### Mengecek apakah jumlah cnt dari hour_df dalam sehari sama dengan cnt di day_df\n",
        "\n"
      ]
    },
    {
      "cell_type": "markdown",
      "metadata": {
        "id": "b61CRz2Gxo2y"
      },
      "source": [
        "**kalau tidak ada (0) berarti aman, dan data bisa dianalisis**"
      ]
    },
    {
      "cell_type": "code",
      "execution_count": 82,
      "metadata": {
        "id": "vpNEER31vwjr"
      },
      "outputs": [],
      "source": [
        "daily_hour_sum = bike_df.groupby('dteday')['cnt_hour'].sum().reset_index()\n",
        "daily_comparison = daily_hour_sum.merge(day_df[['dteday', 'cnt']], on='dteday', suffixes=('_hour_sum', '_day'))\n",
        "daily_hour_sum.rename(columns={'cnt_hour':'cnt'},inplace=True)"
      ]
    },
    {
      "cell_type": "code",
      "execution_count": 83,
      "metadata": {
        "id": "XJbvCcNKvyji"
      },
      "outputs": [],
      "source": [
        "daily_hour_sum = bike_df.groupby('dteday')['cnt_hour'].sum().reset_index()\n",
        "daily_comparison = daily_hour_sum.merge(day_df[['dteday', 'cnt']], on='dteday', suffixes=('_hour_sum', '_day'))\n",
        "daily_hour_sum.rename(columns={'cnt_hour':'cnt'},inplace=True)\n",
        "daily_comparison = daily_hour_sum.merge(day_df[['dteday', 'cnt']], on='dteday', suffixes=('_hour_sum', '_day'))\n",
        "daily_comparison['difference'] = daily_comparison['cnt_hour_sum'] - daily_comparison['cnt_day']"
      ]
    },
    {
      "cell_type": "code",
      "execution_count": 84,
      "metadata": {
        "colab": {
          "base_uri": "https://localhost:8080/",
          "height": 70
        },
        "id": "smLAO8iKkY_U",
        "outputId": "4c86609a-fa18-4258-fe5a-49a45622517c"
      },
      "outputs": [
        {
          "name": "stdout",
          "output_type": "stream",
          "text": [
            "Perbedaan Jumlah Penyewaan per Hari antara `hour_df` & `day_df`:\n"
          ]
        },
        {
          "data": {
            "text/html": [
              "<div>\n",
              "<style scoped>\n",
              "    .dataframe tbody tr th:only-of-type {\n",
              "        vertical-align: middle;\n",
              "    }\n",
              "\n",
              "    .dataframe tbody tr th {\n",
              "        vertical-align: top;\n",
              "    }\n",
              "\n",
              "    .dataframe thead th {\n",
              "        text-align: right;\n",
              "    }\n",
              "</style>\n",
              "<table border=\"1\" class=\"dataframe\">\n",
              "  <thead>\n",
              "    <tr style=\"text-align: right;\">\n",
              "      <th></th>\n",
              "      <th>dteday</th>\n",
              "      <th>cnt_hour_sum</th>\n",
              "      <th>cnt_day</th>\n",
              "      <th>difference</th>\n",
              "    </tr>\n",
              "  </thead>\n",
              "  <tbody>\n",
              "  </tbody>\n",
              "</table>\n",
              "</div>"
            ],
            "text/plain": [
              "Empty DataFrame\n",
              "Columns: [dteday, cnt_hour_sum, cnt_day, difference]\n",
              "Index: []"
            ]
          },
          "execution_count": 84,
          "metadata": {},
          "output_type": "execute_result"
        }
      ],
      "source": [
        "daily_hour_sum = bike_df.groupby('dteday')['cnt_hour'].sum().reset_index()\n",
        "daily_comparison = daily_hour_sum.merge(day_df[['dteday', 'cnt']], on='dteday', suffixes=('_hour_sum', '_day'))\n",
        "daily_hour_sum.rename(columns={'cnt_hour':'cnt'},inplace=True)\n",
        "daily_comparison = daily_hour_sum.merge(day_df[['dteday', 'cnt']], on='dteday', suffixes=('_hour_sum', '_day'))\n",
        "daily_comparison['difference'] = daily_comparison['cnt_hour_sum'] - daily_comparison['cnt_day']\n",
        "\n",
        "print(\"Perbedaan Jumlah Penyewaan per Hari antara `hour_df` & `day_df`:\")\n",
        "daily_comparison[daily_comparison['difference'] != 0]"
      ]
    },
    {
      "cell_type": "markdown",
      "metadata": {
        "id": "TF4UjuXOwZma"
      },
      "source": [
        "##### Mengecek hari dengan perbedaan penyewaan lebih dari 0 (ketidaksesuaian antara hour_df dan day_df)"
      ]
    },
    {
      "cell_type": "markdown",
      "metadata": {
        "id": "8xBd2iqSxxr_"
      },
      "source": [
        "**kalau tidak ada (0) berarti aman, dan data bisa dianalisis**"
      ]
    },
    {
      "cell_type": "code",
      "execution_count": 85,
      "metadata": {
        "colab": {
          "base_uri": "https://localhost:8080/",
          "height": 70
        },
        "id": "s034jUYqv3QB",
        "outputId": "8ed2e30a-e3aa-448d-e95f-8218650da4c8"
      },
      "outputs": [
        {
          "name": "stdout",
          "output_type": "stream",
          "text": [
            "Jumlah hari dengan perbedaan penyewaan lebih dari 0: 0\n"
          ]
        },
        {
          "data": {
            "text/html": [
              "<div>\n",
              "<style scoped>\n",
              "    .dataframe tbody tr th:only-of-type {\n",
              "        vertical-align: middle;\n",
              "    }\n",
              "\n",
              "    .dataframe tbody tr th {\n",
              "        vertical-align: top;\n",
              "    }\n",
              "\n",
              "    .dataframe thead th {\n",
              "        text-align: right;\n",
              "    }\n",
              "</style>\n",
              "<table border=\"1\" class=\"dataframe\">\n",
              "  <thead>\n",
              "    <tr style=\"text-align: right;\">\n",
              "      <th></th>\n",
              "      <th>dteday</th>\n",
              "      <th>cnt_hour_sum</th>\n",
              "      <th>cnt_day</th>\n",
              "      <th>difference</th>\n",
              "    </tr>\n",
              "  </thead>\n",
              "  <tbody>\n",
              "  </tbody>\n",
              "</table>\n",
              "</div>"
            ],
            "text/plain": [
              "Empty DataFrame\n",
              "Columns: [dteday, cnt_hour_sum, cnt_day, difference]\n",
              "Index: []"
            ]
          },
          "execution_count": 85,
          "metadata": {},
          "output_type": "execute_result"
        }
      ],
      "source": [
        "print(f\"Jumlah hari dengan perbedaan penyewaan lebih dari 0: {daily_comparison[daily_comparison['difference'] > 0].shape[0]}\")\n",
        "daily_comparison[daily_comparison['difference'] > 0].nlargest(5, 'difference')"
      ]
    },
    {
      "cell_type": "markdown",
      "metadata": {
        "id": "6LGSQ8VMw_kS"
      },
      "source": [
        "##### Mengecek berapa rata-rata penyewaan sepeda per jam di masing-masing hari."
      ]
    },
    {
      "cell_type": "code",
      "execution_count": 86,
      "metadata": {
        "colab": {
          "base_uri": "https://localhost:8080/",
          "height": 381
        },
        "id": "VHoi2Iwlw_9u",
        "outputId": "79887cca-787e-4785-d99f-32c9ac8fd6bf"
      },
      "outputs": [
        {
          "name": "stdout",
          "output_type": "stream",
          "text": [
            "Rata-rata Penyewaan Sepeda per Jam di Setiap Hari:\n"
          ]
        },
        {
          "data": {
            "text/html": [
              "<div>\n",
              "<style scoped>\n",
              "    .dataframe tbody tr th:only-of-type {\n",
              "        vertical-align: middle;\n",
              "    }\n",
              "\n",
              "    .dataframe tbody tr th {\n",
              "        vertical-align: top;\n",
              "    }\n",
              "\n",
              "    .dataframe thead th {\n",
              "        text-align: right;\n",
              "    }\n",
              "</style>\n",
              "<table border=\"1\" class=\"dataframe\">\n",
              "  <thead>\n",
              "    <tr style=\"text-align: right;\">\n",
              "      <th></th>\n",
              "      <th>dteday</th>\n",
              "      <th>cnt_hour</th>\n",
              "    </tr>\n",
              "  </thead>\n",
              "  <tbody>\n",
              "    <tr>\n",
              "      <th>0</th>\n",
              "      <td>2011-01-01</td>\n",
              "      <td>41.041667</td>\n",
              "    </tr>\n",
              "    <tr>\n",
              "      <th>1</th>\n",
              "      <td>2011-01-02</td>\n",
              "      <td>34.826087</td>\n",
              "    </tr>\n",
              "    <tr>\n",
              "      <th>2</th>\n",
              "      <td>2011-01-03</td>\n",
              "      <td>61.318182</td>\n",
              "    </tr>\n",
              "    <tr>\n",
              "      <th>3</th>\n",
              "      <td>2011-01-04</td>\n",
              "      <td>67.913043</td>\n",
              "    </tr>\n",
              "    <tr>\n",
              "      <th>4</th>\n",
              "      <td>2011-01-05</td>\n",
              "      <td>69.565217</td>\n",
              "    </tr>\n",
              "    <tr>\n",
              "      <th>5</th>\n",
              "      <td>2011-01-06</td>\n",
              "      <td>69.826087</td>\n",
              "    </tr>\n",
              "    <tr>\n",
              "      <th>6</th>\n",
              "      <td>2011-01-07</td>\n",
              "      <td>65.652174</td>\n",
              "    </tr>\n",
              "    <tr>\n",
              "      <th>7</th>\n",
              "      <td>2011-01-08</td>\n",
              "      <td>39.958333</td>\n",
              "    </tr>\n",
              "    <tr>\n",
              "      <th>8</th>\n",
              "      <td>2011-01-09</td>\n",
              "      <td>34.250000</td>\n",
              "    </tr>\n",
              "    <tr>\n",
              "      <th>9</th>\n",
              "      <td>2011-01-10</td>\n",
              "      <td>55.041667</td>\n",
              "    </tr>\n",
              "  </tbody>\n",
              "</table>\n",
              "</div>"
            ],
            "text/plain": [
              "      dteday   cnt_hour\n",
              "0 2011-01-01  41.041667\n",
              "1 2011-01-02  34.826087\n",
              "2 2011-01-03  61.318182\n",
              "3 2011-01-04  67.913043\n",
              "4 2011-01-05  69.565217\n",
              "5 2011-01-06  69.826087\n",
              "6 2011-01-07  65.652174\n",
              "7 2011-01-08  39.958333\n",
              "8 2011-01-09  34.250000\n",
              "9 2011-01-10  55.041667"
            ]
          },
          "execution_count": 86,
          "metadata": {},
          "output_type": "execute_result"
        }
      ],
      "source": [
        "avg_hourly_rental = bike_df.groupby('dteday')['cnt_hour'].mean().reset_index()\n",
        "\n",
        "print(\"Rata-rata Penyewaan Sepeda per Jam di Setiap Hari:\")\n",
        "avg_hourly_rental.head(10)"
      ]
    },
    {
      "cell_type": "markdown",
      "metadata": {
        "id": "5XZrMZb419yi"
      },
      "source": [
        "##### Melihat Perbedaan Penyewaan di Akhir Pekan vs Hari Kerja"
      ]
    },
    {
      "cell_type": "code",
      "execution_count": 87,
      "metadata": {
        "colab": {
          "base_uri": "https://localhost:8080/",
          "height": 130
        },
        "id": "Hf7e1yM-zXju",
        "outputId": "40bb4e00-746c-444c-e68a-07bf7b18a371"
      },
      "outputs": [
        {
          "name": "stdout",
          "output_type": "stream",
          "text": [
            "Rata-rata Penyewaan Sepeda di Hari Kerja vs Akhir Pekan:\n"
          ]
        },
        {
          "data": {
            "text/html": [
              "<div>\n",
              "<style scoped>\n",
              "    .dataframe tbody tr th:only-of-type {\n",
              "        vertical-align: middle;\n",
              "    }\n",
              "\n",
              "    .dataframe tbody tr th {\n",
              "        vertical-align: top;\n",
              "    }\n",
              "\n",
              "    .dataframe thead th {\n",
              "        text-align: right;\n",
              "    }\n",
              "</style>\n",
              "<table border=\"1\" class=\"dataframe\">\n",
              "  <thead>\n",
              "    <tr style=\"text-align: right;\">\n",
              "      <th></th>\n",
              "      <th>workingday_day</th>\n",
              "      <th>avg_rental</th>\n",
              "    </tr>\n",
              "  </thead>\n",
              "  <tbody>\n",
              "    <tr>\n",
              "      <th>0</th>\n",
              "      <td>0</td>\n",
              "      <td>181.405332</td>\n",
              "    </tr>\n",
              "    <tr>\n",
              "      <th>1</th>\n",
              "      <td>1</td>\n",
              "      <td>193.207754</td>\n",
              "    </tr>\n",
              "  </tbody>\n",
              "</table>\n",
              "</div>"
            ],
            "text/plain": [
              "  workingday_day  avg_rental\n",
              "0              0  181.405332\n",
              "1              1  193.207754"
            ]
          },
          "execution_count": 87,
          "metadata": {},
          "output_type": "execute_result"
        }
      ],
      "source": [
        "print(\"Rata-rata Penyewaan Sepeda di Hari Kerja vs Akhir Pekan:\")\n",
        "bike_df.groupby('workingday_day', observed=True)['cnt_hour'].mean().reset_index().rename(columns={'cnt_hour': 'avg_rental'})"
      ]
    },
    {
      "cell_type": "markdown",
      "metadata": {
        "id": "dSFqmRIy2N5t"
      },
      "source": [
        "##### Melihat musim mana yang memiliki rata-rata penyewaan tertinggi dan terendah"
      ]
    },
    {
      "cell_type": "code",
      "execution_count": 88,
      "metadata": {
        "colab": {
          "base_uri": "https://localhost:8080/",
          "height": 192
        },
        "id": "OHIB_DNazn1P",
        "outputId": "6fcfba4e-f5f7-44fd-d311-7f79d1a71d72"
      },
      "outputs": [
        {
          "name": "stdout",
          "output_type": "stream",
          "text": [
            "Rata-rata Penyewaan Sepeda Berdasarkan Musim:\n"
          ]
        },
        {
          "data": {
            "text/html": [
              "<div>\n",
              "<style scoped>\n",
              "    .dataframe tbody tr th:only-of-type {\n",
              "        vertical-align: middle;\n",
              "    }\n",
              "\n",
              "    .dataframe tbody tr th {\n",
              "        vertical-align: top;\n",
              "    }\n",
              "\n",
              "    .dataframe thead th {\n",
              "        text-align: right;\n",
              "    }\n",
              "</style>\n",
              "<table border=\"1\" class=\"dataframe\">\n",
              "  <thead>\n",
              "    <tr style=\"text-align: right;\">\n",
              "      <th></th>\n",
              "      <th>season</th>\n",
              "      <th>avg_rental</th>\n",
              "    </tr>\n",
              "  </thead>\n",
              "  <tbody>\n",
              "    <tr>\n",
              "      <th>0</th>\n",
              "      <td>1</td>\n",
              "      <td>111.114569</td>\n",
              "    </tr>\n",
              "    <tr>\n",
              "      <th>1</th>\n",
              "      <td>2</td>\n",
              "      <td>208.344069</td>\n",
              "    </tr>\n",
              "    <tr>\n",
              "      <th>2</th>\n",
              "      <td>3</td>\n",
              "      <td>236.016237</td>\n",
              "    </tr>\n",
              "    <tr>\n",
              "      <th>3</th>\n",
              "      <td>4</td>\n",
              "      <td>198.868856</td>\n",
              "    </tr>\n",
              "  </tbody>\n",
              "</table>\n",
              "</div>"
            ],
            "text/plain": [
              "  season  avg_rental\n",
              "0      1  111.114569\n",
              "1      2  208.344069\n",
              "2      3  236.016237\n",
              "3      4  198.868856"
            ]
          },
          "execution_count": 88,
          "metadata": {},
          "output_type": "execute_result"
        }
      ],
      "source": [
        "season_rentals = bike_df.groupby('season_day', observed=True)['cnt_hour'].mean().reset_index()\n",
        "season_rentals.columns = ['season', 'avg_rental']\n",
        "\n",
        "print(\"Rata-rata Penyewaan Sepeda Berdasarkan Musim:\")\n",
        "season_rentals"
      ]
    },
    {
      "cell_type": "markdown",
      "metadata": {
        "id": "OuTnBG7e2U13"
      },
      "source": [
        "##### Menampilkan waktu (tanggal + jam) dengan penyewaan tertinggi dan terendah"
      ]
    },
    {
      "cell_type": "code",
      "execution_count": 89,
      "metadata": {
        "colab": {
          "base_uri": "https://localhost:8080/",
          "height": 192
        },
        "id": "AViXTPNozne0",
        "outputId": "a84a2c73-83f1-4de4-fc54-6089b0112e07"
      },
      "outputs": [
        {
          "name": "stdout",
          "output_type": "stream",
          "text": [
            "Rata-rata Penyewaan Sepeda Berdasarkan Musim:\n"
          ]
        },
        {
          "data": {
            "text/html": [
              "<div>\n",
              "<style scoped>\n",
              "    .dataframe tbody tr th:only-of-type {\n",
              "        vertical-align: middle;\n",
              "    }\n",
              "\n",
              "    .dataframe tbody tr th {\n",
              "        vertical-align: top;\n",
              "    }\n",
              "\n",
              "    .dataframe thead th {\n",
              "        text-align: right;\n",
              "    }\n",
              "</style>\n",
              "<table border=\"1\" class=\"dataframe\">\n",
              "  <thead>\n",
              "    <tr style=\"text-align: right;\">\n",
              "      <th></th>\n",
              "      <th>season_day</th>\n",
              "      <th>avg_rental</th>\n",
              "    </tr>\n",
              "  </thead>\n",
              "  <tbody>\n",
              "    <tr>\n",
              "      <th>0</th>\n",
              "      <td>1</td>\n",
              "      <td>111.114569</td>\n",
              "    </tr>\n",
              "    <tr>\n",
              "      <th>1</th>\n",
              "      <td>2</td>\n",
              "      <td>208.344069</td>\n",
              "    </tr>\n",
              "    <tr>\n",
              "      <th>2</th>\n",
              "      <td>3</td>\n",
              "      <td>236.016237</td>\n",
              "    </tr>\n",
              "    <tr>\n",
              "      <th>3</th>\n",
              "      <td>4</td>\n",
              "      <td>198.868856</td>\n",
              "    </tr>\n",
              "  </tbody>\n",
              "</table>\n",
              "</div>"
            ],
            "text/plain": [
              "  season_day  avg_rental\n",
              "0          1  111.114569\n",
              "1          2  208.344069\n",
              "2          3  236.016237\n",
              "3          4  198.868856"
            ]
          },
          "execution_count": 89,
          "metadata": {},
          "output_type": "execute_result"
        }
      ],
      "source": [
        "print(\"Rata-rata Penyewaan Sepeda Berdasarkan Musim:\")\n",
        "bike_df.groupby('season_day', observed=True)['cnt_hour'].mean().reset_index().rename(columns={'cnt_hour': 'avg_rental'})"
      ]
    },
    {
      "cell_type": "code",
      "execution_count": 90,
      "metadata": {
        "colab": {
          "base_uri": "https://localhost:8080/",
          "height": 241
        },
        "id": "HdQNdNv0zzvE",
        "outputId": "1fc97fc5-8acd-4158-9ced-4116f731168a"
      },
      "outputs": [
        {
          "name": "stdout",
          "output_type": "stream",
          "text": [
            "\n",
            "5 Waktu dengan Penyewaan Sepeda Terendah:\n"
          ]
        },
        {
          "data": {
            "text/html": [
              "<div>\n",
              "<style scoped>\n",
              "    .dataframe tbody tr th:only-of-type {\n",
              "        vertical-align: middle;\n",
              "    }\n",
              "\n",
              "    .dataframe tbody tr th {\n",
              "        vertical-align: top;\n",
              "    }\n",
              "\n",
              "    .dataframe thead th {\n",
              "        text-align: right;\n",
              "    }\n",
              "</style>\n",
              "<table border=\"1\" class=\"dataframe\">\n",
              "  <thead>\n",
              "    <tr style=\"text-align: right;\">\n",
              "      <th></th>\n",
              "      <th>dteday</th>\n",
              "      <th>hr</th>\n",
              "      <th>cnt_hour</th>\n",
              "    </tr>\n",
              "  </thead>\n",
              "  <tbody>\n",
              "    <tr>\n",
              "      <th>4</th>\n",
              "      <td>2011-01-01</td>\n",
              "      <td>4</td>\n",
              "      <td>1</td>\n",
              "    </tr>\n",
              "    <tr>\n",
              "      <th>5</th>\n",
              "      <td>2011-01-01</td>\n",
              "      <td>5</td>\n",
              "      <td>1</td>\n",
              "    </tr>\n",
              "    <tr>\n",
              "      <th>30</th>\n",
              "      <td>2011-01-02</td>\n",
              "      <td>7</td>\n",
              "      <td>1</td>\n",
              "    </tr>\n",
              "    <tr>\n",
              "      <th>49</th>\n",
              "      <td>2011-01-03</td>\n",
              "      <td>4</td>\n",
              "      <td>1</td>\n",
              "    </tr>\n",
              "    <tr>\n",
              "      <th>71</th>\n",
              "      <td>2011-01-04</td>\n",
              "      <td>2</td>\n",
              "      <td>1</td>\n",
              "    </tr>\n",
              "  </tbody>\n",
              "</table>\n",
              "</div>"
            ],
            "text/plain": [
              "       dteday hr  cnt_hour\n",
              "4  2011-01-01  4         1\n",
              "5  2011-01-01  5         1\n",
              "30 2011-01-02  7         1\n",
              "49 2011-01-03  4         1\n",
              "71 2011-01-04  2         1"
            ]
          },
          "execution_count": 90,
          "metadata": {},
          "output_type": "execute_result"
        }
      ],
      "source": [
        "top_5_lowest_rentals = bike_df[['dteday', 'hr', 'cnt_hour']].nsmallest(5, 'cnt_hour')\n",
        "print(\"\\n5 Waktu dengan Penyewaan Sepeda Terendah:\")\n",
        "top_5_lowest_rentals"
      ]
    },
    {
      "cell_type": "markdown",
      "metadata": {
        "id": "w8PYSK5n5bv9"
      },
      "source": [
        "##### Simpan hasil pemrosesan data"
      ]
    },
    {
      "cell_type": "code",
      "execution_count": 91,
      "metadata": {
        "id": "2HjljR815cLA"
      },
      "outputs": [],
      "source": [
        "bike_df.to_csv('bike.csv', index=False)"
      ]
    },
    {
      "cell_type": "markdown",
      "metadata": {
        "id": "zsyZjqak8DC2"
      },
      "source": [
        "## Visualization & Explanatory Analysis 🖼️"
      ]
    },
    {
      "cell_type": "markdown",
      "metadata": {
        "id": "HZxOiQ6n8DC2"
      },
      "source": [
        "### Pertanyaan 1: Bagaimana Tren Penyewaan Sepeda Sepanjang Hari?"
      ]
    },
    {
      "cell_type": "code",
      "execution_count": 92,
      "metadata": {
        "colab": {
          "base_uri": "https://localhost:8080/",
          "height": 487
        },
        "id": "1swJUdAD8DC2",
        "outputId": "f8bb0365-0209-403d-b47c-f12b876fe10d"
      },
      "outputs": [
        {
          "data": {
            "image/png": "[encoded data removed]",
            "text/plain": [
              "<Figure size 1200x500 with 1 Axes>"
            ]
          },
          "metadata": {},
          "output_type": "display_data"
        }
      ],
      "source": [
        "plt.figure(figsize=(12, 5))\n",
        "sns.lineplot(x='hr', y='cnt_hour', data=bike_df, marker='o', markersize=8, markevery=4, linestyle='-', color='b')\n",
        "plt.xlabel('Jam')\n",
        "plt.ylabel('Jumlah rata rata Penyewaan')\n",
        "plt.title('Grafik Tren Penyewaan Sepeda Sepanjang Hari')\n",
        "plt.grid(True)\n",
        "plt.show()"
      ]
    },
    {
      "cell_type": "markdown",
      "metadata": {
        "id": "DgHI7CiU8DC2"
      },
      "source": [
        "### Pertanyaan 2:  Bagaimana Pola Penyewaan Sepeda Selama perminggu dan perbulannya?"
      ]
    },
    {
      "cell_type": "code",
      "execution_count": 93,
      "metadata": {
        "id": "Go0lCsvO8DC2"
      },
      "outputs": [],
      "source": [
        "bike_df['weekday_day'] = pd.Categorical(bike_df['weekday_day'], categories=[0, 1, 2, 3, 4, 5, 6], ordered=True)\n",
        "bike_df['mnth_day'] = pd.Categorical(bike_df['mnth_day'], categories=range(1, 13), ordered=True)\n",
        "weekday_counts = bike_df.groupby('weekday_day', observed=False)['cnt_hour'].sum().reset_index()\n",
        "month_counts = bike_df.groupby('mnth_day', observed=False)['cnt_hour'].sum().reset_index()\n",
        "top3_weekday = weekday_counts.nlargest(3, 'cnt_hour')['weekday_day'].values\n",
        "top3_month = month_counts.nlargest(3, 'cnt_hour')['mnth_day'].values\n",
        "\n",
        "base_color = '#f4a582'\n",
        "highlight_color = '#b2182b'\n",
        "weekday_colors = [highlight_color if x in top3_weekday else base_color for x in weekday_counts['weekday_day']]\n",
        "month_colors = [highlight_color if x in top3_month else base_color for x in month_counts['mnth_day']]"
      ]
    },
    {
      "cell_type": "code",
      "execution_count": 94,
      "metadata": {
        "colab": {
          "base_uri": "https://localhost:8080/",
          "height": 607
        },
        "id": "o5lhTu0A1X3A",
        "outputId": "730b33fd-7992-498b-c019-e9bf96f3dede"
      },
      "outputs": [
        {
          "data": {
            "image/png": "[encoded data removed]",
            "text/plain": [
              "<Figure size 1400x600 with 2 Axes>"
            ]
          },
          "metadata": {},
          "output_type": "display_data"
        }
      ],
      "source": [
        "plt.figure(figsize=(14, 6))\n",
        "plt.subplot(1, 2, 1)\n",
        "sns.barplot(x='weekday_day', y='cnt_hour', hue='weekday_day', data=weekday_counts, palette=weekday_colors, legend=False)\n",
        "plt.title(\"Pola Penyewaan Sepeda per Hari dalam Seminggu\")\n",
        "plt.xlabel(\"Hari dalam Seminggu (mulai dari minggu 0 sampai sabtu 6)\")\n",
        "plt.ylabel(\"Jumlah Penyewaan\")\n",
        "\n",
        "plt.subplot(1, 2, 2)\n",
        "sns.barplot(x='mnth_day', y='cnt_hour', hue='mnth_day', data=month_counts, palette=month_colors, legend=False)\n",
        "plt.title(\"Pola Penyewaan Sepeda per Bulan\")\n",
        "plt.xlabel(\"Bulan\")\n",
        "plt.ylabel(\"Jumlah Penyewaan\")\n",
        "plt.tight_layout()\n",
        "plt.show()"
      ]
    },
    {
      "cell_type": "markdown",
      "metadata": {
        "id": "kZQ3iJ-t54GJ"
      },
      "source": [
        "### Pertanyaan 3: Bagaimana Distribusi Penyewaan Sepeda Berdasarkan Musim?"
      ]
    },
    {
      "cell_type": "code",
      "execution_count": 95,
      "metadata": {
        "id": "bfrcU8YVxwbU"
      },
      "outputs": [],
      "source": [
        "season_counts = bike_df.groupby('season_day', observed=False)['cnt_hour'].sum()\n",
        "custom_colors = ['#488f31', '#86b970', '#f7e384', '#f09452']\n",
        "season_labels = {\n",
        "    1: 'Spring',2: 'Summer', 3: 'Fall', 4: 'Winter'\n",
        "}"
      ]
    },
    {
      "cell_type": "code",
      "execution_count": 96,
      "metadata": {
        "colab": {
          "base_uri": "https://localhost:8080/",
          "height": 675
        },
        "id": "q1HFwfgL53pI",
        "outputId": "1f91d607-535e-4b15-bdff-3166ea21fce6"
      },
      "outputs": [
        {
          "data": {
            "image/png": "[encoded data removed]",
            "text/plain": [
              "<Figure size 800x800 with 1 Axes>"
            ]
          },
          "metadata": {},
          "output_type": "display_data"
        }
      ],
      "source": [
        "season_labels_mapped = [season_labels[s] for s in season_counts.index]\n",
        "plt.figure(figsize=(8, 8))\n",
        "plt.pie(season_counts, labels=season_labels_mapped, autopct='%1.1f%%', colors=custom_colors, startangle=140)\n",
        "plt.title('Distribusi Penyewaan Sepeda Berdasarkan Musim')\n",
        "plt.legend(title='Musim', loc=\"upper right\")\n",
        "plt.show()"
      ]
    },
    {
      "cell_type": "markdown",
      "metadata": {
        "id": "Vnz8u9Pm55Lz"
      },
      "source": [
        "### Pertanyaan 4: Bagaimana Perbandingan Penyewaan Sepeda Antara Pengguna Kasual dan Terdaftar?"
      ]
    },
    {
      "cell_type": "code",
      "execution_count": 97,
      "metadata": {
        "colab": {
          "base_uri": "https://localhost:8080/",
          "height": 487
        },
        "id": "Y9-bVIPE54pQ",
        "outputId": "2d494f78-a9d3-4f14-c6f1-28364671d394"
      },
      "outputs": [
        {
          "data": {
            "image/png": "[encoded data removed]",
            "text/plain": [
              "<Figure size 1200x500 with 1 Axes>"
            ]
          },
          "metadata": {},
          "output_type": "display_data"
        }
      ],
      "source": [
        "plt.figure(figsize=(12, 5))\n",
        "sns.lineplot(x='hr', y='casual_hour', data=bike_df, label='Casual', marker='o', markevery=4, color='r')\n",
        "sns.lineplot(x='hr', y='registered_hour', data=bike_df, label='Registered', marker='o', markevery=4, color='g')\n",
        "plt.xlabel('Jam')\n",
        "plt.ylabel('Jumlah Penyewaan')\n",
        "plt.title('Distribusi Penyewaan Sepeda: Casual vs Registered Users')\n",
        "plt.legend()\n",
        "plt.grid(True)\n",
        "plt.show()"
      ]
    },
    {
      "cell_type": "markdown",
      "metadata": {
        "id": "bVpfvGbY58iw"
      },
      "source": [
        "### Pertanyaan 5: Pada Hari Apa Penyewaan Sepeda Mencapai Jumlah Tertinggi dan Terendah?"
      ]
    },
    {
      "cell_type": "code",
      "execution_count": 98,
      "metadata": {
        "colab": {
          "base_uri": "https://localhost:8080/",
          "height": 507
        },
        "id": "YGYVeCYd0ikz",
        "outputId": "9659829b-259b-47af-bd05-edb4c061f6c7"
      },
      "outputs": [
        {
          "data": {
            "image/png": "[encoded data removed]",
            "text/plain": [
              "<Figure size 1400x500 with 2 Axes>"
            ]
          },
          "metadata": {},
          "output_type": "display_data"
        }
      ],
      "source": [
        "daily_rentals = bike_df.groupby('dteday')['cnt_day'].first().reset_index()\n",
        "\n",
        "top10_days = daily_rentals.nlargest(10, 'cnt_day').reset_index(drop=True)\n",
        "plt.figure(figsize=(14, 5))\n",
        "plt.subplot(1, 2, 1)\n",
        "sns.barplot(x=top10_days.index, y='cnt_day', data=top10_days, color='orange')\n",
        "plt.title('Top 10 Hari dengan Penyewaan Tertinggi')\n",
        "plt.xlabel('Hari')\n",
        "plt.ylabel('Jumlah Penyewaan')\n",
        "plt.xticks(ticks=top10_days.index, labels=[d.strftime('%Y-%m-%d') for d in top10_days['dteday']], rotation=45)\n",
        "\n",
        "bottom10_days = daily_rentals.nsmallest(10, 'cnt_day').reset_index(drop=True)\n",
        "plt.subplot(1, 2, 2)\n",
        "sns.barplot(x=bottom10_days.index, y='cnt_day', data=bottom10_days, color='lightgreen')\n",
        "plt.title('Top 10 Hari dengan Penyewaan Terendah')\n",
        "plt.xlabel('Hari')\n",
        "plt.ylabel('Jumlah Penyewaan')\n",
        "plt.xticks(ticks=bottom10_days.index, labels=[d.strftime('%Y-%m-%d') for d in bottom10_days['dteday']], rotation=45)\n",
        "plt.tight_layout()\n",
        "plt.show()"
      ]
    },
    {
      "cell_type": "markdown",
      "metadata": {
        "id": "tgncShHP6lqb"
      },
      "source": [
        "## Analisis Lanjutan (Opsional)"
      ]
    },
    {
      "cell_type": "markdown",
      "metadata": {
        "id": "fT2GBb2C6nVb"
      },
      "source": [
        "### Pertanyaan 6: Bagaimana Perilaku Penyewaan Pelanggan Berdasarkan RFM Analysis?"
      ]
    },
    {
      "cell_type": "code",
      "execution_count": 99,
      "metadata": {
        "colab": {
          "base_uri": "https://localhost:8080/",
          "height": 487
        },
        "id": "97QDcYu0-kaG",
        "outputId": "54aa89a4-0a5d-4bea-fefd-7d40e73232cf"
      },
      "outputs": [
        {
          "data": {
            "image/png": "[encoded data removed]",
            "text/plain": [
              "<Figure size 1800x500 with 3 Axes>"
            ]
          },
          "metadata": {},
          "output_type": "display_data"
        }
      ],
      "source": [
        "rfm_df = bike_df.groupby('dteday').agg({'cnt_hour': 'sum', 'casual_hour': 'sum', 'registered_hour': 'sum'}).reset_index()\n",
        "rfm_df['Recency'] = (rfm_df['dteday'].max() - rfm_df['dteday']).dt.days\n",
        "rfm_df['Frequency'] = rfm_df['casual_hour'] + rfm_df['registered_hour']\n",
        "rfm_df['Monetary'] = rfm_df['cnt_hour']\n",
        "\n",
        "fig, axes = plt.subplots(1, 3, figsize=(18, 5))\n",
        "sns.histplot(rfm_df['Recency'], bins=20, kde=True, ax=axes[0], color='skyblue')\n",
        "axes[0].set_title('Distribusi Recency (Hari Sejak Terakhir Menyewa)')\n",
        "\n",
        "sns.histplot(rfm_df['Frequency'], bins=20, kde=True, ax=axes[1], color='lightcoral')\n",
        "axes[1].set_title('Distribusi Frequency (Frekuensi Penyewaan)')\n",
        "\n",
        "sns.histplot(rfm_df['Monetary'], bins=20, kde=True, ax=axes[2], color='limegreen')\n",
        "axes[2].set_title('Distribusi Monetary (Total Penyewaan)')\n",
        "plt.show()"
      ]
    },
    {
      "cell_type": "markdown",
      "metadata": {
        "id": "0KILz7Rs6vB3"
      },
      "source": [
        "### Pertanyaan 7: Bagaimana Pola Penyewaan Sepeda Berdasarkan Kategori Waktu?"
      ]
    },
    {
      "cell_type": "code",
      "execution_count": 100,
      "metadata": {
        "id": "fdmErj9i61HW"
      },
      "outputs": [],
      "source": [
        "def kategori_waktu(jam):\n",
        "    if 0 <= jam <= 4:\n",
        "        return \"Tengah Malam\"\n",
        "    elif 5 <= jam <= 10:\n",
        "        return \"Pagi\"\n",
        "    elif 11 <= jam <= 14:\n",
        "        return \"Siang\"\n",
        "    elif 15 <= jam <= 18:\n",
        "        return \"Sore\"\n",
        "    else:\n",
        "        return \"Malam\""
      ]
    },
    {
      "cell_type": "code",
      "execution_count": 101,
      "metadata": {
        "id": "1TqIWJPYirsF"
      },
      "outputs": [],
      "source": [
        "bike_df['Kategori Waktu'] = bike_df['hr'].apply(kategori_waktu)\n",
        "pola_waktu_df = bike_df.groupby('Kategori Waktu')['cnt_hour'].sum().reset_index()\n",
        "pola_waktu_df.rename(columns={'cnt_hour': 'Jumlah Penyewa'}, inplace=True)\n",
        "kategori_urutan = [\"Tengah Malam\", \"Pagi\", \"Siang\", \"Sore\", \"Malam\"]\n",
        "pola_waktu_df['Kategori Waktu'] = pd.Categorical(pola_waktu_df['Kategori Waktu'], categories=kategori_urutan, ordered=True)\n",
        "pola_waktu_df = pola_waktu_df.sort_values('Kategori Waktu')\n",
        "custom_colors = ['#de425b', '#d2c69e', '#85a776', '#488f31', '#d48d5c']"
      ]
    },
    {
      "cell_type": "code",
      "execution_count": 102,
      "metadata": {
        "colab": {
          "base_uri": "https://localhost:8080/",
          "height": 565
        },
        "id": "jstOybqEqX6T",
        "outputId": "ab7c79b3-3099-47aa-c227-106c532f0800"
      },
      "outputs": [
        {
          "data": {
            "image/png": "[encoded data removed]",
            "text/plain": [
              "<Figure size 1000x600 with 1 Axes>"
            ]
          },
          "metadata": {},
          "output_type": "display_data"
        }
      ],
      "source": [
        "plt.figure(figsize=(10, 6))\n",
        "sns.barplot(y='Kategori Waktu', x='Jumlah Penyewa', hue='Kategori Waktu', data=pola_waktu_df, palette=custom_colors, legend=False)\n",
        "plt.title(\"Pola Penyewaan Sepeda Berdasarkan Waktu\", fontsize=14, fontweight=\"bold\")\n",
        "plt.ylabel(\"Kategori Waktu\")\n",
        "plt.xlabel(\"Total Penyewaan\")\n",
        "plt.show()"
      ]
    },
    {
      "cell_type": "code",
      "execution_count": 103,
      "metadata": {
        "colab": {
          "base_uri": "https://localhost:8080/",
          "height": 218
        },
        "id": "E_GXAi4UotYf",
        "outputId": "e3e5d485-a8a1-42a6-f81a-64116a3539cd"
      },
      "outputs": [
        {
          "data": {
            "image/png": "[encoded data removed]",
            "text/plain": [
              "<Figure size 800x200 with 1 Axes>"
            ]
          },
          "metadata": {},
          "output_type": "display_data"
        }
      ],
      "source": [
        "fig, ax = plt.subplots(figsize=(8, 2))\n",
        "ax.axis('off')\n",
        "table = ax.table(cellText=pola_waktu_df.values.tolist(), colLabels=pola_waktu_df.columns, loc='center', cellLoc='center')\n",
        "for (i, j), cell in table.get_celld().items():\n",
        "    if i == 0:\n",
        "        cell.set_text_props(weight='bold')\n",
        "        cell.set_facecolor('#4CAF50')\n",
        "    else:\n",
        "        cell.set_facecolor('#f9f9f9')\n",
        "\n",
        "plt.title(\"Pola Penyewaan Sepeda Berdasarkan Waktu\", fontsize=12, fontweight=\"bold\", pad=10)\n",
        "plt.show()"
      ]
    },
    {
      "cell_type": "markdown",
      "metadata": {
        "id": "_WeHlCeX8DC2"
      },
      "source": [
        "## Conclusion 🎁"
      ]
    },
    {
      "cell_type": "markdown",
      "metadata": {
        "id": "1DlZGCDAEf5s"
      },
      "source": [
        "### **1️⃣ Rincian Jam dengan Rata-rata Jumlah Penyewaan**"
      ]
    },
    {
      "cell_type": "code",
      "execution_count": 104,
      "metadata": {
        "colab": {
          "base_uri": "https://localhost:8080/",
          "height": 802
        },
        "id": "7XeVoIGuEA5k",
        "outputId": "2f4e0224-96ee-4292-8872-4bf615ba924c"
      },
      "outputs": [
        {
          "data": {
            "text/html": [
              "<div>\n",
              "<style scoped>\n",
              "    .dataframe tbody tr th:only-of-type {\n",
              "        vertical-align: middle;\n",
              "    }\n",
              "\n",
              "    .dataframe tbody tr th {\n",
              "        vertical-align: top;\n",
              "    }\n",
              "\n",
              "    .dataframe thead th {\n",
              "        text-align: right;\n",
              "    }\n",
              "</style>\n",
              "<table border=\"1\" class=\"dataframe\">\n",
              "  <thead>\n",
              "    <tr style=\"text-align: right;\">\n",
              "      <th></th>\n",
              "      <th>Jam</th>\n",
              "      <th>Rata-rata Penyewaan</th>\n",
              "    </tr>\n",
              "  </thead>\n",
              "  <tbody>\n",
              "    <tr>\n",
              "      <th>0</th>\n",
              "      <td>0</td>\n",
              "      <td>54</td>\n",
              "    </tr>\n",
              "    <tr>\n",
              "      <th>1</th>\n",
              "      <td>1</td>\n",
              "      <td>33</td>\n",
              "    </tr>\n",
              "    <tr>\n",
              "      <th>2</th>\n",
              "      <td>2</td>\n",
              "      <td>23</td>\n",
              "    </tr>\n",
              "    <tr>\n",
              "      <th>3</th>\n",
              "      <td>3</td>\n",
              "      <td>12</td>\n",
              "    </tr>\n",
              "    <tr>\n",
              "      <th>4</th>\n",
              "      <td>4</td>\n",
              "      <td>6</td>\n",
              "    </tr>\n",
              "    <tr>\n",
              "      <th>5</th>\n",
              "      <td>5</td>\n",
              "      <td>20</td>\n",
              "    </tr>\n",
              "    <tr>\n",
              "      <th>6</th>\n",
              "      <td>6</td>\n",
              "      <td>76</td>\n",
              "    </tr>\n",
              "    <tr>\n",
              "      <th>7</th>\n",
              "      <td>7</td>\n",
              "      <td>212</td>\n",
              "    </tr>\n",
              "    <tr>\n",
              "      <th>8</th>\n",
              "      <td>8</td>\n",
              "      <td>359</td>\n",
              "    </tr>\n",
              "    <tr>\n",
              "      <th>9</th>\n",
              "      <td>9</td>\n",
              "      <td>219</td>\n",
              "    </tr>\n",
              "    <tr>\n",
              "      <th>10</th>\n",
              "      <td>10</td>\n",
              "      <td>174</td>\n",
              "    </tr>\n",
              "    <tr>\n",
              "      <th>11</th>\n",
              "      <td>11</td>\n",
              "      <td>208</td>\n",
              "    </tr>\n",
              "    <tr>\n",
              "      <th>12</th>\n",
              "      <td>12</td>\n",
              "      <td>253</td>\n",
              "    </tr>\n",
              "    <tr>\n",
              "      <th>13</th>\n",
              "      <td>13</td>\n",
              "      <td>254</td>\n",
              "    </tr>\n",
              "    <tr>\n",
              "      <th>14</th>\n",
              "      <td>14</td>\n",
              "      <td>241</td>\n",
              "    </tr>\n",
              "    <tr>\n",
              "      <th>15</th>\n",
              "      <td>15</td>\n",
              "      <td>251</td>\n",
              "    </tr>\n",
              "    <tr>\n",
              "      <th>16</th>\n",
              "      <td>16</td>\n",
              "      <td>312</td>\n",
              "    </tr>\n",
              "    <tr>\n",
              "      <th>17</th>\n",
              "      <td>17</td>\n",
              "      <td>461</td>\n",
              "    </tr>\n",
              "    <tr>\n",
              "      <th>18</th>\n",
              "      <td>18</td>\n",
              "      <td>426</td>\n",
              "    </tr>\n",
              "    <tr>\n",
              "      <th>19</th>\n",
              "      <td>19</td>\n",
              "      <td>312</td>\n",
              "    </tr>\n",
              "    <tr>\n",
              "      <th>20</th>\n",
              "      <td>20</td>\n",
              "      <td>226</td>\n",
              "    </tr>\n",
              "    <tr>\n",
              "      <th>21</th>\n",
              "      <td>21</td>\n",
              "      <td>172</td>\n",
              "    </tr>\n",
              "    <tr>\n",
              "      <th>22</th>\n",
              "      <td>22</td>\n",
              "      <td>131</td>\n",
              "    </tr>\n",
              "    <tr>\n",
              "      <th>23</th>\n",
              "      <td>23</td>\n",
              "      <td>88</td>\n",
              "    </tr>\n",
              "  </tbody>\n",
              "</table>\n",
              "</div>"
            ],
            "text/plain": [
              "   Jam  Rata-rata Penyewaan\n",
              "0    0                   54\n",
              "1    1                   33\n",
              "2    2                   23\n",
              "3    3                   12\n",
              "4    4                    6\n",
              "5    5                   20\n",
              "6    6                   76\n",
              "7    7                  212\n",
              "8    8                  359\n",
              "9    9                  219\n",
              "10  10                  174\n",
              "11  11                  208\n",
              "12  12                  253\n",
              "13  13                  254\n",
              "14  14                  241\n",
              "15  15                  251\n",
              "16  16                  312\n",
              "17  17                  461\n",
              "18  18                  426\n",
              "19  19                  312\n",
              "20  20                  226\n",
              "21  21                  172\n",
              "22  22                  131\n",
              "23  23                   88"
            ]
          },
          "execution_count": 104,
          "metadata": {},
          "output_type": "execute_result"
        }
      ],
      "source": [
        "hourly_avg_rentals = bike_df.groupby('hr', observed=False)['cnt_hour'].mean().round().astype(int).reset_index()\n",
        "hourly_avg_rentals.columns = ['Jam', 'Rata-rata Penyewaan']\n",
        "hourly_avg_rentals"
      ]
    },
    {
      "cell_type": "markdown",
      "metadata": {
        "id": "r4kr9QnTdNh0"
      },
      "source": [
        "Tabel ini menunjukkan bahwa penyewaan sepeda **paling tinggi terjadi pada jam 17:00-18:00,** dengan puncaknya pada jam 17:00 (461 penyewaan), sementara **jam terendah tercatat pada dini hari** (jam 4 pagi, hanya 6 penyewaan).\n",
        "\n",
        "Secara umum, **penyewaan meningkat pada pagi hari (7-9 pagi) dan sore hari (17-18)**, yang mencerminkan tren penggunaan sepeda untuk aktivitas pagi dan sore, seperti berolahraga atau pergi bekerja. Sebaliknya, pada malam hari setelah jam 20:00, permintaan menurun signifikan."
      ]
    },
    {
      "cell_type": "markdown",
      "metadata": {
        "id": "vdvUFe5Gt6Jp"
      },
      "source": [
        "Rekomendasi strategi bisnis yang bisa diterapkan, **untuk jam puncak, pengelola harus memastikan ketersediaan sepeda cukup, terutama pada sore hari,** dan bisa menawarkan promosi di pagi hari untuk menarik lebih banyak pelanggan. **Untuk jam dengan permintaan rendah, seperti dini hari, pengelola bisa mengurangi jumlah sepeda atau mempertimbangkan layanan khusus sesuai permintaan**. Selain itu, fokuskan distribusi sepeda di area dengan permintaan tinggi, seperti pusat kota dan kawasan perkantoran."
      ]
    },
    {
      "cell_type": "markdown",
      "metadata": {
        "id": "-Z4fhuAUdOdj"
      },
      "source": [
        "rekomendasi"
      ]
    },
    {
      "cell_type": "markdown",
      "metadata": {
        "id": "9Hiy6WJHJAqe"
      },
      "source": [
        "## **2️⃣ Pola Penyewaan Sepeda per Hari dan Bulan**"
      ]
    },
    {
      "cell_type": "code",
      "execution_count": 105,
      "metadata": {
        "id": "-sESB7lGK-Np"
      },
      "outputs": [],
      "source": [
        "bike_df['weekday_hour'] = pd.Categorical(bike_df['weekday_hour'], categories=[0,1,2,3,4,5,6], ordered=True)\n",
        "bike_df['month_hour'] = pd.Categorical(bike_df['mnth_hour'], categories=range(1, 13), ordered=True)\n",
        "weekday_mapping = { 0: 'Minggu', 1: 'Senin', 2: 'Selasa', 3: 'Rabu', 4: 'Kamis', 5: 'Jumat', 6: 'Sabtu'}"
      ]
    },
    {
      "cell_type": "code",
      "execution_count": 106,
      "metadata": {
        "colab": {
          "base_uri": "https://localhost:8080/"
        },
        "id": "-PsgT_ybEApr",
        "outputId": "d573809e-87cb-4eb4-e843-a64b9c2d8f58"
      },
      "outputs": [
        {
          "name": "stdout",
          "output_type": "stream",
          "text": [
            "Jumlah Penyewaan Sepeda per Hari\n",
            "     Hari  cnt_hour\n",
            "0  Minggu    444027\n",
            "1   Senin    455503\n",
            "2  Selasa    469109\n",
            "3    Rabu    473048\n",
            "4   Kamis    485395\n",
            "5   Jumat    487790\n",
            "6   Sabtu    477807\n"
          ]
        }
      ],
      "source": [
        "weekday_counts = bike_df.groupby('weekday_hour', observed=False)['cnt_hour'].sum().reset_index()\n",
        "weekday_counts = weekday_counts.rename(columns={'weekday_hour': 'Hari'})\n",
        "weekday_counts['Hari'] = weekday_counts['Hari'].astype('category')\n",
        "weekday_counts['Hari'] = weekday_counts['Hari'].cat.rename_categories(weekday_mapping)\n",
        "print(\"Jumlah Penyewaan Sepeda per Hari\")\n",
        "print(weekday_counts)"
      ]
    },
    {
      "cell_type": "markdown",
      "metadata": {
        "id": "nFpTJhWNdaEZ"
      },
      "source": [
        "Data diatas menunjukkan jumlah penyewaan sepeda per hari dalam seminggu, dengan hari Jumat mencatatkan jumlah penyewaan tertinggi (487.790), diikuti Kamis (485.395), dan Sabtu (477.807). Sementara itu, Minggu memiliki jumlah penyewaan terendah (444.027), yang mungkin dipengaruhi oleh orang-orang yang lebih memilih untuk beristirahat atau melakukan kegiatan lain di akhir pekan."
      ]
    },
    {
      "cell_type": "code",
      "execution_count": 107,
      "metadata": {
        "colab": {
          "base_uri": "https://localhost:8080/"
        },
        "id": "srsG9SpyIRG-",
        "outputId": "e6e425b6-01fe-4a1d-a67a-afc1627093b5"
      },
      "outputs": [
        {
          "name": "stdout",
          "output_type": "stream",
          "text": [
            "\n",
            "Jumlah Penyewaan Sepeda per Bulan\n",
            "        Bulan  Jumlah Penyewaan\n",
            "0     Januari            134933\n",
            "1    Februari            151352\n",
            "2       Maret            228920\n",
            "3       April            269094\n",
            "4         Mei            331686\n",
            "5        Juni            346342\n",
            "6        Juli            344948\n",
            "7     Agustus            351194\n",
            "8   September            345991\n",
            "9     Oktober            322352\n",
            "10   November            254831\n",
            "11   Desember            211036\n"
          ]
        }
      ],
      "source": [
        "month_mapping = {1: 'Januari', 2: 'Februari', 3: 'Maret', 4: 'April', 5: 'Mei', 6: 'Juni', 7: 'Juli', 8: 'Agustus', 9: 'September', 10: 'Oktober', 11: 'November', 12: 'Desember'}\n",
        "month_counts = bike_df.groupby('month_hour', observed=False)['cnt_hour'].sum().reset_index()\n",
        "month_counts.columns = ['Bulan', 'Jumlah Penyewaan']\n",
        "month_counts['Bulan'] = month_counts['Bulan'].astype('category')\n",
        "month_counts['Bulan'] = month_counts['Bulan'].cat.rename_categories(month_mapping)\n",
        "print(\"\\nJumlah Penyewaan Sepeda per Bulan\")\n",
        "print(month_counts)"
      ]
    },
    {
      "cell_type": "markdown",
      "metadata": {
        "id": "-BvyRke2da-N"
      },
      "source": [
        "Data diatas ini menunjukkan jumlah penyewaan sepeda per bulan, dengan bulan Agustus mencatatkan jumlah penyewaan tertinggi (351.194), diikuti bulan Juni dan Juli. Sebaliknya, Desember mencatatkan jumlah penyewaan terendah (211.036), yang mungkin dipengaruhi oleh cuaca yang lebih dingin dan musim liburan."
      ]
    },
    {
      "cell_type": "code",
      "execution_count": 108,
      "metadata": {
        "colab": {
          "base_uri": "https://localhost:8080/"
        },
        "id": "l1WoxIrWcVaG",
        "outputId": "1e77171f-49ed-46d9-98c1-9664746b5dde"
      },
      "outputs": [
        {
          "name": "stdout",
          "output_type": "stream",
          "text": [
            "\n",
            "Jumlah Penyewaan Sepeda per Tahun\n",
            "  Tahun  Jumlah Penyewaan\n",
            "0  2011           1243103\n",
            "1  2012           2049576\n"
          ]
        }
      ],
      "source": [
        "year_counts = bike_df.groupby('yr_hour', observed=False)['cnt_hour'].sum().reset_index()\n",
        "year_counts.columns = ['Tahun', 'Jumlah Penyewaan']\n",
        "year_counts['Tahun'] = year_counts['Tahun'].astype('category')\n",
        "year_counts['Tahun'] = year_counts['Tahun'].cat.rename_categories({0: 2011, 1: 2012})\n",
        "print(\"\\nJumlah Penyewaan Sepeda per Tahun\")\n",
        "print(year_counts)"
      ]
    },
    {
      "cell_type": "markdown",
      "metadata": {
        "id": "-4jxZLpivFkA"
      },
      "source": [
        "Dengan jumlah penyewaan meningkat signifikan dari tahun 2011 (1.243.103) menjadi 2.049.576 pada tahun 2012. Peningkatan ini menunjukkan adanya pertumbuhan yang positif dalam penggunaan sepeda."
      ]
    },
    {
      "cell_type": "markdown",
      "metadata": {
        "id": "fBYN383kdcNG"
      },
      "source": [
        "Berdasarkan analisis pola penyewaan sepeda, terdapat beberapa wawasan yang dapat dimanfaatkan untuk strategi bisnis.\n",
        "\n",
        "1. Pertama, penyewaan sepeda lebih banyak terjadi pada pagi hingga sore hari, dengan puncak pada jam 17-18, yang menunjukkan tingginya permintaan pada jam-jam sibuk, baik di pagi hari maupun saat sore hari setelah bekerja. Oleh karena itu, **pengelola layanan sepeda bisa menyesuaikan operasional dengan menambah jumlah sepeda di titik-titik ramai pada jam-jam tersebut** dan memperkenalkan **paket promosi untuk mendorong penyewaan** pada jam yang lebih rendah.\n",
        "\n",
        "2. Kedua, pola penyewaan menunjukkan adanya kenaikan signifikan pada hari kerja, terutama Kamis dan Jumat, dan penurunan pada hari Minggu. **Pengelola bisa mempertimbangkan untuk memberikan diskon atau promosi khusus pada akhir pekan** untuk meningkatkan penyewaan di hari Minggu yang lebih rendah.\n",
        "\n",
        "3. Terakhir, data penyewaan per bulan menunjukkan tren kenaikan yang stabil, dengan puncaknya terjadi pada bulan Juni hingga Agustus, yang bertepatan dengan liburan musim panas. Untuk mengoptimalkan pendapatan, **pengelola bisa merencanakan strategi promosi yang lebih agresif di bulan-bulan tersebut, seperti paket liburan, serta meningkatkan jumlah sepeda dan lokasi penyewaan di area wisata atau tempat-tempat dengan banyak aktivitas luar ruangan**. Semua strategi ini harus dipadukan dengan peningkatan fasilitas dan pengalaman pengguna untuk menarik dan mempertahankan pelanggan."
      ]
    },
    {
      "cell_type": "markdown",
      "metadata": {
        "id": "RZR-t0llJkf0"
      },
      "source": [
        "## **3️⃣ Distribusi Penyewaan Sepeda Berdasarkan Musim**"
      ]
    },
    {
      "cell_type": "code",
      "execution_count": 109,
      "metadata": {
        "id": "IgnyNvquLFGj"
      },
      "outputs": [],
      "source": [
        "season_mapping = {\n",
        "    1: 'Musim Semi (Spring)',\n",
        "    2: 'Musim Panas (Summer)',\n",
        "    3: 'Musim Gugur (Fall)',\n",
        "    4: 'Musim Dingin (Winter)'\n",
        "}"
      ]
    },
    {
      "cell_type": "code",
      "execution_count": 110,
      "metadata": {
        "colab": {
          "base_uri": "https://localhost:8080/"
        },
        "id": "UvaA_BfiJTEG",
        "outputId": "31d494b7-c90e-44b9-a889-e148be931bf9"
      },
      "outputs": [
        {
          "name": "stdout",
          "output_type": "stream",
          "text": [
            "Distribusi Penyewaan Sepeda Berdasarkan Musim\n",
            "                   Musim  Jumlah Penyewaan  Persentase (%)\n",
            "0    Musim Semi (Spring)            471348       14.315030\n",
            "1   Musim Panas (Summer)            918589       27.897921\n",
            "2     Musim Gugur (Fall)           1061129       32.226919\n",
            "3  Musim Dingin (Winter)            841613       25.560129\n"
          ]
        }
      ],
      "source": [
        "bike_df['season_hour'] = bike_df['season_hour'].astype('category')\n",
        "bike_df['season_hour'] = bike_df['season_hour'].cat.rename_categories(season_mapping)\n",
        "\n",
        "season_counts = bike_df.groupby('season_hour', observed=False)['cnt_hour'].sum().reset_index()\n",
        "season_counts.columns = ['Musim', 'Jumlah Penyewaan']\n",
        "season_counts['Musim'] = season_counts['Musim'].replace(season_mapping)\n",
        "\n",
        "total_rentals = season_counts['Jumlah Penyewaan'].sum()\n",
        "season_counts['Persentase (%)'] = (season_counts['Jumlah Penyewaan'] / total_rentals) * 100\n",
        "print(\"Distribusi Penyewaan Sepeda Berdasarkan Musim\")\n",
        "print(season_counts)"
      ]
    },
    {
      "cell_type": "markdown",
      "metadata": {
        "id": "PhYgsmq-kg1K"
      },
      "source": [
        "Data menunjukkan bahwa musim gugur (fall) memiliki jumlah penyewaan tertinggi, yaitu sekitar 32,23% dari total penyewaan, diikuti oleh musim panas (summer) dengan 27,90%, musim dingin (winter) sebesar 25,56%, dan musim semi (spring) yang paling rendah dengan 14,32%. Hal ini mengindikasikan bahwa **penyewaan sepeda lebih diminati pada musim gugur dan musim panas**, yang mungkin disebabkan oleh cuaca yang lebih bersahabat dan lebih banyak kegiatan luar ruangan"
      ]
    },
    {
      "cell_type": "markdown",
      "metadata": {
        "id": "uPxPIQtdwUaQ"
      },
      "source": [
        "Rekomendasi strategi bisnis yang bisa diterapkan pengelola layanan sepeda dapat menyesuaikan stok sepeda dan fasilitas lebih banyak pada musim-musim tersebut serta mengoptimalkan strategi promosi. Misalnya, **untuk musim panas dan gugur, layanan sepeda bisa menawarkan program berlangganan atau diskon** untuk menarik lebih banyak pelanggan. Sementara **untuk musim semi dan dingin**, perlu adanya penyesuaian dengan memperkenalkan **diskon atau promo menarik** untuk menarik pelanggan, **misalnya paket keluarga atau layanan pengantaran sepeda ke lokasi tertentu** yang lebih nyaman bagi pelanggan **di musim yang lebih dingin**."
      ]
    },
    {
      "cell_type": "markdown",
      "metadata": {
        "id": "DNVD80z7kjfQ"
      },
      "source": [
        "Rekomendasi"
      ]
    },
    {
      "cell_type": "markdown",
      "metadata": {
        "id": "5n6ouKBEJlE8"
      },
      "source": [
        "## **4️⃣ Perbandingan Pengguna Kasual dan Terdaftar dalam Penyewaan**"
      ]
    },
    {
      "cell_type": "code",
      "execution_count": 111,
      "metadata": {
        "colab": {
          "base_uri": "https://localhost:8080/"
        },
        "id": "TAvWKrUOJ0m2",
        "outputId": "783f94b6-af38-435a-d95f-944f9c6c53a4"
      },
      "outputs": [
        {
          "name": "stdout",
          "output_type": "stream",
          "text": [
            "Jumlah Total Penyewaan Kasual, Terdaftar, dan Total Keseluruhan\n",
            "             Tipe Pengguna  Jumlah Penyewaan\n",
            "0  Penyewa Tidak Terdaftar            620017\n",
            "1        Penyewa Terdaftar           2672662\n",
            "2          Total Penyewaan           3292679\n"
          ]
        }
      ],
      "source": [
        "total_counts = bike_df[['casual_hour', 'registered_hour', 'cnt_hour']].sum().reset_index()\n",
        "total_counts.columns = ['Tipe Pengguna', 'Jumlah Penyewaan']\n",
        "total_counts['Tipe Pengguna'] = total_counts['Tipe Pengguna'].replace({\n",
        "    'casual_hour': 'Penyewa Tidak Terdaftar',\n",
        "    'registered_hour': 'Penyewa Terdaftar',\n",
        "    'cnt_hour': 'Total Penyewaan'\n",
        "})\n",
        "print(\"Jumlah Total Penyewaan Kasual, Terdaftar, dan Total Keseluruhan\")\n",
        "print(total_counts)"
      ]
    },
    {
      "cell_type": "markdown",
      "metadata": {
        "id": "h3HIdZeenZXQ"
      },
      "source": [
        "Dari data, penyewa terdaftar mendominasi jumlah penyewaan dengan 2.672.662 penyewaan, sementara penyewa tidak terdaftar hanya 620.017. Total keseluruhan penyewaan mencapai 3.292.679.\n",
        "Hal ini menunjukkan bahwa **pelanggan yang terdaftar lebih sering menggunakan layanan sepeda** dibandingkan dengan yang tidak terdaftar."
      ]
    },
    {
      "cell_type": "markdown",
      "metadata": {
        "id": "aOldK_mSnjyY"
      },
      "source": [
        "Rekomendasi bisnis **fokus pada peningkatan jumlah penyewa terdaftar melalui insentif atau diskon bagi pengguna baru**. Selain itu, beri keuntungan eksklusif untuk penyewa terdaftar dan sediakan kemudahan pendaftaran bagi yang belum terdaftar agar dapat menarik lebih banyak pengguna."
      ]
    },
    {
      "cell_type": "markdown",
      "metadata": {
        "id": "Hip-8r5oKWD_"
      },
      "source": [
        "## **5️⃣ Hari dengan Penyewaan Sepeda Tertinggi dan Terendah**"
      ]
    },
    {
      "cell_type": "code",
      "execution_count": 112,
      "metadata": {
        "colab": {
          "base_uri": "https://localhost:8080/"
        },
        "id": "eTKj6kTsK_cz",
        "outputId": "5d1ddc27-710f-4c61-818f-f1acbef289cb"
      },
      "outputs": [
        {
          "name": "stdout",
          "output_type": "stream",
          "text": [
            "\n",
            "Top 10 Hari dengan Penyewaan Sepeda Tertinggi:\n",
            "     Tanggal  Jumlah Penyewaan\n",
            "0 2012-09-15              8714\n",
            "1 2012-09-29              8555\n",
            "2 2012-09-22              8395\n",
            "3 2012-03-23              8362\n",
            "4 2012-05-19              8294\n",
            "5 2012-09-09              8227\n",
            "6 2012-07-25              8173\n",
            "7 2012-09-21              8167\n",
            "8 2012-10-05              8156\n",
            "9 2012-06-02              8120\n"
          ]
        }
      ],
      "source": [
        "top10_days.columns = ['Tanggal', 'Jumlah Penyewaan']\n",
        "print(\"\\nTop 10 Hari dengan Penyewaan Sepeda Tertinggi:\")\n",
        "print(top10_days)"
      ]
    },
    {
      "cell_type": "markdown",
      "metadata": {
        "id": "AYWM0ub6otg3"
      },
      "source": [
        "Dari data diatas , hari-hari dengan penyewaan sepeda tertinggi terjadi pada tanggal 15 September 2012 dengan 8.714 penyewaan, diikuti oleh beberapa hari lainnya di bulan September 2012, serta beberapa hari di bulan lainnya seperti Maret, Mei, Juli, dan Juni."
      ]
    },
    {
      "cell_type": "code",
      "execution_count": 113,
      "metadata": {
        "colab": {
          "base_uri": "https://localhost:8080/"
        },
        "id": "6TSPeWcGD_5w",
        "outputId": "c067361a-77e1-45e1-9588-6150637d2718"
      },
      "outputs": [
        {
          "name": "stdout",
          "output_type": "stream",
          "text": [
            "\n",
            "Top 10 Hari dengan Penyewaan Sepeda Terendah:\n",
            "     Tanggal  Jumlah Penyewaan\n",
            "0 2012-10-29                22\n",
            "1 2011-01-27               431\n",
            "2 2012-12-26               441\n",
            "3 2011-01-26               506\n",
            "4 2011-03-06               605\n",
            "5 2011-03-10               623\n",
            "6 2011-10-29               627\n",
            "7 2011-01-18               683\n",
            "8 2011-12-07               705\n",
            "9 2011-12-25               754\n"
          ]
        }
      ],
      "source": [
        "top10_lowest_days = daily_rentals.nsmallest(10, 'cnt_day').reset_index(drop=True)\n",
        "top10_lowest_days.columns = ['Tanggal', 'Jumlah Penyewaan']\n",
        "print(\"\\nTop 10 Hari dengan Penyewaan Sepeda Terendah:\")\n",
        "print(top10_lowest_days)"
      ]
    },
    {
      "cell_type": "markdown",
      "metadata": {
        "id": "xoMhxzfIovPh"
      },
      "source": [
        "Dari data diatas, hari-hari dengan penyewaan sepeda terendah terjadi pada tanggal 29 Oktober 2012 dengan hanya 22 penyewaan, diikuti oleh beberapa hari lainnya di bulan Januari, Maret, Desember 2011, dan Desember 2012, yang menunjukkan jumlah penyewaan yang sangat rendah."
      ]
    },
    {
      "cell_type": "markdown",
      "metadata": {
        "id": "_FY_OZRcowf7"
      },
      "source": [
        "Untuk mengoptimalkan operasional layanan penyewaan sepeda, penting untuk memperhatikan pola penyewaan berdasarkan hari dan musim. Penyewaan cenderung lebih tinggi pada hari-hari tertentu, seperti pada akhir pekan dan musim panas, sementara hari-hari tertentu seperti liburan atau cuaca buruk menunjukkan penurunan signifikan. Oleh karena itu, strategi bisnis yang dapat diterapkan termasuk **memberikan diskon atau promosi pada hari dengan penyewaan rendah**, serta **meningkatkan ketersediaan sepeda dan sumber daya pada hari dengan permintaan tinggi.** Selain itu, memanfaatkan analisis musim untuk menyesuaikan penawaran dan kampanye pemasaran juga dapat membantu memaksimalkan penyewaan sepanjang tahun."
      ]
    },
    {
      "cell_type": "markdown",
      "metadata": {
        "id": "cAZQJsFfKYXv"
      },
      "source": [
        "## **6️⃣ Segmentasi Pelanggan Berdasarkan RFM Analysis**"
      ]
    },
    {
      "cell_type": "markdown",
      "metadata": {
        "id": "XDUCCWgfKeuG"
      },
      "source": [
        "### **Recency (R)** Seberapa baru pelanggan terakhir menyewa sepeda"
      ]
    },
    {
      "cell_type": "code",
      "execution_count": 114,
      "metadata": {
        "colab": {
          "base_uri": "https://localhost:8080/"
        },
        "id": "DClt1jeCD_mv",
        "outputId": "45834aba-161a-4a09-e928-7799507a9d2b"
      },
      "outputs": [
        {
          "name": "stdout",
          "output_type": "stream",
          "text": [
            "10 Pelanggan dengan Recency Tertinggi (Paling Lama Tidak Menyewa)\n",
            "    registered_day  Recency\n",
            "9              654      730\n",
            "11             670      729\n",
            "41            1229      728\n",
            "71            1518      725\n",
            "50            1362      724\n",
            "21             891      723\n",
            "14             768      722\n",
            "44            1280      721\n",
            "39            1220      720\n",
            "34            1137      719\n",
            "10 Pelanggan dengan Recency Terendah (Paling Baru Menyewa)\n",
            "     registered_day  Recency\n",
            "145            2290        0\n",
            "58             1432        1\n",
            "36             1182        2\n",
            "163            2451        3\n",
            "111            1867        4\n",
            "2               432        5\n",
            "7               573        6\n",
            "13              746        7\n",
            "55             1379        8\n",
            "73             1544        9\n"
          ]
        }
      ],
      "source": [
        "recency_df = bike_df.groupby('registered_day')['dteday'].max().reset_index()\n",
        "recency_df['Recency'] = (pd.to_datetime(day_df['dteday'].max()) - pd.to_datetime(recency_df['dteday'])).dt.days\n",
        "recency_df = recency_df[['registered_day', 'Recency']]\n",
        "\n",
        "recency_high = recency_df.sort_values(by='Recency', ascending=False).head(10)\n",
        "recency_low = recency_df.sort_values(by='Recency', ascending=True).head(10)\n",
        "print(\"10 Pelanggan dengan Recency Tertinggi (Paling Lama Tidak Menyewa)\")\n",
        "print(recency_high)\n",
        "print(\"10 Pelanggan dengan Recency Terendah (Paling Baru Menyewa)\")\n",
        "print(recency_low)"
      ]
    },
    {
      "cell_type": "markdown",
      "metadata": {
        "id": "svH1VZXtwdm_"
      },
      "source": [
        "Data diatas menunjukkan bahwa **sebagian besar pelanggan yang terakhir menyewa sepeda dalam waktu yang sangat dekat** adalah pengguna baru. Di sisi lain, pelanggan dengan recency tinggi menunjukkan bahwa mereka sudah lama tidak menggunakan layanan.\n",
        "\n",
        "Untuk pelanggan dengan recency rendah (paling baru menyewa), pendekatan yang dapat dilakukan adalah memberikan penawaran atau insentif untuk mendorong mereka melakukan penyewaan berulang, misalnya dengan memberikan potongan harga atau promosi untuk mereka yang menyewa dalam waktu dekat."
      ]
    },
    {
      "cell_type": "markdown",
      "metadata": {
        "id": "6wDmV-1VKjIX"
      },
      "source": [
        "### **Frequency (F)** Seberapa sering pelanggan melakukan penyewaan"
      ]
    },
    {
      "cell_type": "code",
      "execution_count": 115,
      "metadata": {
        "colab": {
          "base_uri": "https://localhost:8080/"
        },
        "id": "UmLPDO3lD-W5",
        "outputId": "dcb71b22-0906-4314-d4f4-998d0aec480c"
      },
      "outputs": [
        {
          "name": "stdout",
          "output_type": "stream",
          "text": [
            "10 Pelanggan dengan Frequency Tertinggi (Paling Sering Menyewa)\n",
            "     Pelanggan  Frequency\n",
            "634       6248         72\n",
            "513       4841         72\n",
            "95        1707         70\n",
            "387       3840         48\n",
            "159       2419         48\n",
            "422       4044         48\n",
            "449       4232         48\n",
            "476       4446         48\n",
            "474       4429         48\n",
            "237       3107         48\n",
            "10 Pelanggan dengan Frequency Terendah (Paling Jarang Menyewa)\n",
            "     Pelanggan  Frequency\n",
            "0           20          1\n",
            "1          416          8\n",
            "29        1009         11\n",
            "4          472         16\n",
            "219       2919         17\n",
            "20         889         18\n",
            "54        1376         18\n",
            "39        1220         22\n",
            "41        1229         22\n",
            "51        1365         22\n"
          ]
        }
      ],
      "source": [
        "frequency_df = bike_df.groupby('registered_day')['cnt_day'].count().reset_index()\n",
        "frequency_df.columns = ['Pelanggan', 'Frequency']\n",
        "frequency_high = frequency_df.sort_values(by='Frequency', ascending=False).head(10)\n",
        "frequency_low = frequency_df.sort_values(by='Frequency', ascending=True).head(10)\n",
        "print(\"10 Pelanggan dengan Frequency Tertinggi (Paling Sering Menyewa)\")\n",
        "print(frequency_high)\n",
        "print(\"10 Pelanggan dengan Frequency Terendah (Paling Jarang Menyewa)\")\n",
        "print(frequency_low)"
      ]
    },
    {
      "cell_type": "markdown",
      "metadata": {
        "id": "1fQdsY0Y2jdt"
      },
      "source": [
        "Hasil dari ada diatas  menunjukkan pelanggan dengan penyewaan sering (high frequency) adalah pelanggan loyal. Untuk mereka, program loyalitas dan reward bisa diterapkan untuk meningkatkan kepuasan dan frekuensi sewa. Sedangkan untuk pelanggan jarang menyewa (low frequency), menawarkan diskon atau paket menarik bisa menjadi strategi untuk menarik mereka kembali dan meningkatkan frekuensi penyewaan."
      ]
    },
    {
      "cell_type": "markdown",
      "metadata": {
        "id": "SaFbumuRKkBL"
      },
      "source": [
        "\n",
        "### **Monetary (M)** Total jumlah penyewaan yang dilakukan oleh pelanggan"
      ]
    },
    {
      "cell_type": "code",
      "execution_count": 116,
      "metadata": {
        "colab": {
          "base_uri": "https://localhost:8080/"
        },
        "id": "__Kk63evD-Nd",
        "outputId": "9e9ffe66-2eec-429a-f81e-3765a74157f1"
      },
      "outputs": [
        {
          "name": "stdout",
          "output_type": "stream",
          "text": [
            "10 Pelanggan dengan Frequency Tertinggi (Paling Sering Menyewa)\n",
            "     Pelanggan  Frequency\n",
            "634       6248         72\n",
            "513       4841         72\n",
            "95        1707         70\n",
            "387       3840         48\n",
            "159       2419         48\n",
            "422       4044         48\n",
            "449       4232         48\n",
            "476       4446         48\n",
            "474       4429         48\n",
            "237       3107         48\n",
            "10 Pelanggan dengan Frequency Terendah (Paling Jarang Menyewa)\n",
            "     Pelanggan  Frequency\n",
            "0           20          1\n",
            "1          416          8\n",
            "29        1009         11\n",
            "4          472         16\n",
            "219       2919         17\n",
            "20         889         18\n",
            "54        1376         18\n",
            "39        1220         22\n",
            "41        1229         22\n",
            "51        1365         22\n"
          ]
        }
      ],
      "source": [
        "frequency_df = bike_df.groupby('registered_day')['cnt_day'].count().reset_index()\n",
        "frequency_df.columns = ['Pelanggan', 'Frequency']\n",
        "frequency_high = frequency_df.sort_values(by='Frequency', ascending=False).head(10)\n",
        "frequency_low = frequency_df.sort_values(by='Frequency', ascending=True).head(10)\n",
        "print(\"10 Pelanggan dengan Frequency Tertinggi (Paling Sering Menyewa)\")\n",
        "print(frequency_high)\n",
        "print(\"10 Pelanggan dengan Frequency Terendah (Paling Jarang Menyewa)\")\n",
        "print(frequency_low)"
      ]
    },
    {
      "cell_type": "markdown",
      "metadata": {
        "id": "w5nldnPp5121"
      },
      "source": [
        "Pelanggan dengan Monetary tertinggi adalah pelanggan yang secara konsisten menghasilkan pendapatan tinggi, dan mereka bisa diberikan penghargaan berupa diskon eksklusif atau layanan premium. Untuk pelanggan dengan Monetary terendah, memberikan penawaran atau promosi menarik bisa meningkatkan pengeluaran mereka dan meningkatkan loyalitas."
      ]
    },
    {
      "cell_type": "markdown",
      "metadata": {
        "id": "8axpD00dK3XH"
      },
      "source": [
        "## **7️⃣ Pola Penyewaan Sepeda Berdasarkan Kategori Waktu**"
      ]
    },
    {
      "cell_type": "code",
      "execution_count": 117,
      "metadata": {
        "id": "gZHcs3tXpH14"
      },
      "outputs": [],
      "source": [
        "def kategori_waktu(jam):\n",
        "    if 0 <= jam <= 4:\n",
        "        return \"Tengah Malam\"\n",
        "    elif 5 <= jam <= 10:\n",
        "        return \"Pagi\"\n",
        "    elif 11 <= jam <= 14:\n",
        "        return \"Siang\"\n",
        "    elif 15 <= jam <= 18:\n",
        "        return \"Sore\"\n",
        "    else:\n",
        "        return \"Malam\""
      ]
    },
    {
      "cell_type": "code",
      "execution_count": 118,
      "metadata": {
        "colab": {
          "base_uri": "https://localhost:8080/"
        },
        "id": "NIDWzLrdpORE",
        "outputId": "646da94b-4239-400c-adfc-8fbed8a87b1b"
      },
      "outputs": [
        {
          "name": "stdout",
          "output_type": "stream",
          "text": [
            "  Kategori Waktu  Jumlah Penyewa\n",
            "4   Tengah Malam           92248\n",
            "1           Pagi          770260\n",
            "2          Siang          696305\n",
            "3           Sore         1057529\n",
            "0          Malam          676337\n"
          ]
        }
      ],
      "source": [
        "hour_df['Kategori Waktu'] = hour_df['hr'].apply(kategori_waktu)\n",
        "pola_waktu_df = hour_df.groupby('Kategori Waktu')['cnt'].sum().reset_index()\n",
        "pola_waktu_df.rename(columns={'cnt': 'Jumlah Penyewa'}, inplace=True)\n",
        "kategori_urutan = [\"Tengah Malam\", \"Pagi\", \"Siang\", \"Sore\", \"Malam\"]\n",
        "pola_waktu_df['Kategori Waktu'] = pd.Categorical(pola_waktu_df['Kategori Waktu'], categories=kategori_urutan, ordered=True)\n",
        "pola_waktu_df = pola_waktu_df.sort_values('Kategori Waktu')\n",
        "print(pola_waktu_df)"
      ]
    },
    {
      "cell_type": "markdown",
      "metadata": {
        "id": "6b9ZpQV46GXt"
      },
      "source": [
        "Dari data diatas menunjukkan bahwa waktu sore memiliki jumlah penyewaan tertinggi, diikuti oleh pagi, malam, tengah malam, dan siang. Hal ini mengindikasikan bahwa **pelanggan lebih banyak menyewa sepeda pada waktu sore hari, mungkin karena cuaca yang lebih nyaman atau lebih banyak aktivitas di luar**."
      ]
    },
    {
      "cell_type": "markdown",
      "metadata": {
        "id": "_ndpuQCi6enx"
      },
      "source": [
        " Oleh karena itu, pengelola layanan sepeda dapat memfokuskan promosi pada sore hari untuk memaksimalkan penyewaan, seperti dengan memberikan diskon atau paket langganan. Untuk periode pagi dan siang, dapat dilakukan pemasaran untuk menarik pekerja atau wisatawan, misalnya dengan menawarkan harga spesial. Sementara itu, untuk malam dan tengah malam, layanan khusus seperti tur malam atau penyewaan sepeda untuk acara bisa menjadi strategi untuk meningkatkan penyewaan."
      ]
    }
  ],
  "metadata": {
    "colab": {
      "provenance": []
    },
    "kernelspec": {
      "display_name": "Python 3",
      "language": "python",
      "name": "python3"
    },
    "language_info": {
      "codemirror_mode": {
        "name": "ipython",
        "version": 3
      },
      "file_extension": ".py",
      "mimetype": "text/x-python",
      "name": "python",
      "nbconvert_exporter": "python",
      "pygments_lexer": "ipython3",
      "version": "3.12.4"
    },
    "orig_nbformat": 4,
    "vscode": {
      "interpreter": {
        "hash": "972b3bf27e332e87b5379f2791f6ef9dfc79c71018c370b0d7423235e20fe4d7"
      }
    }
  },
  "nbformat": 4,
  "nbformat_minor": 0
}
